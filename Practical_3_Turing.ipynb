{
  "nbformat": 4,
  "nbformat_minor": 0,
  "metadata": {
    "kernelspec": {
      "display_name": "Python 3",
      "language": "python",
      "name": "python3"
    },
    "language_info": {
      "codemirror_mode": {
        "name": "ipython",
        "version": 3
      },
      "file_extension": ".py",
      "mimetype": "text/x-python",
      "name": "python",
      "nbconvert_exporter": "python",
      "pygments_lexer": "ipython3",
      "version": "3.9.0"
    },
    "colab": {
      "name": "Practical_3_Turing.ipynb",
      "provenance": [],
      "include_colab_link": true
    }
  },
  "cells": [
    {
      "cell_type": "markdown",
      "metadata": {
        "id": "view-in-github",
        "colab_type": "text"
      },
      "source": [
        "<a href=\"https://colab.research.google.com/github/Martim-21805485/IASolucoes/blob/main/Practical_3_Turing.ipynb\" target=\"_parent\"><img src=\"https://colab.research.google.com/assets/colab-badge.svg\" alt=\"Open In Colab\"/></a>"
      ]
    },
    {
      "cell_type": "code",
      "metadata": {
        "id": "sgNquYYtM-RT"
      },
      "source": [
        "import os\n",
        "import csv"
      ],
      "execution_count": null,
      "outputs": []
    },
    {
      "cell_type": "code",
      "metadata": {
        "id": "HuH2XakoM-RU"
      },
      "source": [
        "# here i am making sure I am pointing to the directory where\n",
        "# i have the data and stuff I will use in this code.\n",
        "# for this Turing machine I am storing the 'program' as a CSV\n",
        "# change this according to your directory structure\n",
        "os.chdir('/Users/.../Dropbox/Teaching/AI-2020/Practical_1/')\n",
        "os.getcwd()"
      ],
      "execution_count": null,
      "outputs": []
    },
    {
      "cell_type": "code",
      "metadata": {
        "id": "LBg5mjgrM-RV"
      },
      "source": [
        ""
      ],
      "execution_count": null,
      "outputs": []
    },
    {
      "cell_type": "markdown",
      "metadata": {
        "id": "tXhXk7EEM-RV"
      },
      "source": [
        "Definições:\n",
        "\n",
        "maquina é uma lista com dois elementos, a posição onde esta na fita, e o seu estado interno\n",
        "a tape e uma lista\n",
        "\n",
        "o programa exemplo:\n",
        "\n",
        "[['0', ' ', ' ', 'L', '5'],\n",
        " ['0', 'x', ' ', 'L', '1'],\n",
        " ['0', 'y', ' ', 'L', '2'],\n",
        " ['0', 'z', ' ', 'L', '3'],\n",
        " ['1', ' ', 'x', 'R', '4'],\n",
        " ['2', ' ', 'y', 'R', '4'],\n",
        " ['3', ' ', 'z', 'R', '4'],\n",
        " ['4', ' ', ' ', 'R', '0'],\n",
        " ['5', ' ', ' ', 'L', '6'],\n",
        " ['6', ' ', ' ', 'R', 'HALT'],\n",
        " ['6', 'x', 'x', 'L', '6'],\n",
        " ['6', 'y', 'y', 'L', '6'],\n",
        " ['6', 'z', 'z', 'L', '6']]\n"
      ]
    },
    {
      "cell_type": "code",
      "metadata": {
        "id": "IK65CRkTM-RV"
      },
      "source": [
        "\n",
        "# the machine has two parts, position and current state\n",
        "# condition has reading on tape, and in state\n",
        "\n",
        "# given a condition pair (in-state, reading) return the right\n",
        "# three part action component from the 'program'\n",
        "def getAction(condition, program) :\n",
        "    res= -1\n",
        "    for i in range(0,len(program)):\n",
        "        if program[i][0] == condition[0] and program[i][1] == condition[1] :\n",
        "            res = [program[i][2],program[i][3],program[i][4]]\n",
        "            print('matched action is ', res)\n",
        "    return res        \n",
        "    \n",
        "# Simply pass the tape, position, and new symbol to update tape\n",
        "# this could be done directly inside the execute step def\n",
        "# it was done here for conceptual clarity\n",
        "def updateTape(tape, pos, wrt) :\n",
        "    tape[pos] = wrt\n",
        "    return tape\n",
        "\n",
        "# here we update where the machine is, and its new state\n",
        "def updateMachine(machine, tape, mv, newstate) :\n",
        "    if mv == 'L' :\n",
        "        machine[0] = machine[0] -1\n",
        "    elif mv == 'R' :\n",
        "        machine[0] = machine[0] +1\n",
        "        \n",
        "    machine[1] = newstate\n",
        "    if machine[0] >= 0 and machine[0] <= len(tape) :\n",
        "        return machine\n",
        "    else :\n",
        "        return -1\n",
        "    \n",
        "# this is the main function that executes a single step\n",
        "# of the turing machine\n",
        "def executeStep(machine,tape,program) :\n",
        "    #print('current machine is ', machine)\n",
        "    condition = [machine[1],tape[machine[0]]]\n",
        "    print('matched condition ', condition)\n",
        "    #print('condition is ', condition)\n",
        "    action = getAction(condition,program)\n",
        "    #print('action is ', action)\n",
        "    tape = updateTape(tape, machine[0], action[0])\n",
        "    machine = updateMachine(machine, tape, action[1], action[2])\n",
        "    #print('new machine is ', machine)\n",
        "    #print(tape)\n",
        "    return [machine, tape]\n",
        "\n",
        "\n",
        "# this is the main function that orchestrates everything\n",
        "def runMachine(machine,tape,program) :\n",
        "    ltape =tape\n",
        "    lm= machine\n",
        "    i=1\n",
        "    while lm[1] != 'HALT':\n",
        "        print('step ',i,': ', ltape, 'machine is in pos', machine[0])\n",
        "        #print('entered')\n",
        "        um = executeStep(lm,ltape,program)\n",
        "        #print('got um')\n",
        "        lm = um[0]\n",
        "        ltape = um[1]\n",
        "        i=i+1"
      ],
      "execution_count": null,
      "outputs": []
    },
    {
      "cell_type": "code",
      "metadata": {
        "id": "2DF_JxohM-RW"
      },
      "source": [
        "# open the 'program' stored as a CSV file\n",
        "# keep in mind you need to be pointing to the right directory\n",
        "with open('exampleTuring.csv') as csvfile:\n",
        "    stt = csv.reader(csvfile, delimiter=',')\n",
        "    stt = list(stt)"
      ],
      "execution_count": null,
      "outputs": []
    },
    {
      "cell_type": "code",
      "metadata": {
        "id": "S307yk-XM-RW"
      },
      "source": [
        "stt"
      ],
      "execution_count": null,
      "outputs": []
    },
    {
      "cell_type": "code",
      "metadata": {
        "id": "6IVaS0MyM-RW"
      },
      "source": [
        "stt[1][3]"
      ],
      "execution_count": null,
      "outputs": []
    },
    {
      "cell_type": "code",
      "metadata": {
        "id": "8ug_99ajM-RX"
      },
      "source": [
        "testTape = [' ',' ',' ','x','x','y','z','z',' ',' ',' ',' ']\n",
        "runMachine([3,'0'], testTape, stt)"
      ],
      "execution_count": null,
      "outputs": []
    }
  ]
}