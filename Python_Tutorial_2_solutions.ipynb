{
  "nbformat": 4,
  "nbformat_minor": 0,
  "metadata": {
    "colab": {
      "name": "Python_Tutorial_2_solutions.ipynb",
      "provenance": [],
      "collapsed_sections": [],
      "toc_visible": true,
      "include_colab_link": true
    },
    "kernelspec": {
      "display_name": "Python 3",
      "language": "python",
      "name": "python3"
    },
    "language_info": {
      "codemirror_mode": {
        "name": "ipython",
        "version": 3
      },
      "file_extension": ".py",
      "mimetype": "text/x-python",
      "name": "python",
      "nbconvert_exporter": "python",
      "pygments_lexer": "ipython3",
      "version": "3.9.0"
    }
  },
  "cells": [
    {
      "cell_type": "markdown",
      "metadata": {
        "id": "view-in-github",
        "colab_type": "text"
      },
      "source": [
        "<a href=\"https://colab.research.google.com/github/Martim-21805485/IASolucoes/blob/main/Python_Tutorial_2_solutions.ipynb\" target=\"_parent\"><img src=\"https://colab.research.google.com/assets/colab-badge.svg\" alt=\"Open In Colab\"/></a>"
      ]
    },
    {
      "cell_type": "markdown",
      "metadata": {
        "id": "CLTldup4laHF"
      },
      "source": [
        "# Tutorial 2\n",
        "\n",
        "## Numpy\n",
        "\n",
        "### Pergunta 1\n",
        "\n",
        "1. Use a função `arange` de numpy para criar um vetor chamado `my_array` com a sequencia de números desde zero até 24.\n",
        "\n",
        "2. Use a função `reshape` para redimensionar o vetor de tal forma que fique com seis filas e cinco colunas. Que acontece? Qual é a relação entre número de elementos e a dimensão duma matrix bi-dimensional?\n",
        "\n",
        "3. Sendo que temos 24 elementos, identifique duas combinações de dimensões que permitam redimensionar este vector em forma de matriz."
      ]
    },
    {
      "cell_type": "code",
      "metadata": {
        "id": "HpUE2CrVk-sU"
      },
      "source": [
        "import numpy as np\n",
        "my_array = np.arange(24).reshape((6,4))\n",
        "my_array"
      ],
      "execution_count": null,
      "outputs": []
    },
    {
      "cell_type": "markdown",
      "metadata": {
        "id": "iYtwy5uQ555a"
      },
      "source": [
        "## Pergunta 2\n",
        "\n",
        "Considere a função da similaridade de coseno com a qual trabalhamos ontem:\n",
        "\n",
        "$$\n",
        "  cos(v1, v2) = \\frac{v1 . v2}{\\lVert v1 \\rVert \\times \\lVert v2 \\rVert}\n",
        "$$  \n",
        "\n",
        "Investigar o uso das funções `linalg.norm` e `dot` dentro de Numpy para re-escrever a função sem usar qualquer `for` loop."
      ]
    },
    {
      "cell_type": "code",
      "metadata": {
        "id": "VLFT3F816Z1l"
      },
      "source": [
        "import numpy as np\n",
        "v1 = [1,2,3,4]\n",
        "v2 = [3,2,5,4]\n",
        "\n",
        "# notice that norm and dot do not require the arguments to be Numpy\n",
        "\n",
        "print(np.dot(v1,v2))\n",
        "print(np.linalg.norm(v1)*np.linalg.norm(v2))\n",
        "\n",
        "def cos(v1,v2):\n",
        "  return np.dot(v1,v2)/(np.linalg.norm(v1)*np.linalg.norm(v2))\n",
        "\n",
        "cos(v1,v2)"
      ],
      "execution_count": null,
      "outputs": []
    },
    {
      "cell_type": "code",
      "metadata": {
        "id": "QZQY7E5B6cOW"
      },
      "source": [
        ""
      ],
      "execution_count": null,
      "outputs": []
    },
    {
      "cell_type": "markdown",
      "metadata": {
        "id": "IJU9afY2-Kui"
      },
      "source": [
        "## Pergunta 3\n",
        "\n",
        "$$\\begin{bmatrix} \n",
        "1 & 2 & 1 & 7 \\\\ \n",
        "3 & 0 & 1 & 8 \\\\ \n",
        "0 & 2 & 4 & 9 \\\\ \n",
        "2 & 2 & 5 & 5\n",
        "\\end{bmatrix}$$\n",
        "\n",
        "1. Criar esta matriz em numpy\n",
        "2. Slice a primeira coluna inteira\n",
        "3. Slice a primeira coluna mas so as filas 2 e 3\n",
        "4. Slice os quatro elementos no centro da matriz\n",
        "5. Slice a sub-matriz dos quatro elementos no canto inferior direito, sem usar o tamanho da matriz\n",
        "6. Slice a sub-matriz dos quatro elementos no canto superior direito, sem usar o tamanho da matriz\n"
      ]
    },
    {
      "cell_type": "code",
      "metadata": {
        "id": "qx4i5gtPAbX_"
      },
      "source": [
        "# Pergunta 3.1: criação da matriz como objeto de numpy\n",
        "m = np.array(\n",
        "    [[1,2,1,7],\n",
        "    [3,0,1,8],\n",
        "    [0,2,4,9],\n",
        "    [2,2,5,5]]\n",
        ")\n",
        "\n",
        "# Pergunta 3.2: primeira coluna, \n",
        "# não há necessidade de saber as dimensões da matriz\n",
        "print('first column: \\n', m[:,0], '\\n')\n",
        "\n",
        "# Pergunta 3.3: slice primeira coluna mas so as filas 2 e 3\n",
        "# não há necessidade de saber as dimensões da matriz\n",
        "print('first column, rows 2 and 3: \\n', m[1:3,0], '\\n')\n",
        "\n",
        "# Pergunta 3.4: slice os quatro elementos no centro da matriz\n",
        "# este slice usa o conhecimento do tamanho da matriz\n",
        "# no caso geral será necessário escrever uma função que determine\n",
        "# o slice\n",
        "print('centre: \\n', m[1:3,1:3], '\\n')\n",
        "\n",
        "# Pergunta 3.5: slice a sub-matriz dos quatro elementos no canto inferior \n",
        "# direito, sem usar o tamanho da matriz.\n",
        "# esta versão não cumpre o requerimento, porque conta desde o início da matriz\n",
        "# e portanto está a usar informação do tamanho da mesma para atingir o\n",
        "# objetivo\n",
        "print('bottom right: \\n', m[2:,2:], '\\n')\n",
        "\n",
        "\n",
        "# Pergunta 3.5: slice a sub-matriz dos quatro elementos no canto inferior \n",
        "# direito, sem usar o tamanho da matriz.\n",
        "# esta versão sim cumpre o requerimento, porque define o slice desde o fim\n",
        "# da matriz\n",
        "print('bottom right: \\n', m[-2:,-2:], '\\n')\n",
        "\n",
        "# Pergunta 3.6: slice a sub-matriz dos quatro elementos no canto inferior \n",
        "# direito, sem usar o tamanho da matriz.\n",
        "\n",
        "# esta versão usa informação do tamanho da matriz para definir a seleção\n",
        "# de colunas\n",
        "print('top right: \\n', m[:2,2:], '\\n')\n",
        "\n",
        "# esta versão cumpre o requerimento\n",
        "print('top right: \\n', m[:-2,-2:], '\\n')\n",
        "\n",
        "# esta versão cumpre o requerimento\n",
        "print('top right: \\n', m[:2,-2:], '\\n')"
      ],
      "execution_count": null,
      "outputs": []
    },
    {
      "cell_type": "markdown",
      "metadata": {
        "id": "qLZeruRiAbrN"
      },
      "source": [
        "## Pergunta 4\n",
        "\n",
        "Dado o ficheiro json de teste, carregue o mesmo num Pandas dataframe, e mantenha unicamente as seguintes colunas:\n",
        "\n",
        "1. user_id\n",
        "2. institution_id\n",
        "3. age\n",
        "4. gender"
      ]
    },
    {
      "cell_type": "code",
      "metadata": {
        "id": "TKRMSh5VK_On"
      },
      "source": [
        "from google.colab import drive\n",
        "drive.mount('/content/drive')"
      ],
      "execution_count": null,
      "outputs": []
    },
    {
      "cell_type": "code",
      "metadata": {
        "id": "Ugd3OucnAgEi"
      },
      "source": [
        "import pandas as pd\n",
        "\n",
        "# o vosso path para o ficheiro poderá ser diferente ao meu\n",
        "\n",
        "path = '/content/drive/MyDrive/Colab Notebooks/A2_user_details.json'\n",
        "df = pd.read_json(path)\n",
        "dfx = df[['user_id', 'institution_id', 'age', 'gender']]\n",
        "dfx\n"
      ],
      "execution_count": null,
      "outputs": []
    },
    {
      "cell_type": "markdown",
      "metadata": {
        "id": "UiCY5VwuB5Xo"
      },
      "source": [
        "## Pergunta 5\n",
        "\n",
        "### P5.1\n",
        "Selecione os `user_id` das raparigas com idade 17 anos ou mais e guarde numa variáevel `fids`. Esta variável, é um `Series` ou um `DataFrame`\n",
        "\n",
        "### P5.2\n",
        "Selecione os `gender` dos estudantes das escolas 1 e 2 com maiores de 17 anos\n",
        "\n",
        "### p5.3\n",
        "Adicione uma columa \"scores\" com valores aleatórios entre 10 e 20 para todos os alunos no dataframe"
      ]
    },
    {
      "cell_type": "code",
      "metadata": {
        "id": "jmr5-T78CM0J"
      },
      "source": [
        "\n",
        "# P5.1\n",
        "d_female = dfx['gender'] == 'FEMALE'\n",
        "d_age_group = dfx['age'] >= 17\n",
        "\n",
        "fids = dfx[d_female & d_age_group]\n",
        "\n",
        "# Notem que fids é uma série, e não um DataFrame\n",
        "fids"
      ],
      "execution_count": null,
      "outputs": []
    },
    {
      "cell_type": "code",
      "metadata": {
        "id": "ed-t2372Kfly"
      },
      "source": [
        "# P5.2\n",
        "\n",
        "d_sch = dfx[(df['institution_id']  == 1) | (dfx['institution_id'] == 2)] \n",
        "d_age = d_sch['age'] >= 16\n",
        "d_sch[d_age]['gender']"
      ],
      "execution_count": null,
      "outputs": []
    },
    {
      "cell_type": "code",
      "metadata": {
        "id": "LQqbUWe1ORTK"
      },
      "source": [
        "#P5.3\n",
        "\n",
        "scores = [random.randint(10,20) for i in range(len(df))]\n",
        "dfx['scores'] = scores\n",
        "dfx"
      ],
      "execution_count": null,
      "outputs": []
    },
    {
      "cell_type": "markdown",
      "metadata": {
        "id": "KO9-KxBOC1Mc"
      },
      "source": [
        "## Pergunta 6\n",
        "\n",
        "Execute o comando\n",
        "\n",
        "```python\n",
        "dfx.describe()\n",
        "```\n",
        "e descreva o resultado e a sua utilidade, após investigar o que esta função do Pandas devolve."
      ]
    },
    {
      "cell_type": "code",
      "metadata": {
        "id": "2jnFzv8BC4FY"
      },
      "source": [
        "dfx.describe()"
      ],
      "execution_count": null,
      "outputs": []
    },
    {
      "cell_type": "markdown",
      "metadata": {
        "id": "49G_5h18IBeq"
      },
      "source": [
        ""
      ]
    },
    {
      "cell_type": "code",
      "metadata": {
        "id": "i2XkOb5nC5s9"
      },
      "source": [
        ""
      ],
      "execution_count": null,
      "outputs": []
    }
  ]
}