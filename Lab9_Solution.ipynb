{
  "nbformat": 4,
  "nbformat_minor": 0,
  "metadata": {
    "kernelspec": {
      "display_name": "Python 3",
      "language": "python",
      "name": "python3"
    },
    "language_info": {
      "codemirror_mode": {
        "name": "ipython",
        "version": 3
      },
      "file_extension": ".py",
      "mimetype": "text/x-python",
      "name": "python",
      "nbconvert_exporter": "python",
      "pygments_lexer": "ipython3",
      "version": "3.7.6"
    },
    "toc": {
      "base_numbering": 1,
      "nav_menu": {},
      "number_sections": false,
      "sideBar": true,
      "skip_h1_title": false,
      "title_cell": "Table of Contents",
      "title_sidebar": "Contents",
      "toc_cell": false,
      "toc_position": {},
      "toc_section_display": true,
      "toc_window_display": false
    },
    "varInspector": {
      "cols": {
        "lenName": 16,
        "lenType": 16,
        "lenVar": 40
      },
      "kernels_config": {
        "python": {
          "delete_cmd_postfix": "",
          "delete_cmd_prefix": "del ",
          "library": "var_list.py",
          "varRefreshCmd": "print(var_dic_list())"
        },
        "r": {
          "delete_cmd_postfix": ") ",
          "delete_cmd_prefix": "rm(",
          "library": "var_list.r",
          "varRefreshCmd": "cat(var_dic_list()) "
        }
      },
      "types_to_exclude": [
        "module",
        "function",
        "builtin_function_or_method",
        "instance",
        "_Feature"
      ],
      "window_display": false
    },
    "colab": {
      "name": "Lab9-Solution.ipynb",
      "provenance": [],
      "include_colab_link": true
    }
  },
  "cells": [
    {
      "cell_type": "markdown",
      "metadata": {
        "id": "view-in-github",
        "colab_type": "text"
      },
      "source": [
        "<a href=\"https://colab.research.google.com/github/Martim-21805485/IASolucoes/blob/main/Lab9_Solution.ipynb\" target=\"_parent\"><img src=\"https://colab.research.google.com/assets/colab-badge.svg\" alt=\"Open In Colab\"/></a>"
      ]
    },
    {
      "cell_type": "markdown",
      "metadata": {
        "deletable": false,
        "editable": false,
        "run_control": {
          "frozen": true
        },
        "id": "jrMOarlP7ciP"
      },
      "source": [
        "# Lab 9\n",
        "Dijkstra's algorithm\n",
        "\n",
        "## Purpose\n",
        "Study of a informed search algorithm\n",
        "\n",
        "## Methodology\n",
        "Implementation\n",
        "\n",
        "## Results\n",
        "An implementation of Dijkstra's algorithm in Python \n",
        "\n",
        "## Suggested next steps\n",
        "Expand to A*"
      ]
    },
    {
      "cell_type": "code",
      "metadata": {
        "id": "-GOieEXT7c5c"
      },
      "source": [
        ""
      ],
      "execution_count": null,
      "outputs": []
    },
    {
      "cell_type": "markdown",
      "metadata": {
        "deletable": false,
        "editable": false,
        "run_control": {
          "frozen": true
        },
        "id": "0Rj7DWqj7ciP"
      },
      "source": [
        "# Setup\n",
        "\n",
        "## Library import\n",
        "We import all the required Python libraries"
      ]
    },
    {
      "cell_type": "code",
      "metadata": {
        "ExecuteTime": {
          "end_time": "2021-06-03T01:06:28.552758Z",
          "start_time": "2021-06-03T01:06:27.828090Z"
        },
        "deletable": false,
        "editable": false,
        "run_control": {
          "frozen": true
        },
        "id": "Xd5iAcHA7ciP"
      },
      "source": [
        "# Data manipulation\n",
        "import pandas as pd\n",
        "import numpy as np\n",
        "\n",
        "# Options for pandas\n",
        "pd.options.display.max_columns = 50\n",
        "pd.options.display.max_rows = 30\n",
        "\n",
        "# Visualizations\n",
        "import networkx as nx\n",
        "\n",
        "# Typing\n",
        "from types import SimpleNamespace"
      ],
      "execution_count": null,
      "outputs": []
    },
    {
      "cell_type": "markdown",
      "metadata": {
        "deletable": false,
        "editable": false,
        "run_control": {
          "frozen": true
        },
        "id": "IPw7m4od7ciQ"
      },
      "source": [
        "# Parameters"
      ]
    },
    {
      "cell_type": "code",
      "metadata": {
        "ExecuteTime": {
          "end_time": "2021-06-03T01:06:28.581700Z",
          "start_time": "2021-06-03T01:06:28.556591Z"
        },
        "deletable": false,
        "editable": false,
        "run_control": {
          "frozen": true
        },
        "id": "PzTFaO1Z7ciQ"
      },
      "source": [
        "graph_dict = \\\n",
        "    {\n",
        "        's': {('a', 7), ('b', 2), ('c', 3)},\n",
        "        'a': {('b', 3), ('d', 4), ('s', 7)},\n",
        "        'b': {('d', 4), ('h', 1), ('s', 2)},\n",
        "        'c': {('l', 2), ('s', 3), ('s', 3)},\n",
        "        'd': {('a', 4), ('b', 4), ('f', 5)},\n",
        "        'e': {('g', 2), ('k', 5)},\n",
        "        'f': {('d', 5), ('h', 3)},\n",
        "        'g': {('e', 2), ('h', 3)},\n",
        "        'h': {('b', 1), ('f', 3), ('g', 2)},\n",
        "        'i': {('j', 6), ('k', 4), ('l', 4)},\n",
        "        'j': {('i', 6), ('k', 4), ('l', 4)},\n",
        "        'k': {('e', 5), ('i', 4), ('j', 4)},\n",
        "        'l': {('c', 2), ('i', 4), ('j', 4)},\n",
        "    }\n",
        "\n",
        "graph_tuples = \\\n",
        "    [\n",
        "        ('s', 'a', 7), ('s', 'b', 2), ('s', 'c', 3), ('a', 'b', 3),\n",
        "        ('a', 'd', 4), ('a', 's', 7), ('b', 'd', 4), ('b', 'h', 1),\n",
        "        ('b', 's', 2), ('c', 'l', 2), ('c', 's', 3), ('c', 's', 3),\n",
        "        ('d', 'a', 4), ('d', 'b', 4), ('d', 'f', 5), ('e', 'g', 2),\n",
        "        ('e', 'k', 5), ('f', 'd', 5), ('f', 'h', 3), ('g', 'e', 2),\n",
        "        ('g', 'h', 3), ('h', 'b', 1), ('h', 'f', 3), ('h', 'g', 2),\n",
        "        ('i', 'j', 6), ('i', 'k', 4), ('i', 'l', 4), ('j', 'i', 6),\n",
        "        ('j', 'k', 4), ('j', 'l', 4), ('k', 'e', 5), ('k', 'i', 4),\n",
        "        ('k', 'j', 4), ('l', 'c', 2), ('l', 'i', 4), ('l', 'j', 4)\n",
        "    ]"
      ],
      "execution_count": null,
      "outputs": []
    },
    {
      "cell_type": "markdown",
      "metadata": {
        "deletable": false,
        "editable": false,
        "run_control": {
          "frozen": true
        },
        "id": "7xL919_K7ciR"
      },
      "source": [
        "Look at the graph"
      ]
    },
    {
      "cell_type": "code",
      "metadata": {
        "ExecuteTime": {
          "end_time": "2021-06-03T01:06:28.996631Z",
          "start_time": "2021-06-03T01:06:28.584697Z"
        },
        "deletable": false,
        "editable": false,
        "run_control": {
          "frozen": true
        },
        "id": "1zGSDbuH7ciR",
        "outputId": "750257b5-1e2c-4b31-f4f8-f5bd2587d8d8"
      },
      "source": [
        "G = pd.DataFrame(graph_tuples, columns=['In', 'Out', 'Weight'])\n",
        "nG = nx.from_pandas_edgelist(G, source='In', target='Out', edge_attr='Weight', create_using=nx.DiGraph)\n",
        "nx.draw_networkx(nG)"
      ],
      "execution_count": null,
      "outputs": [
        {
          "output_type": "display_data",
          "data": {
            "image/png": "[encoded data removed]",
            "text/plain": [
              "<Figure size 432x288 with 1 Axes>"
            ]
          },
          "metadata": {
            "tags": []
          }
        }
      ]
    },
    {
      "cell_type": "markdown",
      "metadata": {
        "deletable": false,
        "editable": false,
        "run_control": {
          "frozen": true
        },
        "id": "NKF9EjQQ7ciR"
      },
      "source": [
        "# Dijkstra"
      ]
    },
    {
      "cell_type": "markdown",
      "metadata": {
        "deletable": false,
        "editable": false,
        "run_control": {
          "frozen": true
        },
        "id": "i3Z4Xde47ciS"
      },
      "source": [
        "Implement Dijkstra algorithm using the building blocks from previous labs."
      ]
    },
    {
      "cell_type": "code",
      "metadata": {
        "ExecuteTime": {
          "end_time": "2021-06-03T01:06:29.009527Z",
          "start_time": "2021-06-03T01:06:29.000750Z"
        },
        "deletable": false,
        "editable": false,
        "run_control": {
          "frozen": true
        },
        "id": "ZTzzZsdF7ciS"
      },
      "source": [
        "def dijkstra(graph, initial: str, goal: str):\n",
        "    \"\"\"Computes Dijkstra\n",
        "    \n",
        "    Parameters\n",
        "    ----------\n",
        "    graph : list of tuples OR dictionary\n",
        "        representation of a graph\n",
        "    initial : str\n",
        "        initial node\n",
        "    goal : str\n",
        "        target node\n",
        "    \n",
        "    Returns\n",
        "    -------\n",
        "    Composed object\n",
        "        cost - cost from inital to goal node through shortest path\n",
        "        path - shortest path \n",
        "    \n",
        "    \"\"\"\n",
        "    \n",
        "    ###########\n",
        "    ## Implement Dijkstra here\n",
        "    \n",
        "    \n",
        "    \n",
        "\n",
        "    # in the end you'll have to udpate these variables\n",
        "    cost = None\n",
        "    path = None\n",
        "    ########\n",
        "    \n",
        "    shortest_path = SimpleNamespace()\n",
        "    shortest_path.cost = cost\n",
        "    shortest_path.path = path\n",
        "    \n",
        "    return shortest_path"
      ],
      "execution_count": null,
      "outputs": []
    },
    {
      "cell_type": "code",
      "metadata": {
        "ExecuteTime": {
          "end_time": "2021-06-03T01:32:45.807471Z",
          "start_time": "2021-06-03T01:32:45.785461Z"
        },
        "deletable": false,
        "editable": false,
        "run_control": {
          "frozen": true
        },
        "id": "r1NQsIU57ciS"
      },
      "source": [
        "import logging\n",
        "\n",
        "logging.basicConfig(\n",
        "    format='%(asctime)s %(levelname)-8s %(message)s',\n",
        "    level=logging.INFO,\n",
        "    datefmt='%Y-%m-%d %H:%M:%S')\n",
        "\n",
        "# keep this one to only show results\n",
        "logging.getLogger().setLevel(logging.WARNING)\n",
        "# keep this one to see the whole process\n",
        "logging.getLogger().setLevel(logging.INFO)\n",
        "\n",
        "def dijkstra(graph, initial: str, goal: str):\n",
        "    \"\"\"Computes Dijkstra\n",
        "    \n",
        "    Parameters\n",
        "    ----------\n",
        "    graph : list of tuples OR dictionary\n",
        "        representation of a graph\n",
        "    initial : str\n",
        "        initial node\n",
        "    goal : str\n",
        "        target node\n",
        "    \n",
        "    Returns\n",
        "    -------\n",
        "    Composed object\n",
        "        cost - cost from inital to goal node through shortest path\n",
        "        path - shortest path \n",
        "    \n",
        "    \"\"\"\n",
        "    \n",
        "    nodes = set(graph.keys())\n",
        "    \n",
        "    # Mark all nodes unvisited\n",
        "    unvisited_set = nodes\n",
        "    \n",
        "    # Assign to every node adistance value\n",
        "    # Create a structure to keep the path\n",
        "    weights = {node: np.inf for node in nodes}\n",
        "    previous = {node: None for node in nodes}\n",
        "    \n",
        "    # Set the initial node as current.\n",
        "    current_node = initial\n",
        "    current_weight = 0\n",
        "    \n",
        "    # while there are nodes to visit\n",
        "    while unvisited_set:\n",
        "        \n",
        "        logging.info('current_node:  {}'.format(current_node))\n",
        "        logging.info('current_weight:{}'.format(current_weight))\n",
        "        logging.info('unvisited_set: {}'.format(unvisited_set))\n",
        "        logging.info('weights:       {}'.format(weights))\n",
        "        logging.info('previous:      {}'.format(previous))\n",
        "        logging.info('---------------------------------------------')\n",
        "        \n",
        "        # For the current node, consider all of its unvisited neighbours and \n",
        "        # calculate their tentative distances through the current node. \n",
        "        for neighbor, neighbor_weight in graph[current_node]:\n",
        "            next_weight = current_weight + neighbor_weight\n",
        "            \n",
        "            # Compare the computed distance to the current \n",
        "            # assigned value and assign the smaller one. \n",
        "            if  next_weight < weights[neighbor]:\n",
        "                weights[neighbor] = next_weight\n",
        "                previous[neighbor] = current_node\n",
        "\n",
        "        # Mark the current node as visited and remove it from the \n",
        "        # unvisited set\n",
        "        unvisited_set.remove(current_node)\n",
        "        \n",
        "\n",
        "        # If is goal the algorithm has finished.\n",
        "        if current_node == goal:\n",
        "            break\n",
        "\n",
        "        # Otherwise, select the unvisited node that is marked with the \n",
        "        # smallest distance and set it as the new \"current node\", \n",
        "        current_node = min(unvisited_set, key=lambda x: weights[x])\n",
        "        current_weight = weights[current_node]\n",
        "    \n",
        "    # Un-roll path\n",
        "    path = []\n",
        "    current = goal\n",
        "    path.append(current)\n",
        "    while current is not initial:\n",
        "        prev = previous[current]\n",
        "        path.append(prev)\n",
        "        current = prev\n",
        "        \n",
        "    path.reverse()\n",
        "    \n",
        "    # Udpate the variables\n",
        "    cost = weights[goal]\n",
        "    path = path\n",
        "    ########\n",
        "    \n",
        "    shortest_path = SimpleNamespace()\n",
        "    shortest_path.cost = cost\n",
        "    shortest_path.path = path\n",
        "    \n",
        "    return shortest_path"
      ],
      "execution_count": null,
      "outputs": []
    },
    {
      "cell_type": "code",
      "metadata": {
        "ExecuteTime": {
          "end_time": "2021-06-03T01:32:46.214653Z",
          "start_time": "2021-06-03T01:32:46.086597Z"
        },
        "deletable": false,
        "editable": false,
        "run_control": {
          "frozen": true
        },
        "id": "YY9SvbhV7ciT",
        "outputId": "88994452-ab98-4785-db6d-56d794ece3c6"
      },
      "source": [
        "shortest_path =  dijkstra(graph_dict, 'a', 'i')"
      ],
      "execution_count": null,
      "outputs": [
        {
          "output_type": "stream",
          "text": [
            "2021-06-03 01:32:46 INFO     current_node:  a\n",
            "2021-06-03 01:32:46 INFO     current_weight:0\n",
            "2021-06-03 01:32:46 INFO     unvisited_set: {'h', 'a', 's', 'b', 'k', 'i', 'e', 'g', 'j', 'c', 'l', 'f', 'd'}\n",
            "2021-06-03 01:32:46 INFO     weights:       {'h': inf, 'a': inf, 's': inf, 'b': inf, 'k': inf, 'i': inf, 'e': inf, 'g': inf, 'j': inf, 'c': inf, 'l': inf, 'f': inf, 'd': inf}\n",
            "2021-06-03 01:32:46 INFO     previous:      {'h': None, 'a': None, 's': None, 'b': None, 'k': None, 'i': None, 'e': None, 'g': None, 'j': None, 'c': None, 'l': None, 'f': None, 'd': None}\n",
            "2021-06-03 01:32:46 INFO     ---------------------------------------------\n",
            "2021-06-03 01:32:46 INFO     current_node:  b\n",
            "2021-06-03 01:32:46 INFO     current_weight:3\n",
            "2021-06-03 01:32:46 INFO     unvisited_set: {'h', 's', 'b', 'k', 'i', 'e', 'g', 'j', 'c', 'l', 'f', 'd'}\n",
            "2021-06-03 01:32:46 INFO     weights:       {'h': inf, 'a': inf, 's': 7, 'b': 3, 'k': inf, 'i': inf, 'e': inf, 'g': inf, 'j': inf, 'c': inf, 'l': inf, 'f': inf, 'd': 4}\n",
            "2021-06-03 01:32:46 INFO     previous:      {'h': None, 'a': None, 's': 'a', 'b': 'a', 'k': None, 'i': None, 'e': None, 'g': None, 'j': None, 'c': None, 'l': None, 'f': None, 'd': 'a'}\n",
            "2021-06-03 01:32:46 INFO     ---------------------------------------------\n",
            "2021-06-03 01:32:46 INFO     current_node:  h\n",
            "2021-06-03 01:32:46 INFO     current_weight:4\n",
            "2021-06-03 01:32:46 INFO     unvisited_set: {'h', 's', 'k', 'i', 'e', 'g', 'j', 'c', 'l', 'f', 'd'}\n",
            "2021-06-03 01:32:46 INFO     weights:       {'h': 4, 'a': inf, 's': 5, 'b': 3, 'k': inf, 'i': inf, 'e': inf, 'g': inf, 'j': inf, 'c': inf, 'l': inf, 'f': inf, 'd': 4}\n",
            "2021-06-03 01:32:46 INFO     previous:      {'h': 'b', 'a': None, 's': 'b', 'b': 'a', 'k': None, 'i': None, 'e': None, 'g': None, 'j': None, 'c': None, 'l': None, 'f': None, 'd': 'a'}\n",
            "2021-06-03 01:32:46 INFO     ---------------------------------------------\n",
            "2021-06-03 01:32:46 INFO     current_node:  d\n",
            "2021-06-03 01:32:46 INFO     current_weight:4\n",
            "2021-06-03 01:32:46 INFO     unvisited_set: {'s', 'k', 'i', 'e', 'g', 'j', 'c', 'l', 'f', 'd'}\n",
            "2021-06-03 01:32:46 INFO     weights:       {'h': 4, 'a': inf, 's': 5, 'b': 3, 'k': inf, 'i': inf, 'e': inf, 'g': 6, 'j': inf, 'c': inf, 'l': inf, 'f': 7, 'd': 4}\n",
            "2021-06-03 01:32:46 INFO     previous:      {'h': 'b', 'a': None, 's': 'b', 'b': 'a', 'k': None, 'i': None, 'e': None, 'g': 'h', 'j': None, 'c': None, 'l': None, 'f': 'h', 'd': 'a'}\n",
            "2021-06-03 01:32:46 INFO     ---------------------------------------------\n",
            "2021-06-03 01:32:46 INFO     current_node:  s\n",
            "2021-06-03 01:32:46 INFO     current_weight:5\n",
            "2021-06-03 01:32:46 INFO     unvisited_set: {'s', 'k', 'i', 'e', 'g', 'j', 'c', 'l', 'f'}\n",
            "2021-06-03 01:32:46 INFO     weights:       {'h': 4, 'a': 8, 's': 5, 'b': 3, 'k': inf, 'i': inf, 'e': inf, 'g': 6, 'j': inf, 'c': inf, 'l': inf, 'f': 7, 'd': 4}\n",
            "2021-06-03 01:32:46 INFO     previous:      {'h': 'b', 'a': 'd', 's': 'b', 'b': 'a', 'k': None, 'i': None, 'e': None, 'g': 'h', 'j': None, 'c': None, 'l': None, 'f': 'h', 'd': 'a'}\n",
            "2021-06-03 01:32:46 INFO     ---------------------------------------------\n",
            "2021-06-03 01:32:46 INFO     current_node:  g\n",
            "2021-06-03 01:32:46 INFO     current_weight:6\n",
            "2021-06-03 01:32:46 INFO     unvisited_set: {'k', 'i', 'e', 'g', 'j', 'c', 'l', 'f'}\n",
            "2021-06-03 01:32:46 INFO     weights:       {'h': 4, 'a': 8, 's': 5, 'b': 3, 'k': inf, 'i': inf, 'e': inf, 'g': 6, 'j': inf, 'c': 8, 'l': inf, 'f': 7, 'd': 4}\n",
            "2021-06-03 01:32:46 INFO     previous:      {'h': 'b', 'a': 'd', 's': 'b', 'b': 'a', 'k': None, 'i': None, 'e': None, 'g': 'h', 'j': None, 'c': 's', 'l': None, 'f': 'h', 'd': 'a'}\n",
            "2021-06-03 01:32:46 INFO     ---------------------------------------------\n",
            "2021-06-03 01:32:46 INFO     current_node:  f\n",
            "2021-06-03 01:32:46 INFO     current_weight:7\n",
            "2021-06-03 01:32:46 INFO     unvisited_set: {'k', 'i', 'e', 'j', 'c', 'l', 'f'}\n",
            "2021-06-03 01:32:46 INFO     weights:       {'h': 4, 'a': 8, 's': 5, 'b': 3, 'k': inf, 'i': inf, 'e': 8, 'g': 6, 'j': inf, 'c': 8, 'l': inf, 'f': 7, 'd': 4}\n",
            "2021-06-03 01:32:46 INFO     previous:      {'h': 'b', 'a': 'd', 's': 'b', 'b': 'a', 'k': None, 'i': None, 'e': 'g', 'g': 'h', 'j': None, 'c': 's', 'l': None, 'f': 'h', 'd': 'a'}\n",
            "2021-06-03 01:32:46 INFO     ---------------------------------------------\n",
            "2021-06-03 01:32:46 INFO     current_node:  e\n",
            "2021-06-03 01:32:46 INFO     current_weight:8\n",
            "2021-06-03 01:32:46 INFO     unvisited_set: {'k', 'i', 'e', 'j', 'c', 'l'}\n",
            "2021-06-03 01:32:46 INFO     weights:       {'h': 4, 'a': 8, 's': 5, 'b': 3, 'k': inf, 'i': inf, 'e': 8, 'g': 6, 'j': inf, 'c': 8, 'l': inf, 'f': 7, 'd': 4}\n",
            "2021-06-03 01:32:46 INFO     previous:      {'h': 'b', 'a': 'd', 's': 'b', 'b': 'a', 'k': None, 'i': None, 'e': 'g', 'g': 'h', 'j': None, 'c': 's', 'l': None, 'f': 'h', 'd': 'a'}\n",
            "2021-06-03 01:32:46 INFO     ---------------------------------------------\n",
            "2021-06-03 01:32:46 INFO     current_node:  c\n",
            "2021-06-03 01:32:46 INFO     current_weight:8\n",
            "2021-06-03 01:32:46 INFO     unvisited_set: {'k', 'i', 'j', 'c', 'l'}\n",
            "2021-06-03 01:32:46 INFO     weights:       {'h': 4, 'a': 8, 's': 5, 'b': 3, 'k': 13, 'i': inf, 'e': 8, 'g': 6, 'j': inf, 'c': 8, 'l': inf, 'f': 7, 'd': 4}\n",
            "2021-06-03 01:32:46 INFO     previous:      {'h': 'b', 'a': 'd', 's': 'b', 'b': 'a', 'k': 'e', 'i': None, 'e': 'g', 'g': 'h', 'j': None, 'c': 's', 'l': None, 'f': 'h', 'd': 'a'}\n",
            "2021-06-03 01:32:46 INFO     ---------------------------------------------\n",
            "2021-06-03 01:32:46 INFO     current_node:  l\n",
            "2021-06-03 01:32:46 INFO     current_weight:10\n",
            "2021-06-03 01:32:46 INFO     unvisited_set: {'k', 'i', 'j', 'l'}\n",
            "2021-06-03 01:32:46 INFO     weights:       {'h': 4, 'a': 8, 's': 5, 'b': 3, 'k': 13, 'i': inf, 'e': 8, 'g': 6, 'j': inf, 'c': 8, 'l': 10, 'f': 7, 'd': 4}\n",
            "2021-06-03 01:32:46 INFO     previous:      {'h': 'b', 'a': 'd', 's': 'b', 'b': 'a', 'k': 'e', 'i': None, 'e': 'g', 'g': 'h', 'j': None, 'c': 's', 'l': 'c', 'f': 'h', 'd': 'a'}\n",
            "2021-06-03 01:32:46 INFO     ---------------------------------------------\n",
            "2021-06-03 01:32:46 INFO     current_node:  k\n",
            "2021-06-03 01:32:46 INFO     current_weight:13\n",
            "2021-06-03 01:32:46 INFO     unvisited_set: {'k', 'i', 'j'}\n",
            "2021-06-03 01:32:46 INFO     weights:       {'h': 4, 'a': 8, 's': 5, 'b': 3, 'k': 13, 'i': 14, 'e': 8, 'g': 6, 'j': 14, 'c': 8, 'l': 10, 'f': 7, 'd': 4}\n",
            "2021-06-03 01:32:46 INFO     previous:      {'h': 'b', 'a': 'd', 's': 'b', 'b': 'a', 'k': 'e', 'i': 'l', 'e': 'g', 'g': 'h', 'j': 'l', 'c': 's', 'l': 'c', 'f': 'h', 'd': 'a'}\n",
            "2021-06-03 01:32:46 INFO     ---------------------------------------------\n",
            "2021-06-03 01:32:46 INFO     current_node:  i\n",
            "2021-06-03 01:32:46 INFO     current_weight:14\n",
            "2021-06-03 01:32:46 INFO     unvisited_set: {'i', 'j'}\n",
            "2021-06-03 01:32:46 INFO     weights:       {'h': 4, 'a': 8, 's': 5, 'b': 3, 'k': 13, 'i': 14, 'e': 8, 'g': 6, 'j': 14, 'c': 8, 'l': 10, 'f': 7, 'd': 4}\n",
            "2021-06-03 01:32:46 INFO     previous:      {'h': 'b', 'a': 'd', 's': 'b', 'b': 'a', 'k': 'e', 'i': 'l', 'e': 'g', 'g': 'h', 'j': 'l', 'c': 's', 'l': 'c', 'f': 'h', 'd': 'a'}\n",
            "2021-06-03 01:32:46 INFO     ---------------------------------------------\n"
          ],
          "name": "stderr"
        }
      ]
    },
    {
      "cell_type": "code",
      "metadata": {
        "ExecuteTime": {
          "end_time": "2021-06-03T01:08:53.914788Z",
          "start_time": "2021-06-03T01:08:53.906452Z"
        },
        "deletable": false,
        "editable": false,
        "run_control": {
          "frozen": true
        },
        "id": "ZAqcdPDO7ciT",
        "outputId": "cd42e792-34bd-4423-b656-4780771cf445"
      },
      "source": [
        "shortest_path.cost"
      ],
      "execution_count": null,
      "outputs": [
        {
          "output_type": "execute_result",
          "data": {
            "text/plain": [
              "14"
            ]
          },
          "metadata": {
            "tags": []
          },
          "execution_count": 13
        }
      ]
    },
    {
      "cell_type": "code",
      "metadata": {
        "ExecuteTime": {
          "end_time": "2021-06-03T01:08:54.167966Z",
          "start_time": "2021-06-03T01:08:54.158956Z"
        },
        "deletable": false,
        "editable": false,
        "run_control": {
          "frozen": true
        },
        "id": "XmaRuWHz7ciT",
        "outputId": "9c3513bf-33ef-4ebd-a014-861540bffb08"
      },
      "source": [
        "shortest_path.path"
      ],
      "execution_count": null,
      "outputs": [
        {
          "output_type": "execute_result",
          "data": {
            "text/plain": [
              "['a', 'b', 's', 'c', 'l', 'i']"
            ]
          },
          "metadata": {
            "tags": []
          },
          "execution_count": 14
        }
      ]
    },
    {
      "cell_type": "markdown",
      "metadata": {
        "deletable": false,
        "editable": false,
        "run_control": {
          "frozen": true
        },
        "id": "-iAbR5fu7ciU"
      },
      "source": [
        "## References"
      ]
    },
    {
      "cell_type": "markdown",
      "metadata": {
        "ExecuteTime": {
          "end_time": "2021-05-10T00:08:16.650095Z",
          "start_time": "2021-05-10T00:08:16.603597Z"
        },
        "deletable": false,
        "editable": false,
        "run_control": {
          "frozen": true
        },
        "id": "Y9GpJOJ97ciU"
      },
      "source": [
        "Dijkstra, E. (1959). A note on two problems in connexion with graphs. Numerische Mathematik, 1, 269-271."
      ]
    }
  ]
}