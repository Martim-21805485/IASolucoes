{
  "nbformat": 4,
  "nbformat_minor": 0,
  "metadata": {
    "kernelspec": {
      "display_name": "Python 3",
      "language": "python",
      "name": "python3"
    },
    "language_info": {
      "codemirror_mode": {
        "name": "ipython",
        "version": 3
      },
      "file_extension": ".py",
      "mimetype": "text/x-python",
      "name": "python",
      "nbconvert_exporter": "python",
      "pygments_lexer": "ipython3",
      "version": "3.7.6"
    },
    "toc": {
      "base_numbering": 1,
      "nav_menu": {},
      "number_sections": false,
      "sideBar": true,
      "skip_h1_title": false,
      "title_cell": "Table of Contents",
      "title_sidebar": "Contents",
      "toc_cell": false,
      "toc_position": {},
      "toc_section_display": true,
      "toc_window_display": true
    },
    "varInspector": {
      "cols": {
        "lenName": 16,
        "lenType": 16,
        "lenVar": 40
      },
      "kernels_config": {
        "python": {
          "delete_cmd_postfix": "",
          "delete_cmd_prefix": "del ",
          "library": "var_list.py",
          "varRefreshCmd": "print(var_dic_list())"
        },
        "r": {
          "delete_cmd_postfix": ") ",
          "delete_cmd_prefix": "rm(",
          "library": "var_list.r",
          "varRefreshCmd": "cat(var_dic_list()) "
        }
      },
      "types_to_exclude": [
        "module",
        "function",
        "builtin_function_or_method",
        "instance",
        "_Feature"
      ],
      "window_display": false
    },
    "colab": {
      "name": "Lab10-solution.ipynb",
      "provenance": [],
      "include_colab_link": true
    }
  },
  "cells": [
    {
      "cell_type": "markdown",
      "metadata": {
        "id": "view-in-github",
        "colab_type": "text"
      },
      "source": [
        "<a href=\"https://colab.research.google.com/github/Martim-21805485/IASolucoes/blob/main/Lab10_solution.ipynb\" target=\"_parent\"><img src=\"https://colab.research.google.com/assets/colab-badge.svg\" alt=\"Open In Colab\"/></a>"
      ]
    },
    {
      "cell_type": "markdown",
      "metadata": {
        "deletable": false,
        "editable": false,
        "run_control": {
          "frozen": true
        },
        "id": "wipcLbuv73mI"
      },
      "source": [
        "# Lab 10\n",
        "Stochastic Search\n",
        "\n",
        "## Purpose\n",
        "Study of a informed search algorithm\n",
        "\n",
        "## Methodology\n",
        "Implementation\n",
        "\n",
        "## Results\n",
        "An implementation of Simulated Annealing in Python "
      ]
    },
    {
      "cell_type": "markdown",
      "metadata": {
        "deletable": false,
        "editable": false,
        "run_control": {
          "frozen": true
        },
        "id": "DRES-Waj73mJ"
      },
      "source": [
        "# Setup\n",
        "\n",
        "## Library import\n",
        "We import all the required Python libraries"
      ]
    },
    {
      "cell_type": "code",
      "metadata": {
        "ExecuteTime": {
          "end_time": "2021-06-03T09:28:59.282965Z",
          "start_time": "2021-06-03T09:28:58.832848Z"
        },
        "deletable": false,
        "editable": false,
        "run_control": {
          "frozen": true
        },
        "id": "jkOdU2Da73mJ"
      },
      "source": [
        "import random\n",
        "import math\n",
        "\n",
        "import pandas as pd"
      ],
      "execution_count": null,
      "outputs": []
    },
    {
      "cell_type": "markdown",
      "metadata": {
        "deletable": false,
        "editable": false,
        "run_control": {
          "frozen": true
        },
        "id": "xUNeh1OA73mK"
      },
      "source": [
        "# Parameters"
      ]
    },
    {
      "cell_type": "code",
      "metadata": {
        "ExecuteTime": {
          "end_time": "2021-06-03T09:28:59.298012Z",
          "start_time": "2021-06-03T09:28:59.285089Z"
        },
        "deletable": false,
        "editable": false,
        "run_control": {
          "frozen": true
        },
        "id": "-2aI-_Kc73mK"
      },
      "source": [
        "TSP = {\n",
        "    \"Lisboa\": {\n",
        "        \"Aveiro\": 255,\n",
        "        \"Beja\": 178,\n",
        "        \"Castelo Branco\": 224,\n",
        "        \"Vilamoura\": 263,\n",
        "        \"Porto\": 356\n",
        "    },\n",
        "    \"Aveiro\": {\n",
        "        \"Lisboa\": 255,\n",
        "        \"Beja\": 389,\n",
        "        \"Castelo Branco\": 200,\n",
        "        \"Vilamoura\": 475,\n",
        "        \"Porto\": 80\n",
        "    },\n",
        "    \"Beja\": {\n",
        "        \"Aveiro\": 389,\n",
        "        \"Lisboa\": 178,\n",
        "        \"Castelo Branco\": 275,\n",
        "        \"Vilamoura\": 130,\n",
        "        \"Porto\": 451\n",
        "    },\n",
        "    \"Castelo Branco\": {\n",
        "        \"Aveiro\": 200,\n",
        "        \"Beja\": 275,\n",
        "        \"Lisboa\": 224,\n",
        "        \"Vilamoura\": 310,\n",
        "        \"Porto\": 170\n",
        "    },\n",
        "    \"Vilamoura\": {\n",
        "        \"Aveiro\": 475,\n",
        "        \"Beja\": 130,\n",
        "        \"Castelo Branco\": 310,\n",
        "        \"Lisboa\": 263,\n",
        "        \"Porto\": 570\n",
        "    },\n",
        "    \"Porto\": {\n",
        "        \"Aveiro\": 80,\n",
        "        \"Beja\": 451,\n",
        "        \"Castelo Branco\": 170,\n",
        "        \"Lisboa\": 356,\n",
        "        \"Vilamoura\": 570\n",
        "    },\n",
        "}"
      ],
      "execution_count": null,
      "outputs": []
    },
    {
      "cell_type": "code",
      "metadata": {
        "ExecuteTime": {
          "end_time": "2021-06-03T09:28:59.335423Z",
          "start_time": "2021-06-03T09:28:59.303577Z"
        },
        "deletable": false,
        "editable": false,
        "run_control": {
          "frozen": true
        },
        "id": "4ciUQRxL73mL",
        "outputId": "fc45250a-94c7-45fc-d714-31a57bf4001b"
      },
      "source": [
        "pd.DataFrame(TSP).T.fillna(0)"
      ],
      "execution_count": null,
      "outputs": [
        {
          "output_type": "execute_result",
          "data": {
            "text/html": [
              "<div>\n",
              "<style scoped>\n",
              "    .dataframe tbody tr th:only-of-type {\n",
              "        vertical-align: middle;\n",
              "    }\n",
              "\n",
              "    .dataframe tbody tr th {\n",
              "        vertical-align: top;\n",
              "    }\n",
              "\n",
              "    .dataframe thead th {\n",
              "        text-align: right;\n",
              "    }\n",
              "</style>\n",
              "<table border=\"1\" class=\"dataframe\">\n",
              "  <thead>\n",
              "    <tr style=\"text-align: right;\">\n",
              "      <th></th>\n",
              "      <th>Aveiro</th>\n",
              "      <th>Beja</th>\n",
              "      <th>Castelo Branco</th>\n",
              "      <th>Vilamoura</th>\n",
              "      <th>Porto</th>\n",
              "      <th>Lisboa</th>\n",
              "    </tr>\n",
              "  </thead>\n",
              "  <tbody>\n",
              "    <tr>\n",
              "      <th>Lisboa</th>\n",
              "      <td>255.0</td>\n",
              "      <td>178.0</td>\n",
              "      <td>224.0</td>\n",
              "      <td>263.0</td>\n",
              "      <td>356.0</td>\n",
              "      <td>0.0</td>\n",
              "    </tr>\n",
              "    <tr>\n",
              "      <th>Aveiro</th>\n",
              "      <td>0.0</td>\n",
              "      <td>389.0</td>\n",
              "      <td>200.0</td>\n",
              "      <td>475.0</td>\n",
              "      <td>80.0</td>\n",
              "      <td>255.0</td>\n",
              "    </tr>\n",
              "    <tr>\n",
              "      <th>Beja</th>\n",
              "      <td>389.0</td>\n",
              "      <td>0.0</td>\n",
              "      <td>275.0</td>\n",
              "      <td>130.0</td>\n",
              "      <td>451.0</td>\n",
              "      <td>178.0</td>\n",
              "    </tr>\n",
              "    <tr>\n",
              "      <th>Castelo Branco</th>\n",
              "      <td>200.0</td>\n",
              "      <td>275.0</td>\n",
              "      <td>0.0</td>\n",
              "      <td>310.0</td>\n",
              "      <td>170.0</td>\n",
              "      <td>224.0</td>\n",
              "    </tr>\n",
              "    <tr>\n",
              "      <th>Vilamoura</th>\n",
              "      <td>475.0</td>\n",
              "      <td>130.0</td>\n",
              "      <td>310.0</td>\n",
              "      <td>0.0</td>\n",
              "      <td>570.0</td>\n",
              "      <td>263.0</td>\n",
              "    </tr>\n",
              "    <tr>\n",
              "      <th>Porto</th>\n",
              "      <td>80.0</td>\n",
              "      <td>451.0</td>\n",
              "      <td>170.0</td>\n",
              "      <td>570.0</td>\n",
              "      <td>0.0</td>\n",
              "      <td>356.0</td>\n",
              "    </tr>\n",
              "  </tbody>\n",
              "</table>\n",
              "</div>"
            ],
            "text/plain": [
              "                Aveiro   Beja  Castelo Branco  Vilamoura  Porto  Lisboa\n",
              "Lisboa           255.0  178.0           224.0      263.0  356.0     0.0\n",
              "Aveiro             0.0  389.0           200.0      475.0   80.0   255.0\n",
              "Beja             389.0    0.0           275.0      130.0  451.0   178.0\n",
              "Castelo Branco   200.0  275.0             0.0      310.0  170.0   224.0\n",
              "Vilamoura        475.0  130.0           310.0        0.0  570.0   263.0\n",
              "Porto             80.0  451.0           170.0      570.0    0.0   356.0"
            ]
          },
          "metadata": {
            "tags": []
          },
          "execution_count": 4
        }
      ]
    },
    {
      "cell_type": "markdown",
      "metadata": {
        "deletable": false,
        "editable": false,
        "run_control": {
          "frozen": true
        },
        "id": "6bD_0nsu73mL"
      },
      "source": [
        "## Pergunta 1\n",
        "\n",
        "Escreva uma função `random_tour(graph, start)` a qual passamos o grafo TSP e o ponto de partida (chegada). \n",
        "A função deverá devolver um tuplo cuja primeira componente deve ser a sequencia de cidades\n",
        "começado e acabando no mesmo lugar. O segundo elemento deve ser o custo desse tour. Para esta \n",
        "segunda componente deverá escrever uma segunda função `tour_cost(graph, tour)` que recebe o grafo TSP e \n",
        "o tour.  \n",
        "\n",
        "### Dicas\n",
        "\n",
        "1. Dado um dicionário `d` a função `d.keys()` é útil para obter todas as chaves definidas em `d`\n",
        "2. A biblioteca `random` contem uma função `shuffle` que poderá ser útil"
      ]
    },
    {
      "cell_type": "code",
      "metadata": {
        "ExecuteTime": {
          "end_time": "2021-06-03T09:28:59.352456Z",
          "start_time": "2021-06-03T09:28:59.340333Z"
        },
        "code_folding": [],
        "deletable": false,
        "editable": false,
        "run_control": {
          "frozen": true
        },
        "id": "rfwByVVG73mM"
      },
      "source": [
        "def tour_cost(graph, tour):\n",
        "    \"\"\"\n",
        "    Esta função calcula o 'custo' total de um tour. No exemplo desta prática trabalhamos com distância.\n",
        "    g: grafo\n",
        "    tour: qualquer tour valido de acordo com o grafo g\n",
        "    \"\"\"\n",
        "\n",
        "    # we can make use of the zip function\n",
        "    cost = 0\n",
        "    for city_start, city_end in zip(tour[:-1], tour[1:]):\n",
        "        cost += graph[city_start][city_end]\n",
        "\n",
        "    # or with a list comprehension\n",
        "    cost = (\n",
        "        sum([graph[city_start][city_end]\n",
        "             for city_start, city_end in zip(tour[:-1], tour[1:])])\n",
        "    )\n",
        "    return cost\n",
        "\n",
        "\n",
        "def random_tour(graph: dict, start: str) -> tuple:\n",
        "\n",
        "    other_cities = [city for city in graph.keys() if city != start]\n",
        "    random.shuffle(other_cities)\n",
        "    tour = [start] + other_cities + [start]\n",
        "    cost = tour_cost(graph, tour)\n",
        "\n",
        "    return (tour, cost)"
      ],
      "execution_count": null,
      "outputs": []
    },
    {
      "cell_type": "code",
      "metadata": {
        "ExecuteTime": {
          "end_time": "2021-06-03T09:28:59.365897Z",
          "start_time": "2021-06-03T09:28:59.354726Z"
        },
        "deletable": false,
        "editable": false,
        "run_control": {
          "frozen": true
        },
        "id": "E6t4u0WW73mM",
        "outputId": "a89fa36d-1638-4efa-d676-5909bc4fcb6d"
      },
      "source": [
        "random_tour(TSP, 'Lisboa')"
      ],
      "execution_count": null,
      "outputs": [
        {
          "output_type": "execute_result",
          "data": {
            "text/plain": [
              "(['Lisboa',\n",
              "  'Porto',\n",
              "  'Beja',\n",
              "  'Vilamoura',\n",
              "  'Castelo Branco',\n",
              "  'Aveiro',\n",
              "  'Lisboa'],\n",
              " 1702)"
            ]
          },
          "metadata": {
            "tags": []
          },
          "execution_count": 6
        }
      ]
    },
    {
      "cell_type": "markdown",
      "metadata": {
        "deletable": false,
        "editable": false,
        "run_control": {
          "frozen": true
        },
        "id": "CbIDsszA73mM"
      },
      "source": [
        "## Pergunta 2\n",
        "\n",
        "Considere a função `swap_random(lst)` dada para a sua conveniência.\n",
        "Escreva uma função `neighbour_tour(g, tr, hist, max_it` que\n",
        "\n",
        "1. Calcule um tour vizinho do tour `tr` que resulta de trocar duas cidades no itinerário. \n",
        "2. O tour vizinho não pode alterar o ponto de partida (chegada)\n",
        "3. O tour vizinho não pode ser conhecido, por isso passamos uma list hist que contem os itinerários já conhecidos\n",
        "4. Se a função não encontra um novo vizinho nunca antes visto em `max_it` iterações, a mesma devolverá o valor `-1`"
      ]
    },
    {
      "cell_type": "code",
      "metadata": {
        "ExecuteTime": {
          "end_time": "2021-06-03T09:28:59.378974Z",
          "start_time": "2021-06-03T09:28:59.369124Z"
        },
        "code_folding": [],
        "deletable": false,
        "editable": false,
        "run_control": {
          "frozen": true
        },
        "id": "Be1DV-Nd73mN"
      },
      "source": [
        "def swap_random(lst: list):\n",
        "    \"\"\"\n",
        "    A simple implementation of a function that swaps a pair of random elements in a list\n",
        "    \n",
        "    lst: input list\n",
        "    \"\"\"\n",
        "    idx = range(len(lst))\n",
        "    i1, i2 = random.sample(idx, 2) \n",
        "    lst[i1], lst[i2] = lst[i2], lst[i1] \n",
        "    \n",
        "    return lst\n",
        "\n",
        "\n",
        "def neighbour_tour(graph: dict, tour: list, hist: list, max_it: int):\n",
        "    \"\"\"\n",
        "    generate a neighbour tour by swapping a random pair of inner cities.\n",
        "    the generated neighbour must be a tour not previously considered, thus not in the hist\n",
        "    max_it is used to stop trying to find an unseen neighbour after max_it trials\n",
        "    \n",
        "    g: graph\n",
        "    tour: current tour\n",
        "    hist: previously seen tours\n",
        "    max_it: max number of iterations after which we stop searching for unseen neighbours\n",
        "    \"\"\"\n",
        "    # defina o corpo da sua função aqui\n",
        "    # devolver tuplo correspondente a novo tour e custo se encontrar\n",
        "    # se depois de max_it tentativas não encontrar novo tour\n",
        "    # devolver o valor -1\n",
        "    \n",
        "    for _ in range(max_it):\n",
        "        \n",
        "        nb_tour = [tour[0]] + swap_random(tour[1:-1]) + [tour[-1]]\n",
        "        \n",
        "        # compute cost\n",
        "        nb_cost = tour_cost(graph, nb_tour)  \n",
        "        \n",
        "        if (nb_tour, nb_cost) not in hist:\n",
        "            \n",
        "            # append to history\n",
        "            hist.append( (nb_tour, nb_cost) )\n",
        "            \n",
        "            # return path, cost, and history\n",
        "            return nb_tour, nb_cost, hist\n",
        "\n",
        "    # If no path was found return None values for both tour and cost and the hist    \n",
        "    return None, None, hist\n",
        "       "
      ],
      "execution_count": null,
      "outputs": []
    },
    {
      "cell_type": "markdown",
      "metadata": {
        "deletable": false,
        "editable": false,
        "run_control": {
          "frozen": true
        },
        "id": "IKkxNum373mN"
      },
      "source": [
        "Get a tour first"
      ]
    },
    {
      "cell_type": "code",
      "metadata": {
        "ExecuteTime": {
          "end_time": "2021-06-03T09:28:59.391085Z",
          "start_time": "2021-06-03T09:28:59.381987Z"
        },
        "deletable": false,
        "editable": false,
        "run_control": {
          "frozen": true
        },
        "id": "4478ulbm73mN"
      },
      "source": [
        "tour, cost = random_tour(TSP, 'Beja')"
      ],
      "execution_count": null,
      "outputs": []
    },
    {
      "cell_type": "markdown",
      "metadata": {
        "deletable": false,
        "editable": false,
        "run_control": {
          "frozen": true
        },
        "id": "CoL9YSf873mO"
      },
      "source": [
        "Starts in "
      ]
    },
    {
      "cell_type": "code",
      "metadata": {
        "ExecuteTime": {
          "end_time": "2021-06-03T09:28:59.406546Z",
          "start_time": "2021-06-03T09:28:59.398098Z"
        },
        "deletable": false,
        "editable": false,
        "run_control": {
          "frozen": true
        },
        "id": "CpEBZqxP73mO",
        "outputId": "34611ef8-7449-4668-a688-a854f184e554"
      },
      "source": [
        "[tour[0]]"
      ],
      "execution_count": null,
      "outputs": [
        {
          "output_type": "execute_result",
          "data": {
            "text/plain": [
              "['Beja']"
            ]
          },
          "metadata": {
            "tags": []
          },
          "execution_count": 9
        }
      ]
    },
    {
      "cell_type": "code",
      "metadata": {
        "ExecuteTime": {
          "end_time": "2021-06-03T09:28:59.422394Z",
          "start_time": "2021-06-03T09:28:59.414397Z"
        },
        "deletable": false,
        "editable": false,
        "run_control": {
          "frozen": true
        },
        "id": "6eykMO8L73mO",
        "outputId": "0aa96a94-5efb-4fd9-b38d-d3ff4240f6d0"
      },
      "source": [
        "tour, cost"
      ],
      "execution_count": null,
      "outputs": [
        {
          "output_type": "execute_result",
          "data": {
            "text/plain": [
              "(['Beja', 'Porto', 'Castelo Branco', 'Lisboa', 'Vilamoura', 'Aveiro', 'Beja'],\n",
              " 1972)"
            ]
          },
          "metadata": {
            "tags": []
          },
          "execution_count": 10
        }
      ]
    },
    {
      "cell_type": "markdown",
      "metadata": {
        "deletable": false,
        "editable": false,
        "run_control": {
          "frozen": true
        },
        "id": "HvmjtCTg73mO"
      },
      "source": [
        "Create a data structure to keep all the paths"
      ]
    },
    {
      "cell_type": "code",
      "metadata": {
        "ExecuteTime": {
          "end_time": "2021-06-03T09:28:59.437298Z",
          "start_time": "2021-06-03T09:28:59.427101Z"
        },
        "deletable": false,
        "editable": false,
        "run_control": {
          "frozen": true
        },
        "scrolled": true,
        "id": "o98ngdbW73mO",
        "outputId": "f5659fe6-9c5a-493b-cbce-c923c82718f4"
      },
      "source": [
        "hist = []\n",
        "hist.append(tour)\n",
        "\n",
        "# Compute one path\n",
        "a_tour, cost, hist = neighbour_tour(TSP, tour, hist, 30)\n",
        "a_tour, cost, hist"
      ],
      "execution_count": null,
      "outputs": [
        {
          "output_type": "execute_result",
          "data": {
            "text/plain": [
              "(['Beja', 'Porto', 'Castelo Branco', 'Aveiro', 'Vilamoura', 'Lisboa', 'Beja'],\n",
              " 1737,\n",
              " [['Beja', 'Porto', 'Castelo Branco', 'Lisboa', 'Vilamoura', 'Aveiro', 'Beja'],\n",
              "  (['Beja',\n",
              "    'Porto',\n",
              "    'Castelo Branco',\n",
              "    'Aveiro',\n",
              "    'Vilamoura',\n",
              "    'Lisboa',\n",
              "    'Beja'],\n",
              "   1737)])"
            ]
          },
          "metadata": {
            "tags": []
          },
          "execution_count": 11
        }
      ]
    },
    {
      "cell_type": "markdown",
      "metadata": {
        "deletable": false,
        "editable": false,
        "run_control": {
          "frozen": true
        },
        "id": "3YhxN9AM73mP"
      },
      "source": [
        "Or create an empty data structure and capture all the possible paths"
      ]
    },
    {
      "cell_type": "code",
      "metadata": {
        "ExecuteTime": {
          "end_time": "2021-06-03T09:28:59.457344Z",
          "start_time": "2021-06-03T09:28:59.442754Z"
        },
        "code_folding": [
          1,
          5
        ],
        "deletable": false,
        "editable": false,
        "run_control": {
          "frozen": true
        },
        "scrolled": true,
        "id": "zJ7n_UjR73mP",
        "outputId": "025babc0-48e7-4c3b-ff85-d9634a525348"
      },
      "source": [
        "hist = []\n",
        "for _ in range(30):\n",
        "    nb_tour, nb_cost, hist = neighbour_tour(TSP, tour, hist, 30)\n",
        "    \n",
        "    # if no more paths, stop\n",
        "    if nb_tour is None:\n",
        "        break\n",
        "hist"
      ],
      "execution_count": null,
      "outputs": [
        {
          "output_type": "execute_result",
          "data": {
            "text/plain": [
              "[(['Beja', 'Porto', 'Vilamoura', 'Lisboa', 'Castelo Branco', 'Aveiro', 'Beja'],\n",
              "  2097),\n",
              " (['Beja', 'Porto', 'Aveiro', 'Lisboa', 'Vilamoura', 'Castelo Branco', 'Beja'],\n",
              "  1634),\n",
              " (['Beja', 'Lisboa', 'Castelo Branco', 'Porto', 'Vilamoura', 'Aveiro', 'Beja'],\n",
              "  2006),\n",
              " (['Beja', 'Porto', 'Castelo Branco', 'Aveiro', 'Vilamoura', 'Lisboa', 'Beja'],\n",
              "  1737),\n",
              " (['Beja', 'Porto', 'Castelo Branco', 'Vilamoura', 'Lisboa', 'Aveiro', 'Beja'],\n",
              "  1838),\n",
              " (['Beja', 'Castelo Branco', 'Porto', 'Lisboa', 'Vilamoura', 'Aveiro', 'Beja'],\n",
              "  1928),\n",
              " (['Beja', 'Porto', 'Lisboa', 'Castelo Branco', 'Vilamoura', 'Aveiro', 'Beja'],\n",
              "  2205),\n",
              " (['Beja', 'Vilamoura', 'Castelo Branco', 'Lisboa', 'Porto', 'Aveiro', 'Beja'],\n",
              "  1489),\n",
              " (['Beja', 'Porto', 'Castelo Branco', 'Lisboa', 'Aveiro', 'Vilamoura', 'Beja'],\n",
              "  1705),\n",
              " (['Beja', 'Aveiro', 'Castelo Branco', 'Lisboa', 'Vilamoura', 'Porto', 'Beja'],\n",
              "  2097)]"
            ]
          },
          "metadata": {
            "tags": []
          },
          "execution_count": 12
        }
      ]
    },
    {
      "cell_type": "markdown",
      "metadata": {
        "deletable": false,
        "editable": false,
        "run_control": {
          "frozen": true
        },
        "id": "P4aW77KG73mP"
      },
      "source": [
        "## Pergunta 3\n",
        "\n",
        "Implemente o algoritmo de simulated annealing cujo pseudocódigo poderá encontrar no conjunto de slides de busca estocástica.\n"
      ]
    },
    {
      "cell_type": "code",
      "metadata": {
        "ExecuteTime": {
          "end_time": "2021-06-03T09:28:59.480628Z",
          "start_time": "2021-06-03T09:28:59.460473Z"
        },
        "deletable": false,
        "editable": false,
        "run_control": {
          "frozen": true
        },
        "id": "J-FrQnmP73mP"
      },
      "source": [
        "def simulated_annealing(graph, start, t, alpha, max_it):\n",
        "    \"\"\"\n",
        "    Perform simulated annealing stochastic search\n",
        "    \n",
        "    g: graph\n",
        "    start: the city in which we start and end the tour\n",
        "    t: temperature\n",
        "    alpha: factor by which to decrease the temperature\n",
        "    max_it: max it number of max iterations to search for unseen neighbours\n",
        "    \"\"\"\n",
        "    \n",
        "    #  g = the input graph\n",
        "    #  history = []    \n",
        "    g = graph\n",
        "    history = []\n",
        "    \n",
        "    # h = tuple with some random tour that begins and ends in city s and total cost\n",
        "    h = random_tour(graph, start)\n",
        "    # append h to the history\n",
        "    history.append(h)\n",
        "    # set initial temperature to t\n",
        "    temp_initial = t\n",
        "    # set final temperature to a low value\n",
        "    temp_final = 0.000001\n",
        "    # current temp = initial temperature\n",
        "    temp_current = temp_initial\n",
        "    #  while current temp >= final temperature:\n",
        "    while temp_current >= temp_final:\n",
        "        \n",
        "        # get current tour and cost\n",
        "        tour, cost = h\n",
        "        tour = h[0]\n",
        "        cost = h[1]\n",
        "        \n",
        "        print(\"current temp: {}, cost: {}\".format(temp_current, cost))\n",
        "        \n",
        "        # get a new neighbour tour that is not in history (and its cost)\"\n",
        "        nb_tour, nb_cost, history = neighbour_tour(graph, tour, history, max_it)\n",
        "        \n",
        "        # if new neighbour was found:\"\n",
        "        if nb_tour is not None:\n",
        "            \n",
        "            # delta = cost of current tour - cost of new tour\n",
        "            delta = cost - nb_cost\n",
        "            \n",
        "            print(\"delta:{}\".format(delta))\n",
        "            # if delta is positive (means new tour is shorter):\n",
        "            if delta > 0:\n",
        "                print('new path found, greedy search')\n",
        "                # current tour = new tour\n",
        "                h = (nb_tour, nb_cost)\n",
        "  \n",
        "            # else, we activate the temperature mechanism\n",
        "            else:\n",
        "                # get a random real d between 0 and 1\n",
        "                random_number = random.random()\n",
        "                \n",
        "                # if e < e^(delta / current temp) (e -> Euler’s number 2.7182..)\n",
        "                print(\"delta:{}, random_number:{}, temp_current:{}, prob:{}\".format(delta, random_number, temp_current, math.exp(delta / temp_current)))\n",
        "                if random_number < math.exp(delta / temp_current):\n",
        "                        print('new path found via TEMP')\n",
        "                        # h = n\n",
        "                        h = (nb_tour, nb_cost)\n",
        "                    \n",
        "        # decrement the temperature\n",
        "        temp_current -= alpha\n",
        "        \n",
        "    return h\n"
      ],
      "execution_count": null,
      "outputs": []
    },
    {
      "cell_type": "code",
      "metadata": {
        "ExecuteTime": {
          "end_time": "2021-06-03T09:29:54.107090Z",
          "start_time": "2021-06-03T09:29:54.041024Z"
        },
        "deletable": false,
        "editable": false,
        "run_control": {
          "frozen": true
        },
        "scrolled": false,
        "id": "poysWyEi73mQ",
        "outputId": "9325c87b-debe-499b-dafe-ae358acba449"
      },
      "source": [
        "simulated_annealing(TSP, \"Beja\", t=200, alpha=1, max_it=5)"
      ],
      "execution_count": null,
      "outputs": [
        {
          "output_type": "stream",
          "text": [
            "current temp: 200, cost: 1382\n",
            "delta:128\n",
            "new path found, greedy search\n",
            "current temp: 199, cost: 1254\n",
            "delta:-420\n",
            "delta:-420, random_number:0.49599698500830347, temp_current:199, prob:0.12117096899062368\n",
            "current temp: 198, cost: 1254\n",
            "delta:-255\n",
            "delta:-255, random_number:0.41828244108124313, temp_current:198, prob:0.27585531054564477\n",
            "current temp: 197, cost: 1254\n",
            "delta:131\n",
            "new path found, greedy search\n",
            "current temp: 196, cost: 1123\n",
            "delta:-545\n",
            "delta:-545, random_number:0.4546987104458896, temp_current:196, prob:0.06200053624274233\n",
            "current temp: 195, cost: 1123\n",
            "delta:-380\n",
            "delta:-380, random_number:0.7862925858112442, temp_current:195, prob:0.142456591217157\n",
            "current temp: 194, cost: 1123\n",
            "delta:-716\n",
            "delta:-716, random_number:0.6452139068425198, temp_current:194, prob:0.024953987510745\n",
            "current temp: 193, cost: 1123\n",
            "delta:-327\n",
            "delta:-327, random_number:0.4364002482928566, temp_current:193, prob:0.18372769828462274\n",
            "current temp: 192, cost: 1123\n",
            "delta:-134\n",
            "delta:-134, random_number:0.881385777750821, temp_current:192, prob:0.49762093491548537\n",
            "current temp: 191, cost: 1123\n",
            "current temp: 190, cost: 1123\n",
            "delta:-181\n",
            "delta:-181, random_number:0.28460598752558375, temp_current:190, prob:0.3857246218761584\n",
            "new path found via TEMP\n",
            "current temp: 189, cost: 1304\n",
            "delta:-204\n",
            "delta:-204, random_number:0.8362055581688967, temp_current:189, prob:0.33981121031577627\n",
            "current temp: 188, cost: 1304\n",
            "delta:-236\n",
            "delta:-236, random_number:0.8681125707126026, temp_current:188, prob:0.28498488108756953\n",
            "current temp: 187, cost: 1304\n",
            "delta:131\n",
            "new path found, greedy search\n",
            "current temp: 186, cost: 1173\n",
            "delta:-488\n",
            "delta:-488, random_number:0.7017609665944763, temp_current:186, prob:0.07253718776205417\n",
            "current temp: 185, cost: 1173\n",
            "delta:-296\n",
            "delta:-296, random_number:0.9722684248979188, temp_current:185, prob:0.20189651799465538\n",
            "current temp: 184, cost: 1173\n",
            "delta:-949\n",
            "delta:-949, random_number:0.860709565258339, temp_current:184, prob:0.005755446266655247\n",
            "current temp: 183, cost: 1173\n",
            "current temp: 182, cost: 1173\n",
            "delta:-361\n",
            "delta:-361, random_number:0.41257731413355714, temp_current:182, prob:0.13758457177237804\n",
            "current temp: 181, cost: 1173\n",
            "delta:-749\n",
            "delta:-749, random_number:0.3551234569482763, temp_current:181, prob:0.01595278994347716\n",
            "current temp: 180, cost: 1173\n",
            "delta:-361\n",
            "delta:-361, random_number:0.13643301661442364, temp_current:180, prob:0.13458550519718152\n",
            "current temp: 179, cost: 1173\n",
            "current temp: 178, cost: 1173\n",
            "delta:-83\n",
            "delta:-83, random_number:0.3271223189838982, temp_current:178, prob:0.6273239940866697\n",
            "new path found via TEMP\n",
            "current temp: 177, cost: 1256\n",
            "delta:-545\n",
            "delta:-545, random_number:0.006134634425062124, temp_current:177, prob:0.046000820522901824\n",
            "new path found via TEMP\n",
            "current temp: 176, cost: 1801\n",
            "delta:128\n",
            "new path found, greedy search\n",
            "current temp: 175, cost: 1673\n",
            "delta:184\n",
            "new path found, greedy search\n",
            "current temp: 174, cost: 1489\n",
            "delta:-262\n",
            "delta:-262, random_number:0.9128264737939318, temp_current:174, prob:0.22185148079167086\n",
            "current temp: 173, cost: 1489\n",
            "current temp: 172, cost: 1489\n",
            "delta:-483\n",
            "delta:-483, random_number:0.9048172456603711, temp_current:172, prob:0.06031710593987899\n",
            "current temp: 171, cost: 1489\n",
            "current temp: 170, cost: 1489\n",
            "delta:-121\n",
            "delta:-121, random_number:0.9284089551333687, temp_current:170, prob:0.490777355139512\n",
            "current temp: 169, cost: 1489\n",
            "delta:-380\n",
            "delta:-380, random_number:0.4619576626558465, temp_current:169, prob:0.10555525595391058\n",
            "current temp: 168, cost: 1489\n",
            "current temp: 167, cost: 1489\n",
            "current temp: 166, cost: 1489\n",
            "current temp: 165, cost: 1489\n",
            "current temp: 164, cost: 1489\n",
            "current temp: 163, cost: 1489\n",
            "current temp: 162, cost: 1489\n",
            "current temp: 161, cost: 1489\n",
            "current temp: 160, cost: 1489\n",
            "current temp: 159, cost: 1489\n",
            "current temp: 158, cost: 1489\n",
            "current temp: 157, cost: 1489\n",
            "current temp: 156, cost: 1489\n",
            "delta:-380\n",
            "delta:-380, random_number:0.22482181224409525, temp_current:156, prob:0.08751916894999903\n",
            "current temp: 155, cost: 1489\n",
            "current temp: 154, cost: 1489\n",
            "current temp: 153, cost: 1489\n",
            "current temp: 152, cost: 1489\n",
            "current temp: 151, cost: 1489\n",
            "current temp: 150, cost: 1489\n",
            "current temp: 149, cost: 1489\n",
            "current temp: 148, cost: 1489\n",
            "current temp: 147, cost: 1489\n",
            "current temp: 146, cost: 1489\n",
            "current temp: 145, cost: 1489\n",
            "current temp: 144, cost: 1489\n",
            "current temp: 143, cost: 1489\n",
            "current temp: 142, cost: 1489\n",
            "current temp: 141, cost: 1489\n",
            "current temp: 140, cost: 1489\n",
            "current temp: 139, cost: 1489\n",
            "current temp: 138, cost: 1489\n",
            "current temp: 137, cost: 1489\n",
            "current temp: 136, cost: 1489\n",
            "current temp: 135, cost: 1489\n",
            "current temp: 134, cost: 1489\n",
            "current temp: 133, cost: 1489\n",
            "current temp: 132, cost: 1489\n",
            "current temp: 131, cost: 1489\n",
            "current temp: 130, cost: 1489\n",
            "current temp: 129, cost: 1489\n",
            "current temp: 128, cost: 1489\n",
            "current temp: 127, cost: 1489\n",
            "current temp: 126, cost: 1489\n",
            "current temp: 125, cost: 1489\n",
            "current temp: 124, cost: 1489\n",
            "current temp: 123, cost: 1489\n",
            "current temp: 122, cost: 1489\n",
            "current temp: 121, cost: 1489\n",
            "current temp: 120, cost: 1489\n",
            "current temp: 119, cost: 1489\n",
            "current temp: 118, cost: 1489\n",
            "current temp: 117, cost: 1489\n",
            "current temp: 116, cost: 1489\n",
            "current temp: 115, cost: 1489\n",
            "current temp: 114, cost: 1489\n",
            "current temp: 113, cost: 1489\n",
            "current temp: 112, cost: 1489\n",
            "current temp: 111, cost: 1489\n",
            "current temp: 110, cost: 1489\n",
            "current temp: 109, cost: 1489\n",
            "current temp: 108, cost: 1489\n",
            "current temp: 107, cost: 1489\n",
            "current temp: 106, cost: 1489\n",
            "current temp: 105, cost: 1489\n",
            "current temp: 104, cost: 1489\n",
            "current temp: 103, cost: 1489\n",
            "current temp: 102, cost: 1489\n",
            "current temp: 101, cost: 1489\n",
            "current temp: 100, cost: 1489\n",
            "current temp: 99, cost: 1489\n",
            "current temp: 98, cost: 1489\n",
            "current temp: 97, cost: 1489\n",
            "current temp: 96, cost: 1489\n",
            "current temp: 95, cost: 1489\n",
            "current temp: 94, cost: 1489\n",
            "current temp: 93, cost: 1489\n",
            "current temp: 92, cost: 1489\n",
            "current temp: 91, cost: 1489\n",
            "current temp: 90, cost: 1489\n",
            "current temp: 89, cost: 1489\n",
            "current temp: 88, cost: 1489\n",
            "current temp: 87, cost: 1489\n",
            "current temp: 86, cost: 1489\n",
            "current temp: 85, cost: 1489\n",
            "current temp: 84, cost: 1489\n",
            "current temp: 83, cost: 1489\n",
            "current temp: 82, cost: 1489\n",
            "current temp: 81, cost: 1489\n",
            "current temp: 80, cost: 1489\n",
            "current temp: 79, cost: 1489\n",
            "current temp: 78, cost: 1489\n",
            "current temp: 77, cost: 1489\n",
            "current temp: 76, cost: 1489\n",
            "current temp: 75, cost: 1489\n",
            "current temp: 74, cost: 1489\n",
            "current temp: 73, cost: 1489\n",
            "current temp: 72, cost: 1489\n",
            "current temp: 71, cost: 1489\n",
            "current temp: 70, cost: 1489\n",
            "current temp: 69, cost: 1489\n",
            "current temp: 68, cost: 1489\n",
            "current temp: 67, cost: 1489\n",
            "current temp: 66, cost: 1489\n",
            "current temp: 65, cost: 1489\n",
            "current temp: 64, cost: 1489\n",
            "current temp: 63, cost: 1489\n",
            "current temp: 62, cost: 1489\n",
            "current temp: 61, cost: 1489\n",
            "current temp: 60, cost: 1489\n",
            "current temp: 59, cost: 1489\n",
            "current temp: 58, cost: 1489\n",
            "current temp: 57, cost: 1489\n",
            "current temp: 56, cost: 1489\n",
            "current temp: 55, cost: 1489\n",
            "current temp: 54, cost: 1489\n",
            "current temp: 53, cost: 1489\n",
            "current temp: 52, cost: 1489\n",
            "current temp: 51, cost: 1489\n",
            "current temp: 50, cost: 1489\n",
            "current temp: 49, cost: 1489\n",
            "current temp: 48, cost: 1489\n",
            "current temp: 47, cost: 1489\n",
            "current temp: 46, cost: 1489\n",
            "current temp: 45, cost: 1489\n",
            "current temp: 44, cost: 1489\n",
            "current temp: 43, cost: 1489\n",
            "current temp: 42, cost: 1489\n",
            "current temp: 41, cost: 1489\n",
            "current temp: 40, cost: 1489\n",
            "current temp: 39, cost: 1489\n",
            "current temp: 38, cost: 1489\n",
            "current temp: 37, cost: 1489\n",
            "current temp: 36, cost: 1489\n",
            "current temp: 35, cost: 1489\n",
            "current temp: 34, cost: 1489\n",
            "current temp: 33, cost: 1489\n",
            "current temp: 32, cost: 1489\n",
            "current temp: 31, cost: 1489\n",
            "current temp: 30, cost: 1489\n",
            "current temp: 29, cost: 1489\n",
            "current temp: 28, cost: 1489\n",
            "current temp: 27, cost: 1489\n",
            "current temp: 26, cost: 1489\n",
            "current temp: 25, cost: 1489\n",
            "current temp: 24, cost: 1489\n",
            "current temp: 23, cost: 1489\n",
            "current temp: 22, cost: 1489\n",
            "current temp: 21, cost: 1489\n",
            "current temp: 20, cost: 1489\n",
            "current temp: 19, cost: 1489\n",
            "current temp: 18, cost: 1489\n",
            "current temp: 17, cost: 1489\n",
            "current temp: 16, cost: 1489\n",
            "current temp: 15, cost: 1489\n",
            "current temp: 14, cost: 1489\n",
            "current temp: 13, cost: 1489\n",
            "current temp: 12, cost: 1489\n",
            "current temp: 11, cost: 1489\n",
            "current temp: 10, cost: 1489\n",
            "current temp: 9, cost: 1489\n",
            "current temp: 8, cost: 1489\n",
            "current temp: 7, cost: 1489\n",
            "current temp: 6, cost: 1489\n",
            "current temp: 5, cost: 1489\n",
            "current temp: 4, cost: 1489\n",
            "current temp: 3, cost: 1489\n",
            "current temp: 2, cost: 1489\n",
            "current temp: 1, cost: 1489\n"
          ],
          "name": "stdout"
        },
        {
          "output_type": "execute_result",
          "data": {
            "text/plain": [
              "(['Beja', 'Vilamoura', 'Castelo Branco', 'Lisboa', 'Porto', 'Aveiro', 'Beja'],\n",
              " 1489)"
            ]
          },
          "metadata": {
            "tags": []
          },
          "execution_count": 16
        }
      ]
    },
    {
      "cell_type": "code",
      "metadata": {
        "ExecuteTime": {
          "end_time": "2021-05-31T21:16:57.596318Z",
          "start_time": "2021-05-31T21:16:57.582381Z"
        },
        "deletable": false,
        "editable": false,
        "run_control": {
          "frozen": true
        },
        "scrolled": false,
        "id": "ihGZUJZV73mQ",
        "outputId": "3400043b-c065-4cc1-9825-b671cad3792f"
      },
      "source": [
        "simulated_annealing(TSP, \"Beja\", t=0.001, alpha=0.001, max_it=5)"
      ],
      "execution_count": null,
      "outputs": [
        {
          "output_type": "stream",
          "text": [
            "current temp: 0.001, cost: 2098\n",
            "delta:134\n",
            "new path found, greedy search\n"
          ],
          "name": "stdout"
        },
        {
          "output_type": "execute_result",
          "data": {
            "text/plain": [
              "(['Beja', 'Porto', 'Vilamoura', 'Castelo Branco', 'Aveiro', 'Lisboa', 'Beja'],\n",
              " 1964)"
            ]
          },
          "metadata": {
            "tags": []
          },
          "execution_count": 160
        }
      ]
    },
    {
      "cell_type": "markdown",
      "metadata": {
        "deletable": false,
        "editable": false,
        "run_control": {
          "frozen": true
        },
        "id": "jKWEzFDV73mQ"
      },
      "source": [
        "## Pergunta 4\n",
        "### Se o tempo permitir, caso contrário fica como trabalho para casa:\n",
        "\n",
        "No penúltimo slide do conjunto de slides de busca estocática temos uma versão estendida das cidades portuguesas, a qual inclui uma matriz triangular das distâncias entre onze cidades. Escreva uma função em Python que (a) leia uma matriz deste género em formato CSV (pode assumir que os valores não representados na matriz do slide são -1 e (b) gere uma lista de adjacencias como aquela que utilizou para esta sessão prática"
      ]
    },
    {
      "cell_type": "code",
      "metadata": {
        "ExecuteTime": {
          "end_time": "2021-05-31T10:27:27.105769Z",
          "start_time": "2021-05-31T10:27:27.073919Z"
        },
        "deletable": false,
        "editable": false,
        "run_control": {
          "frozen": true
        },
        "id": "6bSSxYpM73mQ"
      },
      "source": [
        "import numpy as np\n",
        "import pandas as pd\n",
        "\n",
        "example = pd.DataFrame(np.tril(np.random.randint(1,100,100).reshape(10,10), k=-1), \n",
        "                       columns=[\"City\"+str(x) for x in range(10)])\n",
        "example.to_csv('example.csv', index=False)"
      ],
      "execution_count": null,
      "outputs": []
    },
    {
      "cell_type": "code",
      "metadata": {
        "ExecuteTime": {
          "end_time": "2021-05-31T10:27:28.415895Z",
          "start_time": "2021-05-31T10:27:28.396710Z"
        },
        "deletable": false,
        "editable": false,
        "run_control": {
          "frozen": true
        },
        "id": "aR-GFth-73mQ",
        "outputId": "86c5e09f-f29d-4c32-cb64-2682781c220f"
      },
      "source": [
        "example"
      ],
      "execution_count": null,
      "outputs": [
        {
          "output_type": "execute_result",
          "data": {
            "text/html": [
              "<div>\n",
              "<style scoped>\n",
              "    .dataframe tbody tr th:only-of-type {\n",
              "        vertical-align: middle;\n",
              "    }\n",
              "\n",
              "    .dataframe tbody tr th {\n",
              "        vertical-align: top;\n",
              "    }\n",
              "\n",
              "    .dataframe thead th {\n",
              "        text-align: right;\n",
              "    }\n",
              "</style>\n",
              "<table border=\"1\" class=\"dataframe\">\n",
              "  <thead>\n",
              "    <tr style=\"text-align: right;\">\n",
              "      <th></th>\n",
              "      <th>City0</th>\n",
              "      <th>City1</th>\n",
              "      <th>City2</th>\n",
              "      <th>City3</th>\n",
              "      <th>City4</th>\n",
              "      <th>City5</th>\n",
              "      <th>City6</th>\n",
              "      <th>City7</th>\n",
              "      <th>City8</th>\n",
              "      <th>City9</th>\n",
              "    </tr>\n",
              "  </thead>\n",
              "  <tbody>\n",
              "    <tr>\n",
              "      <th>0</th>\n",
              "      <td>0</td>\n",
              "      <td>0</td>\n",
              "      <td>0</td>\n",
              "      <td>0</td>\n",
              "      <td>0</td>\n",
              "      <td>0</td>\n",
              "      <td>0</td>\n",
              "      <td>0</td>\n",
              "      <td>0</td>\n",
              "      <td>0</td>\n",
              "    </tr>\n",
              "    <tr>\n",
              "      <th>1</th>\n",
              "      <td>51</td>\n",
              "      <td>0</td>\n",
              "      <td>0</td>\n",
              "      <td>0</td>\n",
              "      <td>0</td>\n",
              "      <td>0</td>\n",
              "      <td>0</td>\n",
              "      <td>0</td>\n",
              "      <td>0</td>\n",
              "      <td>0</td>\n",
              "    </tr>\n",
              "    <tr>\n",
              "      <th>2</th>\n",
              "      <td>22</td>\n",
              "      <td>8</td>\n",
              "      <td>0</td>\n",
              "      <td>0</td>\n",
              "      <td>0</td>\n",
              "      <td>0</td>\n",
              "      <td>0</td>\n",
              "      <td>0</td>\n",
              "      <td>0</td>\n",
              "      <td>0</td>\n",
              "    </tr>\n",
              "    <tr>\n",
              "      <th>3</th>\n",
              "      <td>54</td>\n",
              "      <td>62</td>\n",
              "      <td>60</td>\n",
              "      <td>0</td>\n",
              "      <td>0</td>\n",
              "      <td>0</td>\n",
              "      <td>0</td>\n",
              "      <td>0</td>\n",
              "      <td>0</td>\n",
              "      <td>0</td>\n",
              "    </tr>\n",
              "    <tr>\n",
              "      <th>4</th>\n",
              "      <td>10</td>\n",
              "      <td>71</td>\n",
              "      <td>45</td>\n",
              "      <td>19</td>\n",
              "      <td>0</td>\n",
              "      <td>0</td>\n",
              "      <td>0</td>\n",
              "      <td>0</td>\n",
              "      <td>0</td>\n",
              "      <td>0</td>\n",
              "    </tr>\n",
              "    <tr>\n",
              "      <th>5</th>\n",
              "      <td>67</td>\n",
              "      <td>27</td>\n",
              "      <td>6</td>\n",
              "      <td>69</td>\n",
              "      <td>70</td>\n",
              "      <td>0</td>\n",
              "      <td>0</td>\n",
              "      <td>0</td>\n",
              "      <td>0</td>\n",
              "      <td>0</td>\n",
              "    </tr>\n",
              "    <tr>\n",
              "      <th>6</th>\n",
              "      <td>25</td>\n",
              "      <td>5</td>\n",
              "      <td>58</td>\n",
              "      <td>33</td>\n",
              "      <td>17</td>\n",
              "      <td>11</td>\n",
              "      <td>0</td>\n",
              "      <td>0</td>\n",
              "      <td>0</td>\n",
              "      <td>0</td>\n",
              "    </tr>\n",
              "    <tr>\n",
              "      <th>7</th>\n",
              "      <td>82</td>\n",
              "      <td>36</td>\n",
              "      <td>88</td>\n",
              "      <td>77</td>\n",
              "      <td>49</td>\n",
              "      <td>85</td>\n",
              "      <td>73</td>\n",
              "      <td>0</td>\n",
              "      <td>0</td>\n",
              "      <td>0</td>\n",
              "    </tr>\n",
              "    <tr>\n",
              "      <th>8</th>\n",
              "      <td>97</td>\n",
              "      <td>17</td>\n",
              "      <td>78</td>\n",
              "      <td>17</td>\n",
              "      <td>69</td>\n",
              "      <td>30</td>\n",
              "      <td>87</td>\n",
              "      <td>28</td>\n",
              "      <td>0</td>\n",
              "      <td>0</td>\n",
              "    </tr>\n",
              "    <tr>\n",
              "      <th>9</th>\n",
              "      <td>16</td>\n",
              "      <td>30</td>\n",
              "      <td>84</td>\n",
              "      <td>72</td>\n",
              "      <td>70</td>\n",
              "      <td>80</td>\n",
              "      <td>66</td>\n",
              "      <td>59</td>\n",
              "      <td>19</td>\n",
              "      <td>0</td>\n",
              "    </tr>\n",
              "  </tbody>\n",
              "</table>\n",
              "</div>"
            ],
            "text/plain": [
              "   City0  City1  City2  City3  City4  City5  City6  City7  City8  City9\n",
              "0      0      0      0      0      0      0      0      0      0      0\n",
              "1     51      0      0      0      0      0      0      0      0      0\n",
              "2     22      8      0      0      0      0      0      0      0      0\n",
              "3     54     62     60      0      0      0      0      0      0      0\n",
              "4     10     71     45     19      0      0      0      0      0      0\n",
              "5     67     27      6     69     70      0      0      0      0      0\n",
              "6     25      5     58     33     17     11      0      0      0      0\n",
              "7     82     36     88     77     49     85     73      0      0      0\n",
              "8     97     17     78     17     69     30     87     28      0      0\n",
              "9     16     30     84     72     70     80     66     59     19      0"
            ]
          },
          "metadata": {
            "tags": []
          },
          "execution_count": 55
        }
      ]
    },
    {
      "cell_type": "code",
      "metadata": {
        "ExecuteTime": {
          "end_time": "2021-05-31T21:19:33.298355Z",
          "start_time": "2021-05-31T21:19:32.994271Z"
        },
        "deletable": false,
        "editable": false,
        "run_control": {
          "frozen": true
        },
        "id": "OZCih3Bj73mR",
        "outputId": "4423097d-73bf-4da0-8503-14e9054bf518"
      },
      "source": [
        "!cat example.csv"
      ],
      "execution_count": null,
      "outputs": [
        {
          "output_type": "stream",
          "text": [
            "City0,City1,City2,City3,City4,City5,City6,City7,City8,City9\r\n",
            "0,0,0,0,0,0,0,0,0,0\r\n",
            "51,0,0,0,0,0,0,0,0,0\r\n",
            "22,8,0,0,0,0,0,0,0,0\r\n",
            "54,62,60,0,0,0,0,0,0,0\r\n",
            "10,71,45,19,0,0,0,0,0,0\r\n",
            "67,27,6,69,70,0,0,0,0,0\r\n",
            "25,5,58,33,17,11,0,0,0,0\r\n",
            "82,36,88,77,49,85,73,0,0,0\r\n",
            "97,17,78,17,69,30,87,28,0,0\r\n",
            "16,30,84,72,70,80,66,59,19,0\r\n"
          ],
          "name": "stdout"
        }
      ]
    },
    {
      "cell_type": "code",
      "metadata": {
        "ExecuteTime": {
          "end_time": "2021-05-31T21:20:02.573043Z",
          "start_time": "2021-05-31T21:20:02.546043Z"
        },
        "deletable": false,
        "editable": false,
        "run_control": {
          "frozen": true
        },
        "id": "UH6Se8cj73mR",
        "outputId": "8f9e7210-bce1-4856-a3ce-69cbd00fb59e"
      },
      "source": [
        "pd.read_csv('example.csv')"
      ],
      "execution_count": null,
      "outputs": [
        {
          "output_type": "execute_result",
          "data": {
            "text/html": [
              "<div>\n",
              "<style scoped>\n",
              "    .dataframe tbody tr th:only-of-type {\n",
              "        vertical-align: middle;\n",
              "    }\n",
              "\n",
              "    .dataframe tbody tr th {\n",
              "        vertical-align: top;\n",
              "    }\n",
              "\n",
              "    .dataframe thead th {\n",
              "        text-align: right;\n",
              "    }\n",
              "</style>\n",
              "<table border=\"1\" class=\"dataframe\">\n",
              "  <thead>\n",
              "    <tr style=\"text-align: right;\">\n",
              "      <th></th>\n",
              "      <th>City0</th>\n",
              "      <th>City1</th>\n",
              "      <th>City2</th>\n",
              "      <th>City3</th>\n",
              "      <th>City4</th>\n",
              "      <th>City5</th>\n",
              "      <th>City6</th>\n",
              "      <th>City7</th>\n",
              "      <th>City8</th>\n",
              "      <th>City9</th>\n",
              "    </tr>\n",
              "  </thead>\n",
              "  <tbody>\n",
              "    <tr>\n",
              "      <th>0</th>\n",
              "      <td>0</td>\n",
              "      <td>0</td>\n",
              "      <td>0</td>\n",
              "      <td>0</td>\n",
              "      <td>0</td>\n",
              "      <td>0</td>\n",
              "      <td>0</td>\n",
              "      <td>0</td>\n",
              "      <td>0</td>\n",
              "      <td>0</td>\n",
              "    </tr>\n",
              "    <tr>\n",
              "      <th>1</th>\n",
              "      <td>51</td>\n",
              "      <td>0</td>\n",
              "      <td>0</td>\n",
              "      <td>0</td>\n",
              "      <td>0</td>\n",
              "      <td>0</td>\n",
              "      <td>0</td>\n",
              "      <td>0</td>\n",
              "      <td>0</td>\n",
              "      <td>0</td>\n",
              "    </tr>\n",
              "    <tr>\n",
              "      <th>2</th>\n",
              "      <td>22</td>\n",
              "      <td>8</td>\n",
              "      <td>0</td>\n",
              "      <td>0</td>\n",
              "      <td>0</td>\n",
              "      <td>0</td>\n",
              "      <td>0</td>\n",
              "      <td>0</td>\n",
              "      <td>0</td>\n",
              "      <td>0</td>\n",
              "    </tr>\n",
              "    <tr>\n",
              "      <th>3</th>\n",
              "      <td>54</td>\n",
              "      <td>62</td>\n",
              "      <td>60</td>\n",
              "      <td>0</td>\n",
              "      <td>0</td>\n",
              "      <td>0</td>\n",
              "      <td>0</td>\n",
              "      <td>0</td>\n",
              "      <td>0</td>\n",
              "      <td>0</td>\n",
              "    </tr>\n",
              "    <tr>\n",
              "      <th>4</th>\n",
              "      <td>10</td>\n",
              "      <td>71</td>\n",
              "      <td>45</td>\n",
              "      <td>19</td>\n",
              "      <td>0</td>\n",
              "      <td>0</td>\n",
              "      <td>0</td>\n",
              "      <td>0</td>\n",
              "      <td>0</td>\n",
              "      <td>0</td>\n",
              "    </tr>\n",
              "    <tr>\n",
              "      <th>5</th>\n",
              "      <td>67</td>\n",
              "      <td>27</td>\n",
              "      <td>6</td>\n",
              "      <td>69</td>\n",
              "      <td>70</td>\n",
              "      <td>0</td>\n",
              "      <td>0</td>\n",
              "      <td>0</td>\n",
              "      <td>0</td>\n",
              "      <td>0</td>\n",
              "    </tr>\n",
              "    <tr>\n",
              "      <th>6</th>\n",
              "      <td>25</td>\n",
              "      <td>5</td>\n",
              "      <td>58</td>\n",
              "      <td>33</td>\n",
              "      <td>17</td>\n",
              "      <td>11</td>\n",
              "      <td>0</td>\n",
              "      <td>0</td>\n",
              "      <td>0</td>\n",
              "      <td>0</td>\n",
              "    </tr>\n",
              "    <tr>\n",
              "      <th>7</th>\n",
              "      <td>82</td>\n",
              "      <td>36</td>\n",
              "      <td>88</td>\n",
              "      <td>77</td>\n",
              "      <td>49</td>\n",
              "      <td>85</td>\n",
              "      <td>73</td>\n",
              "      <td>0</td>\n",
              "      <td>0</td>\n",
              "      <td>0</td>\n",
              "    </tr>\n",
              "    <tr>\n",
              "      <th>8</th>\n",
              "      <td>97</td>\n",
              "      <td>17</td>\n",
              "      <td>78</td>\n",
              "      <td>17</td>\n",
              "      <td>69</td>\n",
              "      <td>30</td>\n",
              "      <td>87</td>\n",
              "      <td>28</td>\n",
              "      <td>0</td>\n",
              "      <td>0</td>\n",
              "    </tr>\n",
              "    <tr>\n",
              "      <th>9</th>\n",
              "      <td>16</td>\n",
              "      <td>30</td>\n",
              "      <td>84</td>\n",
              "      <td>72</td>\n",
              "      <td>70</td>\n",
              "      <td>80</td>\n",
              "      <td>66</td>\n",
              "      <td>59</td>\n",
              "      <td>19</td>\n",
              "      <td>0</td>\n",
              "    </tr>\n",
              "  </tbody>\n",
              "</table>\n",
              "</div>"
            ],
            "text/plain": [
              "   City0  City1  City2  City3  City4  City5  City6  City7  City8  City9\n",
              "0      0      0      0      0      0      0      0      0      0      0\n",
              "1     51      0      0      0      0      0      0      0      0      0\n",
              "2     22      8      0      0      0      0      0      0      0      0\n",
              "3     54     62     60      0      0      0      0      0      0      0\n",
              "4     10     71     45     19      0      0      0      0      0      0\n",
              "5     67     27      6     69     70      0      0      0      0      0\n",
              "6     25      5     58     33     17     11      0      0      0      0\n",
              "7     82     36     88     77     49     85     73      0      0      0\n",
              "8     97     17     78     17     69     30     87     28      0      0\n",
              "9     16     30     84     72     70     80     66     59     19      0"
            ]
          },
          "metadata": {
            "tags": []
          },
          "execution_count": 166
        }
      ]
    },
    {
      "cell_type": "code",
      "metadata": {
        "ExecuteTime": {
          "end_time": "2021-05-31T10:30:57.119516Z",
          "start_time": "2021-05-31T10:30:57.096308Z"
        },
        "deletable": false,
        "editable": false,
        "run_control": {
          "frozen": true
        },
        "id": "PDCqO66T73mR",
        "outputId": "cd41e8e3-0802-4388-9205-527079867a9b"
      },
      "source": [
        "example.T"
      ],
      "execution_count": null,
      "outputs": [
        {
          "output_type": "execute_result",
          "data": {
            "text/html": [
              "<div>\n",
              "<style scoped>\n",
              "    .dataframe tbody tr th:only-of-type {\n",
              "        vertical-align: middle;\n",
              "    }\n",
              "\n",
              "    .dataframe tbody tr th {\n",
              "        vertical-align: top;\n",
              "    }\n",
              "\n",
              "    .dataframe thead th {\n",
              "        text-align: right;\n",
              "    }\n",
              "</style>\n",
              "<table border=\"1\" class=\"dataframe\">\n",
              "  <thead>\n",
              "    <tr style=\"text-align: right;\">\n",
              "      <th></th>\n",
              "      <th>0</th>\n",
              "      <th>1</th>\n",
              "      <th>2</th>\n",
              "      <th>3</th>\n",
              "      <th>4</th>\n",
              "      <th>5</th>\n",
              "      <th>6</th>\n",
              "      <th>7</th>\n",
              "      <th>8</th>\n",
              "      <th>9</th>\n",
              "    </tr>\n",
              "  </thead>\n",
              "  <tbody>\n",
              "    <tr>\n",
              "      <th>City0</th>\n",
              "      <td>0</td>\n",
              "      <td>51</td>\n",
              "      <td>22</td>\n",
              "      <td>54</td>\n",
              "      <td>10</td>\n",
              "      <td>67</td>\n",
              "      <td>25</td>\n",
              "      <td>82</td>\n",
              "      <td>97</td>\n",
              "      <td>16</td>\n",
              "    </tr>\n",
              "    <tr>\n",
              "      <th>City1</th>\n",
              "      <td>0</td>\n",
              "      <td>0</td>\n",
              "      <td>8</td>\n",
              "      <td>62</td>\n",
              "      <td>71</td>\n",
              "      <td>27</td>\n",
              "      <td>5</td>\n",
              "      <td>36</td>\n",
              "      <td>17</td>\n",
              "      <td>30</td>\n",
              "    </tr>\n",
              "    <tr>\n",
              "      <th>City2</th>\n",
              "      <td>0</td>\n",
              "      <td>0</td>\n",
              "      <td>0</td>\n",
              "      <td>60</td>\n",
              "      <td>45</td>\n",
              "      <td>6</td>\n",
              "      <td>58</td>\n",
              "      <td>88</td>\n",
              "      <td>78</td>\n",
              "      <td>84</td>\n",
              "    </tr>\n",
              "    <tr>\n",
              "      <th>City3</th>\n",
              "      <td>0</td>\n",
              "      <td>0</td>\n",
              "      <td>0</td>\n",
              "      <td>0</td>\n",
              "      <td>19</td>\n",
              "      <td>69</td>\n",
              "      <td>33</td>\n",
              "      <td>77</td>\n",
              "      <td>17</td>\n",
              "      <td>72</td>\n",
              "    </tr>\n",
              "    <tr>\n",
              "      <th>City4</th>\n",
              "      <td>0</td>\n",
              "      <td>0</td>\n",
              "      <td>0</td>\n",
              "      <td>0</td>\n",
              "      <td>0</td>\n",
              "      <td>70</td>\n",
              "      <td>17</td>\n",
              "      <td>49</td>\n",
              "      <td>69</td>\n",
              "      <td>70</td>\n",
              "    </tr>\n",
              "    <tr>\n",
              "      <th>City5</th>\n",
              "      <td>0</td>\n",
              "      <td>0</td>\n",
              "      <td>0</td>\n",
              "      <td>0</td>\n",
              "      <td>0</td>\n",
              "      <td>0</td>\n",
              "      <td>11</td>\n",
              "      <td>85</td>\n",
              "      <td>30</td>\n",
              "      <td>80</td>\n",
              "    </tr>\n",
              "    <tr>\n",
              "      <th>City6</th>\n",
              "      <td>0</td>\n",
              "      <td>0</td>\n",
              "      <td>0</td>\n",
              "      <td>0</td>\n",
              "      <td>0</td>\n",
              "      <td>0</td>\n",
              "      <td>0</td>\n",
              "      <td>73</td>\n",
              "      <td>87</td>\n",
              "      <td>66</td>\n",
              "    </tr>\n",
              "    <tr>\n",
              "      <th>City7</th>\n",
              "      <td>0</td>\n",
              "      <td>0</td>\n",
              "      <td>0</td>\n",
              "      <td>0</td>\n",
              "      <td>0</td>\n",
              "      <td>0</td>\n",
              "      <td>0</td>\n",
              "      <td>0</td>\n",
              "      <td>28</td>\n",
              "      <td>59</td>\n",
              "    </tr>\n",
              "    <tr>\n",
              "      <th>City8</th>\n",
              "      <td>0</td>\n",
              "      <td>0</td>\n",
              "      <td>0</td>\n",
              "      <td>0</td>\n",
              "      <td>0</td>\n",
              "      <td>0</td>\n",
              "      <td>0</td>\n",
              "      <td>0</td>\n",
              "      <td>0</td>\n",
              "      <td>19</td>\n",
              "    </tr>\n",
              "    <tr>\n",
              "      <th>City9</th>\n",
              "      <td>0</td>\n",
              "      <td>0</td>\n",
              "      <td>0</td>\n",
              "      <td>0</td>\n",
              "      <td>0</td>\n",
              "      <td>0</td>\n",
              "      <td>0</td>\n",
              "      <td>0</td>\n",
              "      <td>0</td>\n",
              "      <td>0</td>\n",
              "    </tr>\n",
              "  </tbody>\n",
              "</table>\n",
              "</div>"
            ],
            "text/plain": [
              "       0   1   2   3   4   5   6   7   8   9\n",
              "City0  0  51  22  54  10  67  25  82  97  16\n",
              "City1  0   0   8  62  71  27   5  36  17  30\n",
              "City2  0   0   0  60  45   6  58  88  78  84\n",
              "City3  0   0   0   0  19  69  33  77  17  72\n",
              "City4  0   0   0   0   0  70  17  49  69  70\n",
              "City5  0   0   0   0   0   0  11  85  30  80\n",
              "City6  0   0   0   0   0   0   0  73  87  66\n",
              "City7  0   0   0   0   0   0   0   0  28  59\n",
              "City8  0   0   0   0   0   0   0   0   0  19\n",
              "City9  0   0   0   0   0   0   0   0   0   0"
            ]
          },
          "metadata": {
            "tags": []
          },
          "execution_count": 58
        }
      ]
    },
    {
      "cell_type": "code",
      "metadata": {
        "ExecuteTime": {
          "end_time": "2021-05-31T10:31:29.893817Z",
          "start_time": "2021-05-31T10:31:29.866866Z"
        },
        "deletable": false,
        "editable": false,
        "run_control": {
          "frozen": true
        },
        "id": "BoZj7Ooi73mS",
        "outputId": "543153a6-8389-4373-b7ed-d1830d26746c"
      },
      "source": [
        "symmetric = pd.DataFrame(example.T.values + example.values, columns=example.columns)\n",
        "symmetric"
      ],
      "execution_count": null,
      "outputs": [
        {
          "output_type": "execute_result",
          "data": {
            "text/html": [
              "<div>\n",
              "<style scoped>\n",
              "    .dataframe tbody tr th:only-of-type {\n",
              "        vertical-align: middle;\n",
              "    }\n",
              "\n",
              "    .dataframe tbody tr th {\n",
              "        vertical-align: top;\n",
              "    }\n",
              "\n",
              "    .dataframe thead th {\n",
              "        text-align: right;\n",
              "    }\n",
              "</style>\n",
              "<table border=\"1\" class=\"dataframe\">\n",
              "  <thead>\n",
              "    <tr style=\"text-align: right;\">\n",
              "      <th></th>\n",
              "      <th>City0</th>\n",
              "      <th>City1</th>\n",
              "      <th>City2</th>\n",
              "      <th>City3</th>\n",
              "      <th>City4</th>\n",
              "      <th>City5</th>\n",
              "      <th>City6</th>\n",
              "      <th>City7</th>\n",
              "      <th>City8</th>\n",
              "      <th>City9</th>\n",
              "    </tr>\n",
              "  </thead>\n",
              "  <tbody>\n",
              "    <tr>\n",
              "      <th>0</th>\n",
              "      <td>0</td>\n",
              "      <td>51</td>\n",
              "      <td>22</td>\n",
              "      <td>54</td>\n",
              "      <td>10</td>\n",
              "      <td>67</td>\n",
              "      <td>25</td>\n",
              "      <td>82</td>\n",
              "      <td>97</td>\n",
              "      <td>16</td>\n",
              "    </tr>\n",
              "    <tr>\n",
              "      <th>1</th>\n",
              "      <td>51</td>\n",
              "      <td>0</td>\n",
              "      <td>8</td>\n",
              "      <td>62</td>\n",
              "      <td>71</td>\n",
              "      <td>27</td>\n",
              "      <td>5</td>\n",
              "      <td>36</td>\n",
              "      <td>17</td>\n",
              "      <td>30</td>\n",
              "    </tr>\n",
              "    <tr>\n",
              "      <th>2</th>\n",
              "      <td>22</td>\n",
              "      <td>8</td>\n",
              "      <td>0</td>\n",
              "      <td>60</td>\n",
              "      <td>45</td>\n",
              "      <td>6</td>\n",
              "      <td>58</td>\n",
              "      <td>88</td>\n",
              "      <td>78</td>\n",
              "      <td>84</td>\n",
              "    </tr>\n",
              "    <tr>\n",
              "      <th>3</th>\n",
              "      <td>54</td>\n",
              "      <td>62</td>\n",
              "      <td>60</td>\n",
              "      <td>0</td>\n",
              "      <td>19</td>\n",
              "      <td>69</td>\n",
              "      <td>33</td>\n",
              "      <td>77</td>\n",
              "      <td>17</td>\n",
              "      <td>72</td>\n",
              "    </tr>\n",
              "    <tr>\n",
              "      <th>4</th>\n",
              "      <td>10</td>\n",
              "      <td>71</td>\n",
              "      <td>45</td>\n",
              "      <td>19</td>\n",
              "      <td>0</td>\n",
              "      <td>70</td>\n",
              "      <td>17</td>\n",
              "      <td>49</td>\n",
              "      <td>69</td>\n",
              "      <td>70</td>\n",
              "    </tr>\n",
              "    <tr>\n",
              "      <th>5</th>\n",
              "      <td>67</td>\n",
              "      <td>27</td>\n",
              "      <td>6</td>\n",
              "      <td>69</td>\n",
              "      <td>70</td>\n",
              "      <td>0</td>\n",
              "      <td>11</td>\n",
              "      <td>85</td>\n",
              "      <td>30</td>\n",
              "      <td>80</td>\n",
              "    </tr>\n",
              "    <tr>\n",
              "      <th>6</th>\n",
              "      <td>25</td>\n",
              "      <td>5</td>\n",
              "      <td>58</td>\n",
              "      <td>33</td>\n",
              "      <td>17</td>\n",
              "      <td>11</td>\n",
              "      <td>0</td>\n",
              "      <td>73</td>\n",
              "      <td>87</td>\n",
              "      <td>66</td>\n",
              "    </tr>\n",
              "    <tr>\n",
              "      <th>7</th>\n",
              "      <td>82</td>\n",
              "      <td>36</td>\n",
              "      <td>88</td>\n",
              "      <td>77</td>\n",
              "      <td>49</td>\n",
              "      <td>85</td>\n",
              "      <td>73</td>\n",
              "      <td>0</td>\n",
              "      <td>28</td>\n",
              "      <td>59</td>\n",
              "    </tr>\n",
              "    <tr>\n",
              "      <th>8</th>\n",
              "      <td>97</td>\n",
              "      <td>17</td>\n",
              "      <td>78</td>\n",
              "      <td>17</td>\n",
              "      <td>69</td>\n",
              "      <td>30</td>\n",
              "      <td>87</td>\n",
              "      <td>28</td>\n",
              "      <td>0</td>\n",
              "      <td>19</td>\n",
              "    </tr>\n",
              "    <tr>\n",
              "      <th>9</th>\n",
              "      <td>16</td>\n",
              "      <td>30</td>\n",
              "      <td>84</td>\n",
              "      <td>72</td>\n",
              "      <td>70</td>\n",
              "      <td>80</td>\n",
              "      <td>66</td>\n",
              "      <td>59</td>\n",
              "      <td>19</td>\n",
              "      <td>0</td>\n",
              "    </tr>\n",
              "  </tbody>\n",
              "</table>\n",
              "</div>"
            ],
            "text/plain": [
              "   City0  City1  City2  City3  City4  City5  City6  City7  City8  City9\n",
              "0      0     51     22     54     10     67     25     82     97     16\n",
              "1     51      0      8     62     71     27      5     36     17     30\n",
              "2     22      8      0     60     45      6     58     88     78     84\n",
              "3     54     62     60      0     19     69     33     77     17     72\n",
              "4     10     71     45     19      0     70     17     49     69     70\n",
              "5     67     27      6     69     70      0     11     85     30     80\n",
              "6     25      5     58     33     17     11      0     73     87     66\n",
              "7     82     36     88     77     49     85     73      0     28     59\n",
              "8     97     17     78     17     69     30     87     28      0     19\n",
              "9     16     30     84     72     70     80     66     59     19      0"
            ]
          },
          "metadata": {
            "tags": []
          },
          "execution_count": 60
        }
      ]
    },
    {
      "cell_type": "code",
      "metadata": {
        "ExecuteTime": {
          "end_time": "2021-05-31T21:29:53.978897Z",
          "start_time": "2021-05-31T21:29:53.961313Z"
        },
        "deletable": false,
        "editable": false,
        "run_control": {
          "frozen": true
        },
        "scrolled": false,
        "id": "jLYgjgly73mS",
        "outputId": "6ba5f172-7b25-412b-c9a4-96657a609497"
      },
      "source": [
        "{ x : { y: symmetric[x][y] for y in cities if y != x } for x in cities} "
      ],
      "execution_count": null,
      "outputs": [
        {
          "output_type": "execute_result",
          "data": {
            "text/plain": [
              "{'City0': {'City1': 51,\n",
              "  'City2': 22,\n",
              "  'City3': 54,\n",
              "  'City4': 10,\n",
              "  'City5': 67,\n",
              "  'City6': 25,\n",
              "  'City7': 82,\n",
              "  'City8': 97,\n",
              "  'City9': 16},\n",
              " 'City1': {'City0': 51,\n",
              "  'City2': 8,\n",
              "  'City3': 62,\n",
              "  'City4': 71,\n",
              "  'City5': 27,\n",
              "  'City6': 5,\n",
              "  'City7': 36,\n",
              "  'City8': 17,\n",
              "  'City9': 30},\n",
              " 'City2': {'City0': 22,\n",
              "  'City1': 8,\n",
              "  'City3': 60,\n",
              "  'City4': 45,\n",
              "  'City5': 6,\n",
              "  'City6': 58,\n",
              "  'City7': 88,\n",
              "  'City8': 78,\n",
              "  'City9': 84},\n",
              " 'City3': {'City0': 54,\n",
              "  'City1': 62,\n",
              "  'City2': 60,\n",
              "  'City4': 19,\n",
              "  'City5': 69,\n",
              "  'City6': 33,\n",
              "  'City7': 77,\n",
              "  'City8': 17,\n",
              "  'City9': 72},\n",
              " 'City4': {'City0': 10,\n",
              "  'City1': 71,\n",
              "  'City2': 45,\n",
              "  'City3': 19,\n",
              "  'City5': 70,\n",
              "  'City6': 17,\n",
              "  'City7': 49,\n",
              "  'City8': 69,\n",
              "  'City9': 70},\n",
              " 'City5': {'City0': 67,\n",
              "  'City1': 27,\n",
              "  'City2': 6,\n",
              "  'City3': 69,\n",
              "  'City4': 70,\n",
              "  'City6': 11,\n",
              "  'City7': 85,\n",
              "  'City8': 30,\n",
              "  'City9': 80},\n",
              " 'City6': {'City0': 25,\n",
              "  'City1': 5,\n",
              "  'City2': 58,\n",
              "  'City3': 33,\n",
              "  'City4': 17,\n",
              "  'City5': 11,\n",
              "  'City7': 73,\n",
              "  'City8': 87,\n",
              "  'City9': 66},\n",
              " 'City7': {'City0': 82,\n",
              "  'City1': 36,\n",
              "  'City2': 88,\n",
              "  'City3': 77,\n",
              "  'City4': 49,\n",
              "  'City5': 85,\n",
              "  'City6': 73,\n",
              "  'City8': 28,\n",
              "  'City9': 59},\n",
              " 'City8': {'City0': 97,\n",
              "  'City1': 17,\n",
              "  'City2': 78,\n",
              "  'City3': 17,\n",
              "  'City4': 69,\n",
              "  'City5': 30,\n",
              "  'City6': 87,\n",
              "  'City7': 28,\n",
              "  'City9': 19},\n",
              " 'City9': {'City0': 16,\n",
              "  'City1': 30,\n",
              "  'City2': 84,\n",
              "  'City3': 72,\n",
              "  'City4': 70,\n",
              "  'City5': 80,\n",
              "  'City6': 66,\n",
              "  'City7': 59,\n",
              "  'City8': 19}}"
            ]
          },
          "metadata": {
            "tags": []
          },
          "execution_count": 183
        }
      ]
    }
  ]
}