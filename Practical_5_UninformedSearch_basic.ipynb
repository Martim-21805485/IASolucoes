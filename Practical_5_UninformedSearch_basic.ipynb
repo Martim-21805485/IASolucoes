{
  "nbformat": 4,
  "nbformat_minor": 0,
  "metadata": {
    "kernelspec": {
      "display_name": "Python 3",
      "language": "python",
      "name": "python3"
    },
    "language_info": {
      "codemirror_mode": {
        "name": "ipython",
        "version": 3
      },
      "file_extension": ".py",
      "mimetype": "text/x-python",
      "name": "python",
      "nbconvert_exporter": "python",
      "pygments_lexer": "ipython3",
      "version": "3.9.0"
    },
    "colab": {
      "name": "Practical_5_UninformedSearch_basic.ipynb",
      "provenance": [],
      "include_colab_link": true
    }
  },
  "cells": [
    {
      "cell_type": "markdown",
      "metadata": {
        "id": "view-in-github",
        "colab_type": "text"
      },
      "source": [
        "<a href=\"https://colab.research.google.com/github/Martim-21805485/IASolucoes/blob/main/Practical_5_UninformedSearch_basic.ipynb\" target=\"_parent\"><img src=\"https://colab.research.google.com/assets/colab-badge.svg\" alt=\"Open In Colab\"/></a>"
      ]
    },
    {
      "cell_type": "markdown",
      "metadata": {
        "id": "IFSmCF-ONFhF"
      },
      "source": [
        "# Practical  5: introduction to uninformed search"
      ]
    },
    {
      "cell_type": "markdown",
      "metadata": {
        "id": "Sk5wNyVXNFhG"
      },
      "source": [
        "## Problem 2"
      ]
    },
    {
      "cell_type": "code",
      "metadata": {
        "id": "eB7TOK80NFhH"
      },
      "source": [
        "\n",
        "gt = [('A', 'B'),\n",
        "     ('B', 'C'),\n",
        "     ('B', 'E'),\n",
        "     ('B', 'F'),\n",
        "     ('C', 'A'),\n",
        "     ('C', 'D'),\n",
        "     ('C', 'F'),\n",
        "     ('D', 'F'),\n",
        "     ('D', 'G'),\n",
        "     ('G', 'H')\n",
        "    ]\n",
        "\n",
        "gd = {\n",
        "    'A': {'B'},\n",
        "    'B': {'C', 'E', 'F'},\n",
        "    'C': {'A', 'D', 'F'},\n",
        "    'D': {'F', 'G'}, \n",
        "    'E': {},\n",
        "    'F': {}, \n",
        "    'G': {'H'},\n",
        "    'H': {},     \n",
        "}"
      ],
      "execution_count": null,
      "outputs": []
    },
    {
      "cell_type": "markdown",
      "metadata": {
        "id": "Fs9M-t-QNFhH"
      },
      "source": [
        "## Problem 2"
      ]
    },
    {
      "cell_type": "code",
      "metadata": {
        "id": "SJWAkTsONFhH"
      },
      "source": [
        "def uninformed_search_basic(graph, init, goal):\n",
        "    q = [init]\n",
        "    enq = 1\n",
        "    i=0 # vamos manter um contador da iteracao na qual estamos \n",
        "    while q:\n",
        "        i+=1\n",
        "        print('current q ', q)\n",
        "        h = q[0] #primeiro separo a q em cabeca e resto\n",
        "        r = q[1:]\n",
        "        print('iteration', i)\n",
        "        print('q size starts', enq)\n",
        "        if h == goal: #pergunto se a cabeca e o no objetivo\n",
        "            print('found') # se e, acabou o programa\n",
        "            break\n",
        "        else:\n",
        "            enq = enq - 1\n",
        "            e = [el for el in graph[h]] # list(graph[h])\n",
        "            q = r + e  # e + r\n",
        "            enq += len(e)\n",
        "            print('q size end it', len(q))\n",
        "        print('- - - - ')"
      ],
      "execution_count": null,
      "outputs": []
    },
    {
      "cell_type": "markdown",
      "metadata": {
        "id": "wFAspihxNFhI"
      },
      "source": [
        "## Problem 3.1"
      ]
    },
    {
      "cell_type": "code",
      "metadata": {
        "id": "skshg4ZBNFhI"
      },
      "source": [
        "def uninformed_search_visited(graph, start, goal):\n",
        "    q = [start]\n",
        "    v = []\n",
        "    enq = 1\n",
        "    i=0 # vamos manter um contador da iteracao na qual estamos \n",
        "    while q:\n",
        "        i+=1\n",
        "        print('current q ', q)\n",
        "        h = q[0] #primeiro separo a q em cabeca e resto\n",
        "        r = q[1:]\n",
        "        print('iteration', i)\n",
        "        print('q size starts', enq)\n",
        "        if h == goal: #pergunto se a cabeca e o no objetivo\n",
        "            print('found') # se e, acabou o programa\n",
        "            break\n",
        "        else:\n",
        "            v.append(h)\n",
        "            enq = enq - 1\n",
        "            e = [el for el in graph[h] if el not in v] \n",
        "            q = r + e \n",
        "            enq += len(e)\n",
        "            print('q size end it', len(q))\n",
        "        print('- - - - ')"
      ],
      "execution_count": null,
      "outputs": []
    },
    {
      "cell_type": "markdown",
      "metadata": {
        "id": "mHIjGrRcNFhI"
      },
      "source": [
        "## Problem 3.2\n",
        "\n",
        "The key to solving this problem is in the queue itself. The queue becomes a list of \"open\" paths instead of only the terminal nodes. Each path is a tuple, where the first element of the tuple is the next visited node, just like before, and the second element is the path traversed to get to that terminal node of the path from the init node."
      ]
    },
    {
      "cell_type": "code",
      "metadata": {
        "id": "nnBMvNt_NFhI"
      },
      "source": [
        "\n",
        "\n",
        "def uninformed_search(graph, start, goal):\n",
        "    q = [(start, [start])]\n",
        "    #v = []\n",
        "    enq = 1\n",
        "    i=0 # vamos manter um contador da iteração na qual estamos \n",
        "    while q:\n",
        "        i+=1\n",
        "        print('current q has ', q)\n",
        "        h = q[0] #primeiro separo a q em cabeça e resto\n",
        "        r = q[1:]\n",
        "        print('iteration', i)\n",
        "        print('q size starts', enq)\n",
        "        if h[0] == goal: #pergunto se a cabeça é o nó objetivo\n",
        "            print('found') # se é, acabou o programa\n",
        "            break\n",
        "        else:\n",
        "            enq = enq - 1\n",
        "            e = [] # e faço a expansão do h, mas não considerando qualquer nó filho que já tenha sido visitado\n",
        "            for node in graph[h[0]]:\n",
        "                if node not in h[1]:\n",
        "                    e.append(node)\n",
        "                    enq += 1\n",
        "\n",
        "            newnodes = [(ex, h[1] + [ex]) for ex in e]\n",
        "            q =  sorted(newnodes) + r\n",
        "            print('q size end it', len(q))\n",
        "\n",
        "        print('- - - - ')\n",
        "                    "
      ],
      "execution_count": null,
      "outputs": []
    },
    {
      "cell_type": "code",
      "metadata": {
        "id": "Ii4_b3kLNFhJ",
        "outputId": "924fb71e-9623-4400-a809-82de1952ea32"
      },
      "source": [
        "uninformed_search(gd, 'A', 'C')"
      ],
      "execution_count": null,
      "outputs": [
        {
          "output_type": "stream",
          "text": [
            "current q has  [('A', ['A'])]\n",
            "iteration 1\n",
            "q size starts 1\n",
            "q size end it 1\n",
            "- - - - \n",
            "current q has  [('B', ['A', 'B'])]\n",
            "iteration 2\n",
            "q size starts 1\n",
            "q size end it 3\n",
            "- - - - \n",
            "current q has  [('C', ['A', 'B', 'C']), ('E', ['A', 'B', 'E']), ('F', ['A', 'B', 'F'])]\n",
            "iteration 3\n",
            "q size starts 3\n",
            "found\n"
          ],
          "name": "stdout"
        }
      ]
    },
    {
      "cell_type": "code",
      "metadata": {
        "id": "PE8Y7-gSNFhJ"
      },
      "source": [
        ""
      ],
      "execution_count": null,
      "outputs": []
    }
  ]
}