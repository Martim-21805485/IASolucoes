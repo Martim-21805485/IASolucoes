{
  "nbformat": 4,
  "nbformat_minor": 0,
  "metadata": {
    "colab": {
      "name": "Python_Tutorial_1_solutions.ipynb",
      "provenance": [],
      "collapsed_sections": [],
      "toc_visible": true,
      "include_colab_link": true
    },
    "kernelspec": {
      "display_name": "Python 3",
      "language": "python",
      "name": "python3"
    },
    "language_info": {
      "codemirror_mode": {
        "name": "ipython",
        "version": 3
      },
      "file_extension": ".py",
      "mimetype": "text/x-python",
      "name": "python",
      "nbconvert_exporter": "python",
      "pygments_lexer": "ipython3",
      "version": "3.9.0"
    }
  },
  "cells": [
    {
      "cell_type": "markdown",
      "metadata": {
        "id": "view-in-github",
        "colab_type": "text"
      },
      "source": [
        "<a href=\"https://colab.research.google.com/github/Martim-21805485/IASolucoes/blob/main/Python_Tutorial_1_solutions.ipynb\" target=\"_parent\"><img src=\"https://colab.research.google.com/assets/colab-badge.svg\" alt=\"Open In Colab\"/></a>"
      ]
    },
    {
      "cell_type": "markdown",
      "metadata": {
        "id": "tS5ADFY9FvSm"
      },
      "source": [
        "O objetivo deste tutorial é unicamente o ganhar confiança com a construção de código básico em Python, observar a utilidade das células markdown e introduzir, no final to tutorial, o conceito de _função_."
      ]
    },
    {
      "cell_type": "markdown",
      "metadata": {
        "id": "rC-2j2O6w8o8"
      },
      "source": [
        "# Primeira parte\n",
        "\n",
        "\n",
        "## Pergunta 1\n",
        "\n",
        "O produto ponto (dot product) entre dois vetores $v1$ e $v2$ de tamanho $n$ é definido por \n",
        "\n",
        "$\\sum_{i=1}^n v1_i . v2_i $\n",
        "\n",
        "defina o `for` loop necessário para calcular o produto ponto de quaisquer vetores $v1$ e $v2$.\n",
        "\n"
      ]
    },
    {
      "cell_type": "code",
      "metadata": {
        "id": "71CalRrKw-TJ"
      },
      "source": [
        "# pergunta 1\n",
        "\n",
        "v1 = [1,2,3,4]\n",
        "v2 = [3,2,5,4]\n",
        "\n",
        "res = []\n",
        "if len(v1) == len(v2): # validar se os vetores são do mesmo tamanho\n",
        "    for i in range(len(v1)): # aqui utilizamos um ciclo for tradicional \n",
        "        res.append(v1[i]*v2[i])\n",
        "    res = sum(res)\n",
        "\n",
        "print('o produto ponto dos vetores é: ', res)    \n"
      ],
      "execution_count": null,
      "outputs": []
    },
    {
      "cell_type": "markdown",
      "metadata": {
        "id": "l40MIkKu0N2v"
      },
      "source": [
        "## Pergunta 2\n",
        "\n",
        "Experimente usar a função `zip` pasando como parâmetros os vetores v1 e v2. Descreva o que a função produz como resultado.\n",
        "\n",
        "**Nota.** O `zip` vai produzir um objeto da classe zip, mas nos podemos converter esse resultado numa lista através de chamar `list` no resultado do zip"
      ]
    },
    {
      "cell_type": "code",
      "metadata": {
        "id": "pSufwTO8ygIJ"
      },
      "source": [
        "# pergunta 2\n",
        "\n",
        "v1 = [1,2,3,4]\n",
        "v2 = [3,2,5,4]\n",
        "\n",
        "# defina uma variável x e instancie com a aplicação da função zip(v1,v2)\n",
        "\n",
        "x = zip(v1,v2)\n",
        "\n",
        "# aplique a função list à variável x para ver o conteúdo do resultado\n"
      ],
      "execution_count": null,
      "outputs": []
    },
    {
      "cell_type": "markdown",
      "metadata": {
        "id": "vlwN-22X1NHq"
      },
      "source": [
        "Descreva nesta célular o resultado obtido:\n",
        ".  \n",
        ".  \n",
        "zip cria uma lista de tuplos onde cada tuplo corresponde a nth componente de cada um dos vectores.\n",
        ".  \n",
        ".  \n",
        "\n",
        "\n",
        "\n",
        "---\n",
        "## Pergunta 3\n",
        "\n",
        "Como poderiamos escrever o código para calcular o produto ponto de uma forma super Pythonica?\n",
        "\n",
        "**Dica 1.** usar o `zip`   \n",
        "**Dica 2:** quando temos uma lista de número `l` e queremos obter a soma dos seus valores basta com fazer:\n",
        "\n",
        "`sum(l)`"
      ]
    },
    {
      "cell_type": "code",
      "metadata": {
        "id": "kouVzfwHz2GQ"
      },
      "source": [
        "v1 = [1,2,3,4]\n",
        "v2 = [3,2,5,4]\n",
        "\n",
        "if len(v1) == len(v2):\n",
        "  res = sum([item[0]*item[1] for item in zip(v1,v2)])\n",
        "else:\n",
        "  res = -1\n",
        "res"
      ],
      "execution_count": null,
      "outputs": []
    },
    {
      "cell_type": "markdown",
      "metadata": {
        "id": "8N7Gzg2R3T7_"
      },
      "source": [
        "## Pergunta 4\n",
        "\n",
        "A norma L2 dum vector (o que é uma medida da sua magnitude) esta definida como\n",
        "\n",
        "$$ \\lVert x \\rVert = \\sqrt{\\sum_{i=1}^n x_i^2}$$\n",
        "\n",
        "Escreva um for loop para calcular esta medida, dado um vetor. Será necessário utilizar a função `math.sqrt()` para calcular a raíz quadrada."
      ]
    },
    {
      "cell_type": "code",
      "metadata": {
        "id": "lVoWgZTe0CGm"
      },
      "source": [
        "import math\n",
        "\n",
        "v1 = [1,2,3,4]\n",
        "\n",
        "norm = math.sqrt(sum([item**2 for item in v1]))\n",
        "norm"
      ],
      "execution_count": null,
      "outputs": []
    },
    {
      "cell_type": "markdown",
      "metadata": {
        "id": "Vb12GvWP-g-A"
      },
      "source": [
        "## Pergunta 5\n",
        "\n",
        "Um dos temas que ainda não abordamos é como definir **funções** em Python. A forma mais basica duma função em Python é muito simples:\n",
        "\n",
        "```python\n",
        "def name_of_the_function(list of arguments):\n",
        "    do something\n",
        "    do something else\n",
        "    ...\n",
        "    return the_result\n",
        "```\n",
        "\n",
        "1. Defina a função para calcular o produto ponto de dois vetores $v1$ e $v2$\n",
        "\n",
        "2. Defina a função para calcular a norma L2 dum vetor $v$\n"
      ]
    },
    {
      "cell_type": "code",
      "metadata": {
        "id": "tHIzPKN14uU9"
      },
      "source": [
        "\n",
        "# produto ponto\n",
        "\n",
        "def dot_product(v1, v2):\n",
        "    if len(v1) == len(v2):\n",
        "        res = sum([item[0]*item[1] for item in zip(v1,v2)])\n",
        "    else:\n",
        "        res = -1\n",
        "    return res\n",
        "\n",
        "\n",
        "\n",
        "# norma L2\n",
        "\n",
        "def norm_l2(v):\n",
        "    return math.sqrt(sum([item**2 for item in v])) "
      ],
      "execution_count": null,
      "outputs": []
    },
    {
      "cell_type": "code",
      "metadata": {
        "id": "Lz1e3hmB8ddP"
      },
      "source": [
        "v1 = [1,2,3,4]\n",
        "v2 = [3,2,5,4]\n",
        "\n",
        "dot_product(v1, v2)\n",
        "\n"
      ],
      "execution_count": null,
      "outputs": []
    },
    {
      "cell_type": "markdown",
      "metadata": {
        "id": "B5ZKUFsG_kzI"
      },
      "source": [
        "## Pergunta 5\n",
        "\n",
        "Existe uma medida de similaridade entre vetores muito utilizada na ciência dos dados chamada _similaridade coseno_. Dados dois vetores $v1$ e $v2$ esta medida de similaridade é definida pela formula seguinte:\n",
        "\n",
        "\n",
        "$$\n",
        "  cos(v1, v2) = \\frac{v1 . v2}{\\lVert v1 \\rVert \\times \\lVert v2 \\rVert}\n",
        "$$  \n",
        "\n",
        "Utilizando as funções anteriores, defina esta função de similaridade.\n"
      ]
    },
    {
      "cell_type": "code",
      "metadata": {
        "id": "iJmEsbJ5AeyG"
      },
      "source": [
        "# Similaridade coseno\n",
        "\n",
        "def sim_cos(v1, v2):\n",
        "  return dot_product(v1,v2)/ (norm_l2(v1)*norm_l2(v2))\n",
        "\n",
        "\n",
        "v1 = [1,2,3,4]\n",
        "v2 = [3,2,5,4]\n",
        "sim_cos(v1, v2)\n",
        "  "
      ],
      "execution_count": null,
      "outputs": []
    },
    {
      "cell_type": "markdown",
      "metadata": {
        "id": "MYflrEdIA4Cr"
      },
      "source": [
        "# Segunda Parte\n",
        "\n",
        "Considere os dados seguintes, os quais correspondem a notas de alunos no ensino secundário.\n",
        "\n",
        "|            | Maria    | Filipe    | Martin    | Raquel   | Ana      |\n",
        "|------------|----------|-----------|-----------|----------|----------|\n",
        "| genero     | feminino | masculino | masculino | feminino | feminino |\n",
        "| matematica | 14       | 15        | 14        | 16       | 18       |\n",
        "| biologia   | 17       | 14        | 17        | 16       | 15       |\n",
        "| fisica     | 12       | 18        | 17        | 18       | 17       |\n",
        "\n",
        "1. Defina uma estrutura de tipo dicionario que guarde esta informação.\n",
        "\n",
        "2. Defina uma função `group_mean` para calcular a media do grupo para uma cadeira específica (enviada como argumento)\n",
        "\n",
        "3. Altere uma cópia da definição da sua função e chame a esta cópia `gender_mean` para calcular a media de grupo para uma cadeira, mas identificando o género (também passado como argumento)\n",
        "\n"
      ]
    },
    {
      "cell_type": "code",
      "metadata": {
        "id": "IS_stM5KDA2p"
      },
      "source": [
        "\n",
        "\n",
        "my_dict = {\n",
        "    'maria':  {'gender' : 'female', 'age': 18, 'math': 14, 'bio' : 17, 'physics' : 12},\n",
        "    'filipe': {'gender' : 'male',   'age': 18, 'math': 15, 'bio' : 14, 'physics' : 18},\n",
        "    'martin': {'gender' : 'male',   'age': 18, 'math': 14, 'bio' : 17, 'physics' : 17},\n",
        "    'raquel': {'gender' : 'female', 'age': 18, 'math': 16, 'bio' : 16, 'physics' : 18},\n",
        "    'ana':    {'gender' : 'female', 'age': 18, 'math': 18, 'bio' : 15, 'physics' : 17}\n",
        "}\n",
        "\n",
        "\n",
        "def my_mean(lx):\n",
        "    return sum(lx)/len(lx)\n",
        "\n",
        "# Como a pergunta (1) pede a média para uma cadeira específica que passamos\n",
        "# como argumento, não precisamos de fazer nada com o dicionário,\n",
        "# ainda que os valores para cada chave misturem informação pessoal com \n",
        "# informação das cadeiras. O problema de ambiguidade fica resolvido pelo\n",
        "# facto de estarmos a passar o nome da cadeira como argumento.\n",
        "\n",
        "def group_mean(data, subject):\n",
        "    res = []\n",
        "    for item in data:\n",
        "        res.append(data[item][subject])\n",
        "    return sum(res)/len(res)\n",
        "\n",
        "\n",
        "def group_mean_gender(data, subject, gender):\n",
        "    res = []\n",
        "    for item in data:\n",
        "        if data[item]['gender'] == gender:\n",
        "        res.append(data[item][subject])\n",
        "    return sum(res)/len(res)  \n"
      ],
      "execution_count": null,
      "outputs": []
    },
    {
      "cell_type": "code",
      "metadata": {
        "id": "EVpFkRefDlku"
      },
      "source": [
        "group_mean(my_dict, 'bio')"
      ],
      "execution_count": null,
      "outputs": []
    },
    {
      "cell_type": "code",
      "metadata": {
        "id": "Mjh6a3V6LEO3"
      },
      "source": [
        "group_mean_gender(my_dict, 'bio', 'male')"
      ],
      "execution_count": null,
      "outputs": []
    },
    {
      "cell_type": "markdown",
      "metadata": {
        "id": "qPbU_zKjGZOH"
      },
      "source": [
        "# Pergunta Bónus\n",
        "\n",
        "Escreva uma list comprehension que filtre, de uma lista pre-existente de palavras, aquelas que tenham mais do que quatro lettras, e nas quais aparecam pelo menos duas vogais diferentes.\n",
        "\n"
      ]
    },
    {
      "cell_type": "code",
      "metadata": {
        "id": "dMMOlETnEHuj"
      },
      "source": [
        "\n",
        "my_words = ['pyramid', 'car', 'quiet']\n",
        "\n",
        "\n",
        "def count_vowels(word):\n",
        "    vowels = ['a','e','i','o', 'u']\n",
        "    cnt = set([letter for letter in word if letter in vowels])\n",
        "    return len(cnt)"
      ],
      "execution_count": null,
      "outputs": []
    },
    {
      "cell_type": "code",
      "metadata": {
        "id": "yEPiIJgQHYZz"
      },
      "source": [
        "count_vowels('aaeeaaaiiiooouuu')"
      ],
      "execution_count": null,
      "outputs": []
    },
    {
      "cell_type": "code",
      "metadata": {
        "id": "xjRZiL04Lkt5"
      },
      "source": [
        ""
      ],
      "execution_count": null,
      "outputs": []
    }
  ]
}