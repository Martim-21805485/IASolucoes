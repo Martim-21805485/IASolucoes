{
  "nbformat": 4,
  "nbformat_minor": 0,
  "metadata": {
    "kernelspec": {
      "display_name": "Python 3",
      "language": "python",
      "name": "python3"
    },
    "language_info": {
      "codemirror_mode": {
        "name": "ipython",
        "version": 3
      },
      "file_extension": ".py",
      "mimetype": "text/x-python",
      "name": "python",
      "nbconvert_exporter": "python",
      "pygments_lexer": "ipython3",
      "version": "3.7.6"
    },
    "toc": {
      "base_numbering": 1,
      "nav_menu": {},
      "number_sections": false,
      "sideBar": true,
      "skip_h1_title": false,
      "title_cell": "Table of Contents",
      "title_sidebar": "Contents",
      "toc_cell": false,
      "toc_position": {
        "height": "calc(100% - 180px)",
        "left": "10px",
        "top": "150px",
        "width": "244px"
      },
      "toc_section_display": true,
      "toc_window_display": false
    },
    "varInspector": {
      "cols": {
        "lenName": 16,
        "lenType": 16,
        "lenVar": 40
      },
      "kernels_config": {
        "python": {
          "delete_cmd_postfix": "",
          "delete_cmd_prefix": "del ",
          "library": "var_list.py",
          "varRefreshCmd": "print(var_dic_list())"
        },
        "r": {
          "delete_cmd_postfix": ") ",
          "delete_cmd_prefix": "rm(",
          "library": "var_list.r",
          "varRefreshCmd": "cat(var_dic_list()) "
        }
      },
      "types_to_exclude": [
        "module",
        "function",
        "builtin_function_or_method",
        "instance",
        "_Feature"
      ],
      "window_display": false
    },
    "colab": {
      "name": "Lab7-Solution.ipynb",
      "provenance": [],
      "include_colab_link": true
    }
  },
  "cells": [
    {
      "cell_type": "markdown",
      "metadata": {
        "id": "view-in-github",
        "colab_type": "text"
      },
      "source": [
        "<a href=\"https://colab.research.google.com/github/Martim-21805485/IASolucoes/blob/main/Lab7_Solution.ipynb\" target=\"_parent\"><img src=\"https://colab.research.google.com/assets/colab-badge.svg\" alt=\"Open In Colab\"/></a>"
      ]
    },
    {
      "cell_type": "markdown",
      "metadata": {
        "deletable": false,
        "editable": false,
        "run_control": {
          "frozen": true
        },
        "id": "CJvcOPeP7SC4"
      },
      "source": [
        "# Lab 7\n",
        "> Search Algorithms"
      ]
    },
    {
      "cell_type": "markdown",
      "metadata": {
        "deletable": false,
        "editable": false,
        "run_control": {
          "frozen": true
        },
        "id": "wvybAZj07SC4"
      },
      "source": [
        "## Purpose\n",
        "Study Uninformed Search Algorithms."
      ]
    },
    {
      "cell_type": "markdown",
      "metadata": {
        "deletable": false,
        "editable": false,
        "run_control": {
          "frozen": true
        },
        "id": "-AVfevjG7SC5"
      },
      "source": [
        "## Methodology\n",
        "Implementation of Iterative Depth First Search."
      ]
    },
    {
      "cell_type": "markdown",
      "metadata": {
        "deletable": false,
        "editable": false,
        "run_control": {
          "frozen": true
        },
        "id": "xUBXEq2E7SC5"
      },
      "source": [
        "## Setup\n",
        "\n",
        "### Library import"
      ]
    },
    {
      "cell_type": "code",
      "metadata": {
        "ExecuteTime": {
          "end_time": "2021-04-12T19:50:51.941216Z",
          "start_time": "2021-04-12T19:50:51.928671Z"
        },
        "deletable": false,
        "editable": false,
        "run_control": {
          "frozen": true
        },
        "id": "PsYc901w7SC5"
      },
      "source": [
        "# Data manipulation\n",
        "import pandas as pd\n",
        "import numpy as np"
      ],
      "execution_count": null,
      "outputs": []
    },
    {
      "cell_type": "markdown",
      "metadata": {
        "deletable": false,
        "editable": false,
        "run_control": {
          "frozen": true
        },
        "id": "QlN-650Q7SC5"
      },
      "source": [
        "## Data import\n",
        "We retrieve all the required data for the analysis."
      ]
    },
    {
      "cell_type": "code",
      "metadata": {
        "ExecuteTime": {
          "end_time": "2021-04-12T19:50:51.965251Z",
          "start_time": "2021-04-12T19:50:51.951535Z"
        },
        "deletable": false,
        "editable": false,
        "run_control": {
          "frozen": true
        },
        "id": "mHrZEI6c7SC6"
      },
      "source": [
        "edges = [('A', 'B'),\n",
        "     ('B', 'C'),\n",
        "     ('B', 'E'),\n",
        "     ('B', 'F'),\n",
        "     ('C', 'A'),\n",
        "     ('C', 'D'),\n",
        "     ('C', 'F'),\n",
        "     ('D', 'F'),\n",
        "     ('D', 'G'),\n",
        "     ('G', 'H')\n",
        "    ]"
      ],
      "execution_count": null,
      "outputs": []
    },
    {
      "cell_type": "code",
      "metadata": {
        "ExecuteTime": {
          "end_time": "2021-04-12T19:50:51.981912Z",
          "start_time": "2021-04-12T19:50:51.971274Z"
        },
        "deletable": false,
        "editable": false,
        "run_control": {
          "frozen": true
        },
        "id": "Nndu60Uu7SC6",
        "outputId": "92d6b3d1-d702-41a7-ab71-54ac0ceba843"
      },
      "source": [
        "edges"
      ],
      "execution_count": null,
      "outputs": [
        {
          "output_type": "execute_result",
          "data": {
            "text/plain": [
              "[('A', 'B'),\n",
              " ('B', 'C'),\n",
              " ('B', 'E'),\n",
              " ('B', 'F'),\n",
              " ('C', 'A'),\n",
              " ('C', 'D'),\n",
              " ('C', 'F'),\n",
              " ('D', 'F'),\n",
              " ('D', 'G'),\n",
              " ('G', 'H')]"
            ]
          },
          "metadata": {
            "tags": []
          },
          "execution_count": 36
        }
      ]
    },
    {
      "cell_type": "markdown",
      "metadata": {
        "deletable": false,
        "editable": false,
        "run_control": {
          "frozen": true
        },
        "id": "6FKSt-Bm7SC6"
      },
      "source": [
        "## Data processing"
      ]
    },
    {
      "cell_type": "code",
      "metadata": {
        "ExecuteTime": {
          "end_time": "2021-04-12T19:50:52.009861Z",
          "start_time": "2021-04-12T19:50:51.987362Z"
        },
        "deletable": false,
        "editable": false,
        "run_control": {
          "frozen": true
        },
        "id": "rZq6cHjK7SC7",
        "outputId": "2ed2d12e-c96b-47c4-ab58-2ff34a1014ea"
      },
      "source": [
        "G = pd.DataFrame(edges, columns=['In', 'Out'])\n",
        "G['Weight'] = 1\n",
        "G"
      ],
      "execution_count": null,
      "outputs": [
        {
          "output_type": "execute_result",
          "data": {
            "text/html": [
              "<div>\n",
              "<style scoped>\n",
              "    .dataframe tbody tr th:only-of-type {\n",
              "        vertical-align: middle;\n",
              "    }\n",
              "\n",
              "    .dataframe tbody tr th {\n",
              "        vertical-align: top;\n",
              "    }\n",
              "\n",
              "    .dataframe thead th {\n",
              "        text-align: right;\n",
              "    }\n",
              "</style>\n",
              "<table border=\"1\" class=\"dataframe\">\n",
              "  <thead>\n",
              "    <tr style=\"text-align: right;\">\n",
              "      <th></th>\n",
              "      <th>In</th>\n",
              "      <th>Out</th>\n",
              "      <th>Weight</th>\n",
              "    </tr>\n",
              "  </thead>\n",
              "  <tbody>\n",
              "    <tr>\n",
              "      <th>0</th>\n",
              "      <td>A</td>\n",
              "      <td>B</td>\n",
              "      <td>1</td>\n",
              "    </tr>\n",
              "    <tr>\n",
              "      <th>1</th>\n",
              "      <td>B</td>\n",
              "      <td>C</td>\n",
              "      <td>1</td>\n",
              "    </tr>\n",
              "    <tr>\n",
              "      <th>2</th>\n",
              "      <td>B</td>\n",
              "      <td>E</td>\n",
              "      <td>1</td>\n",
              "    </tr>\n",
              "    <tr>\n",
              "      <th>3</th>\n",
              "      <td>B</td>\n",
              "      <td>F</td>\n",
              "      <td>1</td>\n",
              "    </tr>\n",
              "    <tr>\n",
              "      <th>4</th>\n",
              "      <td>C</td>\n",
              "      <td>A</td>\n",
              "      <td>1</td>\n",
              "    </tr>\n",
              "    <tr>\n",
              "      <th>5</th>\n",
              "      <td>C</td>\n",
              "      <td>D</td>\n",
              "      <td>1</td>\n",
              "    </tr>\n",
              "    <tr>\n",
              "      <th>6</th>\n",
              "      <td>C</td>\n",
              "      <td>F</td>\n",
              "      <td>1</td>\n",
              "    </tr>\n",
              "    <tr>\n",
              "      <th>7</th>\n",
              "      <td>D</td>\n",
              "      <td>F</td>\n",
              "      <td>1</td>\n",
              "    </tr>\n",
              "    <tr>\n",
              "      <th>8</th>\n",
              "      <td>D</td>\n",
              "      <td>G</td>\n",
              "      <td>1</td>\n",
              "    </tr>\n",
              "    <tr>\n",
              "      <th>9</th>\n",
              "      <td>G</td>\n",
              "      <td>H</td>\n",
              "      <td>1</td>\n",
              "    </tr>\n",
              "  </tbody>\n",
              "</table>\n",
              "</div>"
            ],
            "text/plain": [
              "  In Out  Weight\n",
              "0  A   B       1\n",
              "1  B   C       1\n",
              "2  B   E       1\n",
              "3  B   F       1\n",
              "4  C   A       1\n",
              "5  C   D       1\n",
              "6  C   F       1\n",
              "7  D   F       1\n",
              "8  D   G       1\n",
              "9  G   H       1"
            ]
          },
          "metadata": {
            "tags": []
          },
          "execution_count": 37
        }
      ]
    },
    {
      "cell_type": "code",
      "metadata": {
        "ExecuteTime": {
          "end_time": "2021-04-12T19:50:52.636983Z",
          "start_time": "2021-04-12T19:50:52.018439Z"
        },
        "deletable": false,
        "editable": false,
        "run_control": {
          "frozen": true
        },
        "scrolled": true,
        "id": "395Qi9Os7SC7",
        "outputId": "174a7bfe-8956-490a-8f3f-9d724657e784"
      },
      "source": [
        "import networkx as nx\n",
        "\n",
        "nG = nx.from_pandas_edgelist(G, source='In', target='Out', edge_attr='Weight', create_using=nx.DiGraph)\n",
        "nx.draw_networkx(nG)"
      ],
      "execution_count": null,
      "outputs": [
        {
          "output_type": "display_data",
          "data": {
            "image/png": "[encoded data removed]",
            "text/plain": [
              "<Figure size 432x288 with 1 Axes>"
            ]
          },
          "metadata": {
            "tags": []
          }
        }
      ]
    },
    {
      "cell_type": "code",
      "metadata": {
        "ExecuteTime": {
          "end_time": "2021-04-12T19:50:53.092745Z",
          "start_time": "2021-04-12T19:50:52.642688Z"
        },
        "deletable": false,
        "editable": false,
        "run_control": {
          "frozen": true
        },
        "id": "aFcqCRhK7SC7",
        "outputId": "a6b9cf32-d038-495c-9233-2504ec725e1c"
      },
      "source": [
        "options = {\n",
        "    'width': 2,\n",
        "    'arrowstyle': '->',\n",
        "    'arrowsize': 30,\n",
        "}\n",
        "pos = nx.circular_layout(nG)   \n",
        "nx.draw_networkx(nG, pos, with_labels = True, \n",
        "                 edge_color = 'black', arrows=True, **options)"
      ],
      "execution_count": null,
      "outputs": [
        {
          "output_type": "display_data",
          "data": {
            "image/png": "[encoded data removed]",
            "text/plain": [
              "<Figure size 432x288 with 1 Axes>"
            ]
          },
          "metadata": {
            "tags": []
          }
        }
      ]
    },
    {
      "cell_type": "markdown",
      "metadata": {
        "deletable": false,
        "editable": false,
        "run_control": {
          "frozen": true
        },
        "id": "8OhA-Fux7SC8"
      },
      "source": [
        "If you want to look at more networks' visualization libraries in Python you can start at [link](https://towardsdatascience.com/visualizing-networks-in-python-d70f4cbeb259)"
      ]
    },
    {
      "cell_type": "code",
      "metadata": {
        "ExecuteTime": {
          "end_time": "2021-04-12T19:50:53.117551Z",
          "start_time": "2021-04-12T19:50:53.097138Z"
        },
        "deletable": false,
        "editable": false,
        "run_control": {
          "frozen": true
        },
        "id": "3J-_zsPy7SC8",
        "outputId": "5bbcdceb-d5c7-4578-83f3-6293f1176aba"
      },
      "source": [
        "G"
      ],
      "execution_count": null,
      "outputs": [
        {
          "output_type": "execute_result",
          "data": {
            "text/html": [
              "<div>\n",
              "<style scoped>\n",
              "    .dataframe tbody tr th:only-of-type {\n",
              "        vertical-align: middle;\n",
              "    }\n",
              "\n",
              "    .dataframe tbody tr th {\n",
              "        vertical-align: top;\n",
              "    }\n",
              "\n",
              "    .dataframe thead th {\n",
              "        text-align: right;\n",
              "    }\n",
              "</style>\n",
              "<table border=\"1\" class=\"dataframe\">\n",
              "  <thead>\n",
              "    <tr style=\"text-align: right;\">\n",
              "      <th></th>\n",
              "      <th>In</th>\n",
              "      <th>Out</th>\n",
              "      <th>Weight</th>\n",
              "    </tr>\n",
              "  </thead>\n",
              "  <tbody>\n",
              "    <tr>\n",
              "      <th>0</th>\n",
              "      <td>A</td>\n",
              "      <td>B</td>\n",
              "      <td>1</td>\n",
              "    </tr>\n",
              "    <tr>\n",
              "      <th>1</th>\n",
              "      <td>B</td>\n",
              "      <td>C</td>\n",
              "      <td>1</td>\n",
              "    </tr>\n",
              "    <tr>\n",
              "      <th>2</th>\n",
              "      <td>B</td>\n",
              "      <td>E</td>\n",
              "      <td>1</td>\n",
              "    </tr>\n",
              "    <tr>\n",
              "      <th>3</th>\n",
              "      <td>B</td>\n",
              "      <td>F</td>\n",
              "      <td>1</td>\n",
              "    </tr>\n",
              "    <tr>\n",
              "      <th>4</th>\n",
              "      <td>C</td>\n",
              "      <td>A</td>\n",
              "      <td>1</td>\n",
              "    </tr>\n",
              "    <tr>\n",
              "      <th>5</th>\n",
              "      <td>C</td>\n",
              "      <td>D</td>\n",
              "      <td>1</td>\n",
              "    </tr>\n",
              "    <tr>\n",
              "      <th>6</th>\n",
              "      <td>C</td>\n",
              "      <td>F</td>\n",
              "      <td>1</td>\n",
              "    </tr>\n",
              "    <tr>\n",
              "      <th>7</th>\n",
              "      <td>D</td>\n",
              "      <td>F</td>\n",
              "      <td>1</td>\n",
              "    </tr>\n",
              "    <tr>\n",
              "      <th>8</th>\n",
              "      <td>D</td>\n",
              "      <td>G</td>\n",
              "      <td>1</td>\n",
              "    </tr>\n",
              "    <tr>\n",
              "      <th>9</th>\n",
              "      <td>G</td>\n",
              "      <td>H</td>\n",
              "      <td>1</td>\n",
              "    </tr>\n",
              "  </tbody>\n",
              "</table>\n",
              "</div>"
            ],
            "text/plain": [
              "  In Out  Weight\n",
              "0  A   B       1\n",
              "1  B   C       1\n",
              "2  B   E       1\n",
              "3  B   F       1\n",
              "4  C   A       1\n",
              "5  C   D       1\n",
              "6  C   F       1\n",
              "7  D   F       1\n",
              "8  D   G       1\n",
              "9  G   H       1"
            ]
          },
          "metadata": {
            "tags": []
          },
          "execution_count": 40
        }
      ]
    },
    {
      "cell_type": "code",
      "metadata": {
        "ExecuteTime": {
          "end_time": "2021-04-12T19:50:53.150789Z",
          "start_time": "2021-04-12T19:50:53.124120Z"
        },
        "deletable": false,
        "editable": false,
        "run_control": {
          "frozen": true
        },
        "id": "eI7qBExt7SC8",
        "outputId": "ca9f8160-981c-4078-d275-d1d22107a2d1"
      },
      "source": [
        "G.groupby('In').apply(lambda x: list(x['Out']))"
      ],
      "execution_count": null,
      "outputs": [
        {
          "output_type": "execute_result",
          "data": {
            "text/plain": [
              "In\n",
              "A          [B]\n",
              "B    [C, E, F]\n",
              "C    [A, D, F]\n",
              "D       [F, G]\n",
              "G          [H]\n",
              "dtype: object"
            ]
          },
          "metadata": {
            "tags": []
          },
          "execution_count": 41
        }
      ]
    },
    {
      "cell_type": "code",
      "metadata": {
        "ExecuteTime": {
          "end_time": "2021-04-12T19:50:53.182250Z",
          "start_time": "2021-04-12T19:50:53.158585Z"
        },
        "deletable": false,
        "editable": false,
        "run_control": {
          "frozen": true
        },
        "scrolled": true,
        "id": "AvMT611u7SC8",
        "outputId": "25f3fcfd-24eb-4bd6-ed4e-9289e05a7502"
      },
      "source": [
        "graph = G.groupby('In').apply(lambda x: list(x['Out'])).to_dict()\n",
        "graph"
      ],
      "execution_count": null,
      "outputs": [
        {
          "output_type": "execute_result",
          "data": {
            "text/plain": [
              "{'A': ['B'],\n",
              " 'B': ['C', 'E', 'F'],\n",
              " 'C': ['A', 'D', 'F'],\n",
              " 'D': ['F', 'G'],\n",
              " 'G': ['H']}"
            ]
          },
          "metadata": {
            "tags": []
          },
          "execution_count": 42
        }
      ]
    },
    {
      "cell_type": "markdown",
      "metadata": {
        "deletable": false,
        "editable": false,
        "run_control": {
          "frozen": true
        },
        "id": "a4oao3p87SC9"
      },
      "source": [
        "## Uninformed Search"
      ]
    },
    {
      "cell_type": "markdown",
      "metadata": {
        "deletable": false,
        "editable": false,
        "run_control": {
          "frozen": true
        },
        "id": "1ngD3v5a7SC9"
      },
      "source": [
        "### Iterative Depth First Search"
      ]
    },
    {
      "cell_type": "markdown",
      "metadata": {
        "deletable": false,
        "editable": false,
        "run_control": {
          "frozen": true
        },
        "id": "s8pEqk8N7SC9"
      },
      "source": [
        "Using last Lab functions, create a new function to perform an uninformed search using Depth First Search with a small tweak. We will only allow the algorithm to explore an `x` amount of nodes. We should be able to pass the value of `x` as an argument to the function."
      ]
    },
    {
      "cell_type": "markdown",
      "metadata": {
        "deletable": false,
        "editable": false,
        "run_control": {
          "frozen": true
        },
        "id": "_-Rjhmus7SC9"
      },
      "source": [
        "Think on the reasons why this strategy may be sometimes helpful for later discussion."
      ]
    },
    {
      "cell_type": "code",
      "metadata": {
        "deletable": false,
        "editable": false,
        "run_control": {
          "frozen": true
        },
        "id": "aegIjRXT7SC9"
      },
      "source": [
        "class Stack:\n",
        "\n",
        "    def __init__(self):\n",
        "        self.stack = []\n",
        "                    \n",
        "    def append(self, item):\n",
        "        self.stack.append(item)\n",
        "\n",
        "    def pop(self):\n",
        "        return self.stack.pop()\n",
        "    \n",
        "    def size(self):\n",
        "        return len(self.stack)\n",
        "    \n",
        "    def __str__(self):\n",
        "        return str(self.stack)\n",
        "    \n",
        "def uninformed_search_path_visitors(graph: dict, \n",
        "                                    struct, \n",
        "                                    init: str, \n",
        "                                    goal: str, \n",
        "                                    max_depth : int ### our threshold \n",
        "                                    verbose:bool=False):\n",
        "    \"\"\"\n",
        "\n",
        "    \"\"\"\n",
        "\n",
        "    # keep path from the start\n",
        "    path = ()\n",
        "    out = init\n",
        "    struct.append((out, path))\n",
        "\n",
        "    # auxiliar - iteration counter\n",
        "    i = 0\n",
        "\n",
        "    while struct.size():\n",
        "\n",
        "        # add iteration\n",
        "        i += 1\n",
        "\n",
        "        head = struct.pop()\n",
        "        \n",
        "        current_node = head[0]\n",
        "        path = head[1]\n",
        "        \n",
        "        if verbose:\n",
        "            # Show the queue\n",
        "            print('Iteration {}'.format(i))\n",
        "            print('Current Node: {}\\nHead :{}\\nQueue :{}\\nSize: {}'.format(current_node,\n",
        "                                                                           head,\n",
        "                                                                           struct,\n",
        "                                                                           struct.size()))\n",
        "\n",
        "        if current_node == goal:\n",
        "            print('################### Found {}\\n# Path: {}'.format(goal, path))\n",
        "            yield path + (current_node,)\n",
        "\n",
        "        else:\n",
        "            # We can check if we reached the max depth we allow to explore\n",
        "            reached_max_depth = len(path) == (max_depth - 1)\n",
        "            \n",
        "            # And terminate the search throught this path if it reaches the limit\n",
        "            # Or again, if the node is terminal\n",
        "            if current_node not in graph or reached_max_depth:\n",
        "                continue\n",
        "            else:\n",
        "                new_path = path + (current_node,)\n",
        "\n",
        "                possible_paths = [(out, new_path)\n",
        "                                  for out in graph[current_node] if out not in new_path]\n",
        "                \n",
        "                for p in possible_paths:\n",
        "                        struct.append(p)"
      ],
      "execution_count": null,
      "outputs": []
    }
  ]
}