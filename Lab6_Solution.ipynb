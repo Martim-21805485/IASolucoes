{
  "nbformat": 4,
  "nbformat_minor": 0,
  "metadata": {
    "kernelspec": {
      "display_name": "Python 3",
      "language": "python",
      "name": "python3"
    },
    "language_info": {
      "codemirror_mode": {
        "name": "ipython",
        "version": 3
      },
      "file_extension": ".py",
      "mimetype": "text/x-python",
      "name": "python",
      "nbconvert_exporter": "python",
      "pygments_lexer": "ipython3",
      "version": "3.7.6"
    },
    "toc": {
      "base_numbering": 1,
      "nav_menu": {},
      "number_sections": false,
      "sideBar": true,
      "skip_h1_title": false,
      "title_cell": "Table of Contents",
      "title_sidebar": "Contents",
      "toc_cell": false,
      "toc_position": {
        "height": "calc(100% - 180px)",
        "left": "10px",
        "top": "150px",
        "width": "348px"
      },
      "toc_section_display": true,
      "toc_window_display": false
    },
    "varInspector": {
      "cols": {
        "lenName": 16,
        "lenType": 16,
        "lenVar": 40
      },
      "kernels_config": {
        "python": {
          "delete_cmd_postfix": "",
          "delete_cmd_prefix": "del ",
          "library": "var_list.py",
          "varRefreshCmd": "print(var_dic_list())"
        },
        "r": {
          "delete_cmd_postfix": ") ",
          "delete_cmd_prefix": "rm(",
          "library": "var_list.r",
          "varRefreshCmd": "cat(var_dic_list()) "
        }
      },
      "types_to_exclude": [
        "module",
        "function",
        "builtin_function_or_method",
        "instance",
        "_Feature"
      ],
      "window_display": false
    },
    "colab": {
      "name": "Lab6-Solution.ipynb",
      "provenance": [],
      "include_colab_link": true
    }
  },
  "cells": [
    {
      "cell_type": "markdown",
      "metadata": {
        "id": "view-in-github",
        "colab_type": "text"
      },
      "source": [
        "<a href=\"https://colab.research.google.com/github/Martim-21805485/IASolucoes/blob/main/Lab6_Solution.ipynb\" target=\"_parent\"><img src=\"https://colab.research.google.com/assets/colab-badge.svg\" alt=\"Open In Colab\"/></a>"
      ]
    },
    {
      "cell_type": "markdown",
      "metadata": {
        "deletable": false,
        "editable": false,
        "run_control": {
          "frozen": true
        },
        "id": "V8_U76Cj7HEo"
      },
      "source": [
        "# Lab 6\n",
        "> Search Algorithms"
      ]
    },
    {
      "cell_type": "markdown",
      "metadata": {
        "deletable": false,
        "editable": false,
        "run_control": {
          "frozen": true
        },
        "id": "jrr_MIcZ7HEq"
      },
      "source": [
        "## Purpose\n",
        "Study the British Museum Procedure, Uninformed Search Algorithms."
      ]
    },
    {
      "cell_type": "markdown",
      "metadata": {
        "deletable": false,
        "editable": false,
        "run_control": {
          "frozen": true
        },
        "id": "Iuplfe__7HEr"
      },
      "source": [
        "## Methodology\n",
        "Implementation of Depth and Breadth First Search."
      ]
    },
    {
      "cell_type": "markdown",
      "metadata": {
        "deletable": false,
        "editable": false,
        "run_control": {
          "frozen": true
        },
        "id": "Ea3gyaT17HEr"
      },
      "source": [
        "## Setup\n",
        "\n",
        "### Library import"
      ]
    },
    {
      "cell_type": "code",
      "metadata": {
        "ExecuteTime": {
          "end_time": "2021-06-02T23:57:41.069089Z",
          "start_time": "2021-06-02T23:57:40.248545Z"
        },
        "deletable": false,
        "editable": false,
        "run_control": {
          "frozen": true
        },
        "id": "O21cbEDp7HEr"
      },
      "source": [
        "# Data manipulation\n",
        "import pandas as pd\n",
        "import numpy as np"
      ],
      "execution_count": null,
      "outputs": []
    },
    {
      "cell_type": "markdown",
      "metadata": {
        "deletable": false,
        "editable": false,
        "run_control": {
          "frozen": true
        },
        "id": "k8VQPAIa7HEs"
      },
      "source": [
        "## Data import\n",
        "We retrieve all the required data for the analysis."
      ]
    },
    {
      "cell_type": "code",
      "metadata": {
        "ExecuteTime": {
          "end_time": "2021-06-02T23:57:41.076794Z",
          "start_time": "2021-06-02T23:57:41.071307Z"
        },
        "deletable": false,
        "editable": false,
        "run_control": {
          "frozen": true
        },
        "id": "RJ2asEHA7HEs"
      },
      "source": [
        "edges = [('A', 'B'),\n",
        "     ('B', 'C'),\n",
        "     ('B', 'E'),\n",
        "     ('B', 'F'),\n",
        "     ('C', 'A'),\n",
        "     ('C', 'D'),\n",
        "     ('C', 'F'),\n",
        "     ('D', 'F'),\n",
        "     ('D', 'G'),\n",
        "     ('G', 'H')\n",
        "    ]"
      ],
      "execution_count": null,
      "outputs": []
    },
    {
      "cell_type": "markdown",
      "metadata": {
        "deletable": false,
        "editable": false,
        "run_control": {
          "frozen": true
        },
        "id": "qde82g907HEs"
      },
      "source": [
        "## Data processing\n",
        "Put here the core of the notebook. Feel free di further split this section into subsections."
      ]
    },
    {
      "cell_type": "code",
      "metadata": {
        "ExecuteTime": {
          "end_time": "2021-06-02T23:57:41.106581Z",
          "start_time": "2021-06-02T23:57:41.081395Z"
        },
        "deletable": false,
        "editable": false,
        "run_control": {
          "frozen": true
        },
        "id": "bK7X3zq27HEt",
        "outputId": "002853e4-e40f-48e7-d519-ca5c552710cf"
      },
      "source": [
        "G = pd.DataFrame(edges, columns=['Start', 'End'])\n",
        "G['Weight'] = 1\n",
        "G"
      ],
      "execution_count": null,
      "outputs": [
        {
          "output_type": "execute_result",
          "data": {
            "text/html": [
              "<div>\n",
              "<style scoped>\n",
              "    .dataframe tbody tr th:only-of-type {\n",
              "        vertical-align: middle;\n",
              "    }\n",
              "\n",
              "    .dataframe tbody tr th {\n",
              "        vertical-align: top;\n",
              "    }\n",
              "\n",
              "    .dataframe thead th {\n",
              "        text-align: right;\n",
              "    }\n",
              "</style>\n",
              "<table border=\"1\" class=\"dataframe\">\n",
              "  <thead>\n",
              "    <tr style=\"text-align: right;\">\n",
              "      <th></th>\n",
              "      <th>Start</th>\n",
              "      <th>End</th>\n",
              "      <th>Weight</th>\n",
              "    </tr>\n",
              "  </thead>\n",
              "  <tbody>\n",
              "    <tr>\n",
              "      <th>0</th>\n",
              "      <td>A</td>\n",
              "      <td>B</td>\n",
              "      <td>1</td>\n",
              "    </tr>\n",
              "    <tr>\n",
              "      <th>1</th>\n",
              "      <td>B</td>\n",
              "      <td>C</td>\n",
              "      <td>1</td>\n",
              "    </tr>\n",
              "    <tr>\n",
              "      <th>2</th>\n",
              "      <td>B</td>\n",
              "      <td>E</td>\n",
              "      <td>1</td>\n",
              "    </tr>\n",
              "    <tr>\n",
              "      <th>3</th>\n",
              "      <td>B</td>\n",
              "      <td>F</td>\n",
              "      <td>1</td>\n",
              "    </tr>\n",
              "    <tr>\n",
              "      <th>4</th>\n",
              "      <td>C</td>\n",
              "      <td>A</td>\n",
              "      <td>1</td>\n",
              "    </tr>\n",
              "    <tr>\n",
              "      <th>5</th>\n",
              "      <td>C</td>\n",
              "      <td>D</td>\n",
              "      <td>1</td>\n",
              "    </tr>\n",
              "    <tr>\n",
              "      <th>6</th>\n",
              "      <td>C</td>\n",
              "      <td>F</td>\n",
              "      <td>1</td>\n",
              "    </tr>\n",
              "    <tr>\n",
              "      <th>7</th>\n",
              "      <td>D</td>\n",
              "      <td>F</td>\n",
              "      <td>1</td>\n",
              "    </tr>\n",
              "    <tr>\n",
              "      <th>8</th>\n",
              "      <td>D</td>\n",
              "      <td>G</td>\n",
              "      <td>1</td>\n",
              "    </tr>\n",
              "    <tr>\n",
              "      <th>9</th>\n",
              "      <td>G</td>\n",
              "      <td>H</td>\n",
              "      <td>1</td>\n",
              "    </tr>\n",
              "  </tbody>\n",
              "</table>\n",
              "</div>"
            ],
            "text/plain": [
              "  Start End  Weight\n",
              "0     A   B       1\n",
              "1     B   C       1\n",
              "2     B   E       1\n",
              "3     B   F       1\n",
              "4     C   A       1\n",
              "5     C   D       1\n",
              "6     C   F       1\n",
              "7     D   F       1\n",
              "8     D   G       1\n",
              "9     G   H       1"
            ]
          },
          "metadata": {
            "tags": []
          },
          "execution_count": 5
        }
      ]
    },
    {
      "cell_type": "code",
      "metadata": {
        "ExecuteTime": {
          "end_time": "2021-06-02T23:57:42.079160Z",
          "start_time": "2021-06-02T23:57:41.108618Z"
        },
        "deletable": false,
        "editable": false,
        "run_control": {
          "frozen": true
        },
        "id": "FrhbAGyl7HEt",
        "outputId": "b97d1766-04e0-4414-9b51-75543792d123"
      },
      "source": [
        "import networkx as nx\n",
        "\n",
        "nG = nx.from_pandas_edgelist(G, source='Start', target='End', edge_attr='Weight', create_using=nx.DiGraph)\n",
        "nx.draw_networkx(nG)"
      ],
      "execution_count": null,
      "outputs": [
        {
          "output_type": "display_data",
          "data": {
            "image/png": "[encoded data removed]",
            "text/plain": [
              "<Figure size 432x288 with 1 Axes>"
            ]
          },
          "metadata": {
            "tags": []
          }
        }
      ]
    },
    {
      "cell_type": "code",
      "metadata": {
        "ExecuteTime": {
          "end_time": "2021-06-02T23:57:42.445530Z",
          "start_time": "2021-06-02T23:57:42.081080Z"
        },
        "deletable": false,
        "editable": false,
        "run_control": {
          "frozen": true
        },
        "id": "dT9EoPTs7HEu",
        "outputId": "faff33d0-4500-4bcc-f2b3-c09a0e773d7a"
      },
      "source": [
        "options = {\n",
        "    'width': 2,\n",
        "    'arrowstyle': '->',\n",
        "    'arrowsize': 30,\n",
        "}\n",
        "pos = nx.circular_layout(nG)   \n",
        "nx.draw_networkx(nG, pos, with_labels = True, \n",
        "                 edge_color = 'black', arrows=True, **options)"
      ],
      "execution_count": null,
      "outputs": [
        {
          "output_type": "display_data",
          "data": {
            "image/png": "[encoded data removed]",
            "text/plain": [
              "<Figure size 432x288 with 1 Axes>"
            ]
          },
          "metadata": {
            "tags": []
          }
        }
      ]
    },
    {
      "cell_type": "markdown",
      "metadata": {
        "deletable": false,
        "editable": false,
        "run_control": {
          "frozen": true
        },
        "id": "3Ndy7qks7HEu"
      },
      "source": [
        "If you want to look at more networks' visualization libraries in Python you can start at [link](https://towardsdatascience.com/visualizing-networks-in-python-d70f4cbeb259)"
      ]
    },
    {
      "cell_type": "code",
      "metadata": {
        "ExecuteTime": {
          "end_time": "2021-06-02T23:57:42.472392Z",
          "start_time": "2021-06-02T23:57:42.447854Z"
        },
        "deletable": false,
        "editable": false,
        "run_control": {
          "frozen": true
        },
        "id": "hOFCBC6N7HEu",
        "outputId": "f1e97e40-572f-42c4-8d1d-5366182f4819"
      },
      "source": [
        "G.groupby('Start').apply(lambda x: list(x['End']))"
      ],
      "execution_count": null,
      "outputs": [
        {
          "output_type": "execute_result",
          "data": {
            "text/plain": [
              "Start\n",
              "A          [B]\n",
              "B    [C, E, F]\n",
              "C    [A, D, F]\n",
              "D       [F, G]\n",
              "G          [H]\n",
              "dtype: object"
            ]
          },
          "metadata": {
            "tags": []
          },
          "execution_count": 8
        }
      ]
    },
    {
      "cell_type": "code",
      "metadata": {
        "ExecuteTime": {
          "end_time": "2021-06-02T23:57:42.485424Z",
          "start_time": "2021-06-02T23:57:42.475753Z"
        },
        "deletable": false,
        "editable": false,
        "run_control": {
          "frozen": true
        },
        "scrolled": true,
        "id": "khZcTNv37HEv",
        "outputId": "d9be56b0-9a73-4b6b-d3a8-fb3e35f2c774"
      },
      "source": [
        "graph = G.groupby('Start').apply(lambda x: list(x['End'])).to_dict()\n",
        "graph"
      ],
      "execution_count": null,
      "outputs": [
        {
          "output_type": "execute_result",
          "data": {
            "text/plain": [
              "{'A': ['B'],\n",
              " 'B': ['C', 'E', 'F'],\n",
              " 'C': ['A', 'D', 'F'],\n",
              " 'D': ['F', 'G'],\n",
              " 'G': ['H']}"
            ]
          },
          "metadata": {
            "tags": []
          },
          "execution_count": 9
        }
      ]
    },
    {
      "cell_type": "code",
      "metadata": {
        "ExecuteTime": {
          "end_time": "2021-06-02T23:57:42.812455Z",
          "start_time": "2021-06-02T23:57:42.488656Z"
        },
        "deletable": false,
        "editable": false,
        "run_control": {
          "frozen": true
        },
        "id": "bO57u11X7HEv",
        "outputId": "10a460cf-d92c-4faf-d386-2a1c20811693"
      },
      "source": [
        "import networkx as nx\n",
        "\n",
        "nG = nx.from_pandas_edgelist(G, source='Start', target='End', edge_attr='Weight', create_using=nx.DiGraph)\n",
        "nx.draw_networkx(nG)"
      ],
      "execution_count": null,
      "outputs": [
        {
          "output_type": "display_data",
          "data": {
            "image/png": "[encoded data removed]",
            "text/plain": [
              "<Figure size 432x288 with 1 Axes>"
            ]
          },
          "metadata": {
            "tags": []
          }
        }
      ]
    },
    {
      "cell_type": "markdown",
      "metadata": {
        "deletable": false,
        "editable": false,
        "run_control": {
          "frozen": true
        },
        "id": "gMIiGU807HEv"
      },
      "source": [
        "## Uninformed Search"
      ]
    },
    {
      "cell_type": "markdown",
      "metadata": {
        "deletable": false,
        "editable": false,
        "run_control": {
          "frozen": true
        },
        "id": "Xlhl7xPV7HEv"
      },
      "source": [
        "### Basic"
      ]
    },
    {
      "cell_type": "code",
      "metadata": {
        "ExecuteTime": {
          "end_time": "2021-06-02T23:57:42.827546Z",
          "start_time": "2021-06-02T23:57:42.815582Z"
        },
        "code_folding": [],
        "deletable": false,
        "editable": false,
        "run_control": {
          "frozen": true
        },
        "id": "mtiLjqs97HEv"
      },
      "source": [
        "def uninformed_search_basic(graph: dict, init: str, goal: str):\n",
        "    \"\"\"\n",
        "    Exhaustive search\n",
        "    \"\"\"\n",
        "    # Keep path right from the start\n",
        "    queue = [init]\n",
        "    \n",
        "    # Iteration counter\n",
        "    i=0\n",
        "    while queue:\n",
        "        \n",
        "        # Update iteration\n",
        "        i+=1\n",
        "        \n",
        "        \n",
        "        head = queue[0] \n",
        "        remainder = queue[1:]\n",
        "\n",
        "        # Show the queue\n",
        "        print('Iteration {}'.format(i))\n",
        "        print('Queue :{}\\nQueue Size: {}\\nRemainder:{}'.format(queue,\n",
        "                                                             len(queue),\n",
        "                                                             remainder))\n",
        "        \n",
        "        print('Head:{}, Goal:{}, Reached Goal: {}'.format(head, goal, head == goal))\n",
        "        if head == goal: \n",
        "            print('Found {}'.format(goal)) \n",
        "            break\n",
        "            \n",
        "        else:\n",
        "            is_terminal_node = head not in graph\n",
        "            print('is Head a Terminal Node: {}'.format(is_terminal_node))\n",
        "            if is_terminal_node:\n",
        "                queue = remainder\n",
        "                print('Updated Queue: {}'.format(queue))\n",
        "            else:\n",
        "                possible_paths = [out for out in graph[head]] \n",
        "                print('Possible path from Head {}: {}'.format(head, possible_paths))\n",
        "                queue = remainder + possible_paths \n",
        "                print('Updated Queue: {}'.format(queue))       \n",
        "        print('- - - - ')"
      ],
      "execution_count": null,
      "outputs": []
    },
    {
      "cell_type": "code",
      "metadata": {
        "ExecuteTime": {
          "end_time": "2021-06-02T23:57:42.848642Z",
          "start_time": "2021-06-02T23:57:42.830757Z"
        },
        "deletable": false,
        "editable": false,
        "run_control": {
          "frozen": true
        },
        "id": "N2iYbViP7HEw",
        "outputId": "36f243d5-ca76-412c-b306-a59376b15fa8"
      },
      "source": [
        "uninformed_search_basic(graph, 'A', 'F')"
      ],
      "execution_count": null,
      "outputs": [
        {
          "output_type": "stream",
          "text": [
            "Iteration 1\n",
            "Queue :['A']\n",
            "Queue Size: 1\n",
            "Head: A\n",
            "Remainder:[]\n",
            "Head:A, Goal:F, Reached Goal: False\n",
            "is Head a Terminal Node: False\n",
            "Possible path from Head A: ['B']\n",
            "Updated Queue: ['B']\n",
            "- - - - \n",
            "Iteration 2\n",
            "Queue :['B']\n",
            "Queue Size: 1\n",
            "Head: B\n",
            "Remainder:[]\n",
            "Head:B, Goal:F, Reached Goal: False\n",
            "is Head a Terminal Node: False\n",
            "Possible path from Head B: ['C', 'E', 'F']\n",
            "Updated Queue: ['C', 'E', 'F']\n",
            "- - - - \n",
            "Iteration 3\n",
            "Queue :['C', 'E', 'F']\n",
            "Queue Size: 3\n",
            "Head: C\n",
            "Remainder:['E', 'F']\n",
            "Head:C, Goal:F, Reached Goal: False\n",
            "is Head a Terminal Node: False\n",
            "Possible path from Head C: ['A', 'D', 'F']\n",
            "Updated Queue: ['E', 'F', 'A', 'D', 'F']\n",
            "- - - - \n",
            "Iteration 4\n",
            "Queue :['E', 'F', 'A', 'D', 'F']\n",
            "Queue Size: 5\n",
            "Head: E\n",
            "Remainder:['F', 'A', 'D', 'F']\n",
            "Head:E, Goal:F, Reached Goal: False\n",
            "is Head a Terminal Node: True\n",
            "Updated Queue: ['F', 'A', 'D', 'F']\n",
            "- - - - \n",
            "Iteration 5\n",
            "Queue :['F', 'A', 'D', 'F']\n",
            "Queue Size: 4\n",
            "Head: F\n",
            "Remainder:['A', 'D', 'F']\n",
            "Head:F, Goal:F, Reached Goal: True\n",
            "Found F\n"
          ],
          "name": "stdout"
        }
      ]
    },
    {
      "cell_type": "markdown",
      "metadata": {
        "deletable": false,
        "editable": false,
        "run_control": {
          "frozen": true
        },
        "id": "E0993qrW7HEw"
      },
      "source": [
        "### Visitors"
      ]
    },
    {
      "cell_type": "code",
      "metadata": {
        "ExecuteTime": {
          "end_time": "2021-04-19T08:16:53.630682Z",
          "start_time": "2021-04-19T08:16:53.614872Z"
        },
        "deletable": false,
        "editable": false,
        "run_control": {
          "frozen": true
        },
        "id": "MmTdwG5A7HEw"
      },
      "source": [
        "def uninformed_search_visitors(graph: dict, init: str, goal: str):\n",
        "    \"\"\"\n",
        "    Exhaustive search with visited\n",
        "    \"\"\"\n",
        "    # Keep path right from the start\n",
        "    queue = [init]\n",
        "    \n",
        "    # Iteration counter\n",
        "    i=0\n",
        "    \n",
        "    # keep visited\n",
        "    visited = []\n",
        "    while queue:\n",
        "        # add iteration\n",
        "        i+=1\n",
        "        head = queue[0] \n",
        "        remainder = queue[1:]\n",
        "\n",
        "        # Show the queue\n",
        "        print('Iteration {}'.format(i))\n",
        "        print('Queue :{}\\nQueue Size: {}\\nRemainder:{}'.format(queue,\n",
        "                                                             len(queue),\n",
        "                                                             remainder))\n",
        "        \n",
        "        print('Head:{}, Goal:{}, Reached Goal: {}'.format(head, goal, head == goal))\n",
        "        if head == goal: \n",
        "            print('Found {}'.format(goal)) \n",
        "            break\n",
        "        else:\n",
        "            visited.append(head)\n",
        "            print(\"Nodes visited: {}\".format(visited))\n",
        "            is_terminal_node = head not in graph\n",
        "            print('is Head a Terminal Node: {}'.format(is_terminal_node))\n",
        "            if is_terminal_node:\n",
        "                queue = remainder\n",
        "                print('Updated Queue: {}'.format(queue))\n",
        "            else:\n",
        "                possible_paths = [out for out in graph[head]] \n",
        "                print('Possible path from Head {}: {}'.format(head, possible_paths))\n",
        "                valid_paths = [out for out in possible_paths if out not in visited]\n",
        "                print('Nodes not yet visited from Head {}: {}'.format(head, valid_paths))\n",
        "                queue = remainder + valid_paths \n",
        "                print('Updated Queue: {}'.format(queue))       \n",
        "        print('- - - - ')"
      ],
      "execution_count": null,
      "outputs": []
    },
    {
      "cell_type": "code",
      "metadata": {
        "ExecuteTime": {
          "end_time": "2021-04-19T08:16:54.030213Z",
          "start_time": "2021-04-19T08:16:54.006833Z"
        },
        "deletable": false,
        "editable": false,
        "run_control": {
          "frozen": true
        },
        "scrolled": false,
        "id": "oG5JQ5wE7HEw",
        "outputId": "e9c84a2a-6026-409c-b453-353e53b7c88f"
      },
      "source": [
        "uninformed_search_visitors(graph, 'A', 'H')"
      ],
      "execution_count": null,
      "outputs": [
        {
          "output_type": "stream",
          "text": [
            "Iteration 1\n",
            "Queue :['A']\n",
            "Queue Size: 1\n",
            "Head: A\n",
            "Remainder:[]\n",
            "Head:A, Goal:H, Reached Goal: False\n",
            "Nodes visited: ['A']\n",
            "is Head a Terminal Node: False\n",
            "Possible path from Head A: ['B']\n",
            "Nodes not yet visited from Head A: ['B']\n",
            "Updated Queue: ['B']\n",
            "- - - - \n",
            "Iteration 2\n",
            "Queue :['B']\n",
            "Queue Size: 1\n",
            "Head: B\n",
            "Remainder:[]\n",
            "Head:B, Goal:H, Reached Goal: False\n",
            "Nodes visited: ['A', 'B']\n",
            "is Head a Terminal Node: False\n",
            "Possible path from Head B: ['C', 'E', 'F']\n",
            "Nodes not yet visited from Head B: ['C', 'E', 'F']\n",
            "Updated Queue: ['C', 'E', 'F']\n",
            "- - - - \n",
            "Iteration 3\n",
            "Queue :['C', 'E', 'F']\n",
            "Queue Size: 3\n",
            "Head: C\n",
            "Remainder:['E', 'F']\n",
            "Head:C, Goal:H, Reached Goal: False\n",
            "Nodes visited: ['A', 'B', 'C']\n",
            "is Head a Terminal Node: False\n",
            "Possible path from Head C: ['A', 'D', 'F']\n",
            "Nodes not yet visited from Head C: ['D', 'F']\n",
            "Updated Queue: ['E', 'F', 'D', 'F']\n",
            "- - - - \n",
            "Iteration 4\n",
            "Queue :['E', 'F', 'D', 'F']\n",
            "Queue Size: 4\n",
            "Head: E\n",
            "Remainder:['F', 'D', 'F']\n",
            "Head:E, Goal:H, Reached Goal: False\n",
            "Nodes visited: ['A', 'B', 'C', 'E']\n",
            "is Head a Terminal Node: True\n",
            "Updated Queue: ['F', 'D', 'F']\n",
            "- - - - \n",
            "Iteration 5\n",
            "Queue :['F', 'D', 'F']\n",
            "Queue Size: 3\n",
            "Head: F\n",
            "Remainder:['D', 'F']\n",
            "Head:F, Goal:H, Reached Goal: False\n",
            "Nodes visited: ['A', 'B', 'C', 'E', 'F']\n",
            "is Head a Terminal Node: True\n",
            "Updated Queue: ['D', 'F']\n",
            "- - - - \n",
            "Iteration 6\n",
            "Queue :['D', 'F']\n",
            "Queue Size: 2\n",
            "Head: D\n",
            "Remainder:['F']\n",
            "Head:D, Goal:H, Reached Goal: False\n",
            "Nodes visited: ['A', 'B', 'C', 'E', 'F', 'D']\n",
            "is Head a Terminal Node: False\n",
            "Possible path from Head D: ['F', 'G']\n",
            "Nodes not yet visited from Head D: ['G']\n",
            "Updated Queue: ['F', 'G']\n",
            "- - - - \n",
            "Iteration 7\n",
            "Queue :['F', 'G']\n",
            "Queue Size: 2\n",
            "Head: F\n",
            "Remainder:['G']\n",
            "Head:F, Goal:H, Reached Goal: False\n",
            "Nodes visited: ['A', 'B', 'C', 'E', 'F', 'D', 'F']\n",
            "is Head a Terminal Node: True\n",
            "Updated Queue: ['G']\n",
            "- - - - \n",
            "Iteration 8\n",
            "Queue :['G']\n",
            "Queue Size: 1\n",
            "Head: G\n",
            "Remainder:[]\n",
            "Head:G, Goal:H, Reached Goal: False\n",
            "Nodes visited: ['A', 'B', 'C', 'E', 'F', 'D', 'F', 'G']\n",
            "is Head a Terminal Node: False\n",
            "Possible path from Head G: ['H']\n",
            "Nodes not yet visited from Head G: ['H']\n",
            "Updated Queue: ['H']\n",
            "- - - - \n",
            "Iteration 9\n",
            "Queue :['H']\n",
            "Queue Size: 1\n",
            "Head: H\n",
            "Remainder:[]\n",
            "Head:H, Goal:H, Reached Goal: True\n",
            "Found H\n"
          ],
          "name": "stdout"
        }
      ]
    },
    {
      "cell_type": "markdown",
      "metadata": {
        "deletable": false,
        "editable": false,
        "run_control": {
          "frozen": true
        },
        "id": "q0q4HQA-7HEx"
      },
      "source": [
        "### Path"
      ]
    },
    {
      "cell_type": "code",
      "metadata": {
        "ExecuteTime": {
          "end_time": "2021-06-03T00:33:30.005032Z",
          "start_time": "2021-06-03T00:33:29.979880Z"
        },
        "deletable": false,
        "editable": false,
        "run_control": {
          "frozen": true
        },
        "id": "4wi4neLM7HEx"
      },
      "source": [
        "def uninformed_search_path(graph: dict, init: str, goal: str):\n",
        "    # keep path from the start\n",
        "    path = ()\n",
        "    queue = [(init, path)]\n",
        "    # Iteration counter\n",
        "    i=0\n",
        "    while queue:\n",
        "        # add iteration\n",
        "        i+=1\n",
        "        \n",
        "        head = queue[0]\n",
        "        current_node = head[0]\n",
        "        path = head[1]\n",
        "        \n",
        "        remainder = queue[1:]\n",
        "\n",
        "        # Show the queue\n",
        "        print('Iteration {}'.format(i))\n",
        "        print('Queue :{}\\nQueue Size: {}\\nHead: {}\\nCurrent Node: {}\\nPath: {}\\n,Remainder:{}'.format(queue,len(queue),head,current_node, path, remainder))\n",
        "        print('Head:{}, Goal:{}, Reached Goal: {}'.format(current_node, goal, head == goal))\n",
        "        if current_node == goal: \n",
        "            print('Found {}'.format(goal)) \n",
        "            break\n",
        "        else:\n",
        "            is_terminal_node = current_node not in graph\n",
        "            print('is Current Node a Terminal Node: {}'.format(is_terminal_node))\n",
        "            if is_terminal_node:\n",
        "                queue = remainder\n",
        "                print('Updated Queue: {}'.format(queue))\n",
        "            else:\n",
        "                updated_path = path + (current_node,)\n",
        "                print('Updated Path {}'.format(updated_path))\n",
        "                \n",
        "                possible_paths = [out for out in graph[current_node]] \n",
        "                print('Possible path from Current Node {}: {}'.format(current_node, possible_paths))\n",
        "                \n",
        "                valid_paths = [out for out in possible_paths]\n",
        "                print('Nodes not yet visited from Current Node {}: {}'.format(current_node, valid_paths))\n",
        "                \n",
        "                valid_path_with_history = [(out, updated_path) for out in valid_paths]\n",
        "                print('Valid path from Current Node {}: {}'.format(current_node, valid_path_with_history))\n",
        "                \n",
        "                queue = remainder +  valid_path_with_history\n",
        "                print('Updated Queue: {}'.format(queue)) \n",
        "      \n",
        "        print('- - - - ')"
      ],
      "execution_count": null,
      "outputs": []
    },
    {
      "cell_type": "code",
      "metadata": {
        "ExecuteTime": {
          "end_time": "2021-06-03T00:33:31.052451Z",
          "start_time": "2021-06-03T00:33:31.031674Z"
        },
        "deletable": false,
        "editable": false,
        "run_control": {
          "frozen": true
        },
        "scrolled": false,
        "id": "Jtnt4FBh7HEx",
        "outputId": "5522d1fb-273b-4b0f-877d-b39d89a71ba8"
      },
      "source": [
        "uninformed_search_path(graph, 'A', 'H')"
      ],
      "execution_count": null,
      "outputs": [
        {
          "output_type": "stream",
          "text": [
            "Iteration 1\n",
            "Queue :[('A', ())]\n",
            "Queue Size: 1\n",
            "Head: ('A', ())\n",
            "Current Node: A\n",
            "Path: ()\n",
            ",Remainder:[]\n",
            "Head:A, Goal:H, Reached Goal: False\n",
            "is Current Node a Terminal Node: False\n",
            "Updated Path ('A',)\n",
            "Possible path from Current Node A: ['B']\n",
            "Nodes not yet visited from Current Node A: ['B']\n",
            "Valid path from Current Node A: [('B', ('A',))]\n",
            "Updated Queue: [('B', ('A',))]\n",
            "- - - - \n",
            "Iteration 2\n",
            "Queue :[('B', ('A',))]\n",
            "Queue Size: 1\n",
            "Head: ('B', ('A',))\n",
            "Current Node: B\n",
            "Path: ('A',)\n",
            ",Remainder:[]\n",
            "Head:B, Goal:H, Reached Goal: False\n",
            "is Current Node a Terminal Node: False\n",
            "Updated Path ('A', 'B')\n",
            "Possible path from Current Node B: ['C', 'E', 'F']\n",
            "Nodes not yet visited from Current Node B: ['C', 'E', 'F']\n",
            "Valid path from Current Node B: [('C', ('A', 'B')), ('E', ('A', 'B')), ('F', ('A', 'B'))]\n",
            "Updated Queue: [('C', ('A', 'B')), ('E', ('A', 'B')), ('F', ('A', 'B'))]\n",
            "- - - - \n",
            "Iteration 3\n",
            "Queue :[('C', ('A', 'B')), ('E', ('A', 'B')), ('F', ('A', 'B'))]\n",
            "Queue Size: 3\n",
            "Head: ('C', ('A', 'B'))\n",
            "Current Node: C\n",
            "Path: ('A', 'B')\n",
            ",Remainder:[('E', ('A', 'B')), ('F', ('A', 'B'))]\n",
            "Head:C, Goal:H, Reached Goal: False\n",
            "is Current Node a Terminal Node: False\n",
            "Updated Path ('A', 'B', 'C')\n",
            "Possible path from Current Node C: ['A', 'D', 'F']\n",
            "Nodes not yet visited from Current Node C: ['A', 'D', 'F']\n",
            "Valid path from Current Node C: [('A', ('A', 'B', 'C')), ('D', ('A', 'B', 'C')), ('F', ('A', 'B', 'C'))]\n",
            "Updated Queue: [('E', ('A', 'B')), ('F', ('A', 'B')), ('A', ('A', 'B', 'C')), ('D', ('A', 'B', 'C')), ('F', ('A', 'B', 'C'))]\n",
            "- - - - \n",
            "Iteration 4\n",
            "Queue :[('E', ('A', 'B')), ('F', ('A', 'B')), ('A', ('A', 'B', 'C')), ('D', ('A', 'B', 'C')), ('F', ('A', 'B', 'C'))]\n",
            "Queue Size: 5\n",
            "Head: ('E', ('A', 'B'))\n",
            "Current Node: E\n",
            "Path: ('A', 'B')\n",
            ",Remainder:[('F', ('A', 'B')), ('A', ('A', 'B', 'C')), ('D', ('A', 'B', 'C')), ('F', ('A', 'B', 'C'))]\n",
            "Head:E, Goal:H, Reached Goal: False\n",
            "is Current Node a Terminal Node: True\n",
            "Updated Queue: [('F', ('A', 'B')), ('A', ('A', 'B', 'C')), ('D', ('A', 'B', 'C')), ('F', ('A', 'B', 'C'))]\n",
            "- - - - \n",
            "Iteration 5\n",
            "Queue :[('F', ('A', 'B')), ('A', ('A', 'B', 'C')), ('D', ('A', 'B', 'C')), ('F', ('A', 'B', 'C'))]\n",
            "Queue Size: 4\n",
            "Head: ('F', ('A', 'B'))\n",
            "Current Node: F\n",
            "Path: ('A', 'B')\n",
            ",Remainder:[('A', ('A', 'B', 'C')), ('D', ('A', 'B', 'C')), ('F', ('A', 'B', 'C'))]\n",
            "Head:F, Goal:H, Reached Goal: False\n",
            "is Current Node a Terminal Node: True\n",
            "Updated Queue: [('A', ('A', 'B', 'C')), ('D', ('A', 'B', 'C')), ('F', ('A', 'B', 'C'))]\n",
            "- - - - \n",
            "Iteration 6\n",
            "Queue :[('A', ('A', 'B', 'C')), ('D', ('A', 'B', 'C')), ('F', ('A', 'B', 'C'))]\n",
            "Queue Size: 3\n",
            "Head: ('A', ('A', 'B', 'C'))\n",
            "Current Node: A\n",
            "Path: ('A', 'B', 'C')\n",
            ",Remainder:[('D', ('A', 'B', 'C')), ('F', ('A', 'B', 'C'))]\n",
            "Head:A, Goal:H, Reached Goal: False\n",
            "is Current Node a Terminal Node: False\n",
            "Updated Path ('A', 'B', 'C', 'A')\n",
            "Possible path from Current Node A: ['B']\n",
            "Nodes not yet visited from Current Node A: ['B']\n",
            "Valid path from Current Node A: [('B', ('A', 'B', 'C', 'A'))]\n",
            "Updated Queue: [('D', ('A', 'B', 'C')), ('F', ('A', 'B', 'C')), ('B', ('A', 'B', 'C', 'A'))]\n",
            "- - - - \n",
            "Iteration 7\n",
            "Queue :[('D', ('A', 'B', 'C')), ('F', ('A', 'B', 'C')), ('B', ('A', 'B', 'C', 'A'))]\n",
            "Queue Size: 3\n",
            "Head: ('D', ('A', 'B', 'C'))\n",
            "Current Node: D\n",
            "Path: ('A', 'B', 'C')\n",
            ",Remainder:[('F', ('A', 'B', 'C')), ('B', ('A', 'B', 'C', 'A'))]\n",
            "Head:D, Goal:H, Reached Goal: False\n",
            "is Current Node a Terminal Node: False\n",
            "Updated Path ('A', 'B', 'C', 'D')\n",
            "Possible path from Current Node D: ['F', 'G']\n",
            "Nodes not yet visited from Current Node D: ['F', 'G']\n",
            "Valid path from Current Node D: [('F', ('A', 'B', 'C', 'D')), ('G', ('A', 'B', 'C', 'D'))]\n",
            "Updated Queue: [('F', ('A', 'B', 'C')), ('B', ('A', 'B', 'C', 'A')), ('F', ('A', 'B', 'C', 'D')), ('G', ('A', 'B', 'C', 'D'))]\n",
            "- - - - \n",
            "Iteration 8\n",
            "Queue :[('F', ('A', 'B', 'C')), ('B', ('A', 'B', 'C', 'A')), ('F', ('A', 'B', 'C', 'D')), ('G', ('A', 'B', 'C', 'D'))]\n",
            "Queue Size: 4\n",
            "Head: ('F', ('A', 'B', 'C'))\n",
            "Current Node: F\n",
            "Path: ('A', 'B', 'C')\n",
            ",Remainder:[('B', ('A', 'B', 'C', 'A')), ('F', ('A', 'B', 'C', 'D')), ('G', ('A', 'B', 'C', 'D'))]\n",
            "Head:F, Goal:H, Reached Goal: False\n",
            "is Current Node a Terminal Node: True\n",
            "Updated Queue: [('B', ('A', 'B', 'C', 'A')), ('F', ('A', 'B', 'C', 'D')), ('G', ('A', 'B', 'C', 'D'))]\n",
            "- - - - \n",
            "Iteration 9\n",
            "Queue :[('B', ('A', 'B', 'C', 'A')), ('F', ('A', 'B', 'C', 'D')), ('G', ('A', 'B', 'C', 'D'))]\n",
            "Queue Size: 3\n",
            "Head: ('B', ('A', 'B', 'C', 'A'))\n",
            "Current Node: B\n",
            "Path: ('A', 'B', 'C', 'A')\n",
            ",Remainder:[('F', ('A', 'B', 'C', 'D')), ('G', ('A', 'B', 'C', 'D'))]\n",
            "Head:B, Goal:H, Reached Goal: False\n",
            "is Current Node a Terminal Node: False\n",
            "Updated Path ('A', 'B', 'C', 'A', 'B')\n",
            "Possible path from Current Node B: ['C', 'E', 'F']\n",
            "Nodes not yet visited from Current Node B: ['C', 'E', 'F']\n",
            "Valid path from Current Node B: [('C', ('A', 'B', 'C', 'A', 'B')), ('E', ('A', 'B', 'C', 'A', 'B')), ('F', ('A', 'B', 'C', 'A', 'B'))]\n",
            "Updated Queue: [('F', ('A', 'B', 'C', 'D')), ('G', ('A', 'B', 'C', 'D')), ('C', ('A', 'B', 'C', 'A', 'B')), ('E', ('A', 'B', 'C', 'A', 'B')), ('F', ('A', 'B', 'C', 'A', 'B'))]\n",
            "- - - - \n",
            "Iteration 10\n",
            "Queue :[('F', ('A', 'B', 'C', 'D')), ('G', ('A', 'B', 'C', 'D')), ('C', ('A', 'B', 'C', 'A', 'B')), ('E', ('A', 'B', 'C', 'A', 'B')), ('F', ('A', 'B', 'C', 'A', 'B'))]\n",
            "Queue Size: 5\n",
            "Head: ('F', ('A', 'B', 'C', 'D'))\n",
            "Current Node: F\n",
            "Path: ('A', 'B', 'C', 'D')\n",
            ",Remainder:[('G', ('A', 'B', 'C', 'D')), ('C', ('A', 'B', 'C', 'A', 'B')), ('E', ('A', 'B', 'C', 'A', 'B')), ('F', ('A', 'B', 'C', 'A', 'B'))]\n",
            "Head:F, Goal:H, Reached Goal: False\n",
            "is Current Node a Terminal Node: True\n",
            "Updated Queue: [('G', ('A', 'B', 'C', 'D')), ('C', ('A', 'B', 'C', 'A', 'B')), ('E', ('A', 'B', 'C', 'A', 'B')), ('F', ('A', 'B', 'C', 'A', 'B'))]\n",
            "- - - - \n",
            "Iteration 11\n",
            "Queue :[('G', ('A', 'B', 'C', 'D')), ('C', ('A', 'B', 'C', 'A', 'B')), ('E', ('A', 'B', 'C', 'A', 'B')), ('F', ('A', 'B', 'C', 'A', 'B'))]\n",
            "Queue Size: 4\n",
            "Head: ('G', ('A', 'B', 'C', 'D'))\n",
            "Current Node: G\n",
            "Path: ('A', 'B', 'C', 'D')\n",
            ",Remainder:[('C', ('A', 'B', 'C', 'A', 'B')), ('E', ('A', 'B', 'C', 'A', 'B')), ('F', ('A', 'B', 'C', 'A', 'B'))]\n",
            "Head:G, Goal:H, Reached Goal: False\n",
            "is Current Node a Terminal Node: False\n",
            "Updated Path ('A', 'B', 'C', 'D', 'G')\n",
            "Possible path from Current Node G: ['H']\n",
            "Nodes not yet visited from Current Node G: ['H']\n",
            "Valid path from Current Node G: [('H', ('A', 'B', 'C', 'D', 'G'))]\n",
            "Updated Queue: [('C', ('A', 'B', 'C', 'A', 'B')), ('E', ('A', 'B', 'C', 'A', 'B')), ('F', ('A', 'B', 'C', 'A', 'B')), ('H', ('A', 'B', 'C', 'D', 'G'))]\n",
            "- - - - \n",
            "Iteration 12\n",
            "Queue :[('C', ('A', 'B', 'C', 'A', 'B')), ('E', ('A', 'B', 'C', 'A', 'B')), ('F', ('A', 'B', 'C', 'A', 'B')), ('H', ('A', 'B', 'C', 'D', 'G'))]\n",
            "Queue Size: 4\n",
            "Head: ('C', ('A', 'B', 'C', 'A', 'B'))\n",
            "Current Node: C\n",
            "Path: ('A', 'B', 'C', 'A', 'B')\n",
            ",Remainder:[('E', ('A', 'B', 'C', 'A', 'B')), ('F', ('A', 'B', 'C', 'A', 'B')), ('H', ('A', 'B', 'C', 'D', 'G'))]\n",
            "Head:C, Goal:H, Reached Goal: False\n",
            "is Current Node a Terminal Node: False\n",
            "Updated Path ('A', 'B', 'C', 'A', 'B', 'C')\n",
            "Possible path from Current Node C: ['A', 'D', 'F']\n",
            "Nodes not yet visited from Current Node C: ['A', 'D', 'F']\n",
            "Valid path from Current Node C: [('A', ('A', 'B', 'C', 'A', 'B', 'C')), ('D', ('A', 'B', 'C', 'A', 'B', 'C')), ('F', ('A', 'B', 'C', 'A', 'B', 'C'))]\n",
            "Updated Queue: [('E', ('A', 'B', 'C', 'A', 'B')), ('F', ('A', 'B', 'C', 'A', 'B')), ('H', ('A', 'B', 'C', 'D', 'G')), ('A', ('A', 'B', 'C', 'A', 'B', 'C')), ('D', ('A', 'B', 'C', 'A', 'B', 'C')), ('F', ('A', 'B', 'C', 'A', 'B', 'C'))]\n",
            "- - - - \n",
            "Iteration 13\n",
            "Queue :[('E', ('A', 'B', 'C', 'A', 'B')), ('F', ('A', 'B', 'C', 'A', 'B')), ('H', ('A', 'B', 'C', 'D', 'G')), ('A', ('A', 'B', 'C', 'A', 'B', 'C')), ('D', ('A', 'B', 'C', 'A', 'B', 'C')), ('F', ('A', 'B', 'C', 'A', 'B', 'C'))]\n",
            "Queue Size: 6\n",
            "Head: ('E', ('A', 'B', 'C', 'A', 'B'))\n",
            "Current Node: E\n",
            "Path: ('A', 'B', 'C', 'A', 'B')\n",
            ",Remainder:[('F', ('A', 'B', 'C', 'A', 'B')), ('H', ('A', 'B', 'C', 'D', 'G')), ('A', ('A', 'B', 'C', 'A', 'B', 'C')), ('D', ('A', 'B', 'C', 'A', 'B', 'C')), ('F', ('A', 'B', 'C', 'A', 'B', 'C'))]\n",
            "Head:E, Goal:H, Reached Goal: False\n",
            "is Current Node a Terminal Node: True\n",
            "Updated Queue: [('F', ('A', 'B', 'C', 'A', 'B')), ('H', ('A', 'B', 'C', 'D', 'G')), ('A', ('A', 'B', 'C', 'A', 'B', 'C')), ('D', ('A', 'B', 'C', 'A', 'B', 'C')), ('F', ('A', 'B', 'C', 'A', 'B', 'C'))]\n",
            "- - - - \n",
            "Iteration 14\n",
            "Queue :[('F', ('A', 'B', 'C', 'A', 'B')), ('H', ('A', 'B', 'C', 'D', 'G')), ('A', ('A', 'B', 'C', 'A', 'B', 'C')), ('D', ('A', 'B', 'C', 'A', 'B', 'C')), ('F', ('A', 'B', 'C', 'A', 'B', 'C'))]\n",
            "Queue Size: 5\n",
            "Head: ('F', ('A', 'B', 'C', 'A', 'B'))\n",
            "Current Node: F\n",
            "Path: ('A', 'B', 'C', 'A', 'B')\n",
            ",Remainder:[('H', ('A', 'B', 'C', 'D', 'G')), ('A', ('A', 'B', 'C', 'A', 'B', 'C')), ('D', ('A', 'B', 'C', 'A', 'B', 'C')), ('F', ('A', 'B', 'C', 'A', 'B', 'C'))]\n",
            "Head:F, Goal:H, Reached Goal: False\n",
            "is Current Node a Terminal Node: True\n",
            "Updated Queue: [('H', ('A', 'B', 'C', 'D', 'G')), ('A', ('A', 'B', 'C', 'A', 'B', 'C')), ('D', ('A', 'B', 'C', 'A', 'B', 'C')), ('F', ('A', 'B', 'C', 'A', 'B', 'C'))]\n",
            "- - - - \n",
            "Iteration 15\n",
            "Queue :[('H', ('A', 'B', 'C', 'D', 'G')), ('A', ('A', 'B', 'C', 'A', 'B', 'C')), ('D', ('A', 'B', 'C', 'A', 'B', 'C')), ('F', ('A', 'B', 'C', 'A', 'B', 'C'))]\n",
            "Queue Size: 4\n",
            "Head: ('H', ('A', 'B', 'C', 'D', 'G'))\n",
            "Current Node: H\n",
            "Path: ('A', 'B', 'C', 'D', 'G')\n",
            ",Remainder:[('A', ('A', 'B', 'C', 'A', 'B', 'C')), ('D', ('A', 'B', 'C', 'A', 'B', 'C')), ('F', ('A', 'B', 'C', 'A', 'B', 'C'))]\n",
            "Head:H, Goal:H, Reached Goal: False\n",
            "Found H\n"
          ],
          "name": "stdout"
        }
      ]
    },
    {
      "cell_type": "code",
      "metadata": {
        "ExecuteTime": {
          "end_time": "2021-06-03T00:33:38.765532Z",
          "start_time": "2021-06-03T00:33:38.745826Z"
        },
        "code_folding": [],
        "deletable": false,
        "editable": false,
        "run_control": {
          "frozen": true
        },
        "id": "5SIPPOLO7HEy"
      },
      "source": [
        "def uninformed_search_path_visitors(graph: dict, init: str, goal: str):\n",
        "    # keep path from the start\n",
        "    path = ()\n",
        "    queue = [(init, path)]\n",
        "    # Iteration counter\n",
        "    i=0\n",
        "    while queue:\n",
        "        # add iteration\n",
        "        i+=1\n",
        "        \n",
        "        head = queue[0]\n",
        "        current_node = head[0]\n",
        "        path = head[1]\n",
        "        \n",
        "        remainder = queue[1:]\n",
        "\n",
        "        # Show the queue\n",
        "        print('Iteration {}'.format(i))\n",
        "        print('Queue :{}\\nQueue Size: {}\\nHead: {}\\nCurrent Node: {}\\nPath: {}\\n,Remainder:{}'.format(queue,len(queue),head,current_node, path, remainder))\n",
        "        print('Head:{}, Goal:{}, Reached Goal: {}'.format(current_node, goal, head == goal))\n",
        "        if current_node == goal: \n",
        "            print('Found {}'.format(goal)) \n",
        "            break\n",
        "        else:\n",
        "            is_terminal_node = current_node not in graph\n",
        "            print('is Current Node a Terminal Node: {}'.format(is_terminal_node))\n",
        "            if is_terminal_node:\n",
        "                queue = remainder\n",
        "                print('Updated Queue: {}'.format(queue))\n",
        "            else:\n",
        "                updated_path = path + (current_node,)\n",
        "                print('Updated Path {}'.format(updated_path))\n",
        "                \n",
        "                possible_paths = [out for out in graph[current_node]] \n",
        "                print('Possible path from Current Node {}: {}'.format(current_node, possible_paths))\n",
        "                \n",
        "                valid_paths = [out for out in possible_paths if out not in updated_path]\n",
        "                print('Nodes not yet visited from Current Node {}: {}'.format(current_node, valid_paths))\n",
        "                \n",
        "                valid_path_with_history = [(out, updated_path) for out in valid_paths]\n",
        "                print('Valid path from Current Node {}: {}'.format(current_node, valid_path_with_history))\n",
        "                \n",
        "                queue = remainder +  valid_path_with_history\n",
        "                print('Updated Queue: {}'.format(queue)) \n",
        "      \n",
        "        print('- - - - ')"
      ],
      "execution_count": null,
      "outputs": []
    },
    {
      "cell_type": "code",
      "metadata": {
        "ExecuteTime": {
          "end_time": "2021-06-03T00:33:39.984518Z",
          "start_time": "2021-06-03T00:33:39.969148Z"
        },
        "deletable": false,
        "editable": false,
        "run_control": {
          "frozen": true
        },
        "scrolled": false,
        "id": "Nk73gbox7HEy",
        "outputId": "752d0d75-5d30-4477-cfcf-c9eaea7fa990"
      },
      "source": [
        "uninformed_search_path_visitors(graph, 'A', 'H')"
      ],
      "execution_count": null,
      "outputs": [
        {
          "output_type": "stream",
          "text": [
            "Iteration 1\n",
            "Queue :[('A', ())]\n",
            "Queue Size: 1\n",
            "Head: ('A', ())\n",
            "Current Node: A\n",
            "Path: ()\n",
            ",Remainder:[]\n",
            "Head:A, Goal:H, Reached Goal: False\n",
            "is Current Node a Terminal Node: False\n",
            "Updated Path ('A',)\n",
            "Possible path from Current Node A: ['B']\n",
            "Nodes not yet visited from Current Node A: ['B']\n",
            "Valid path from Current Node A: [('B', ('A',))]\n",
            "Updated Queue: [('B', ('A',))]\n",
            "- - - - \n",
            "Iteration 2\n",
            "Queue :[('B', ('A',))]\n",
            "Queue Size: 1\n",
            "Head: ('B', ('A',))\n",
            "Current Node: B\n",
            "Path: ('A',)\n",
            ",Remainder:[]\n",
            "Head:B, Goal:H, Reached Goal: False\n",
            "is Current Node a Terminal Node: False\n",
            "Updated Path ('A', 'B')\n",
            "Possible path from Current Node B: ['C', 'E', 'F']\n",
            "Nodes not yet visited from Current Node B: ['C', 'E', 'F']\n",
            "Valid path from Current Node B: [('C', ('A', 'B')), ('E', ('A', 'B')), ('F', ('A', 'B'))]\n",
            "Updated Queue: [('C', ('A', 'B')), ('E', ('A', 'B')), ('F', ('A', 'B'))]\n",
            "- - - - \n",
            "Iteration 3\n",
            "Queue :[('C', ('A', 'B')), ('E', ('A', 'B')), ('F', ('A', 'B'))]\n",
            "Queue Size: 3\n",
            "Head: ('C', ('A', 'B'))\n",
            "Current Node: C\n",
            "Path: ('A', 'B')\n",
            ",Remainder:[('E', ('A', 'B')), ('F', ('A', 'B'))]\n",
            "Head:C, Goal:H, Reached Goal: False\n",
            "is Current Node a Terminal Node: False\n",
            "Updated Path ('A', 'B', 'C')\n",
            "Possible path from Current Node C: ['A', 'D', 'F']\n",
            "Nodes not yet visited from Current Node C: ['D', 'F']\n",
            "Valid path from Current Node C: [('D', ('A', 'B', 'C')), ('F', ('A', 'B', 'C'))]\n",
            "Updated Queue: [('E', ('A', 'B')), ('F', ('A', 'B')), ('D', ('A', 'B', 'C')), ('F', ('A', 'B', 'C'))]\n",
            "- - - - \n",
            "Iteration 4\n",
            "Queue :[('E', ('A', 'B')), ('F', ('A', 'B')), ('D', ('A', 'B', 'C')), ('F', ('A', 'B', 'C'))]\n",
            "Queue Size: 4\n",
            "Head: ('E', ('A', 'B'))\n",
            "Current Node: E\n",
            "Path: ('A', 'B')\n",
            ",Remainder:[('F', ('A', 'B')), ('D', ('A', 'B', 'C')), ('F', ('A', 'B', 'C'))]\n",
            "Head:E, Goal:H, Reached Goal: False\n",
            "is Current Node a Terminal Node: True\n",
            "Updated Queue: [('F', ('A', 'B')), ('D', ('A', 'B', 'C')), ('F', ('A', 'B', 'C'))]\n",
            "- - - - \n",
            "Iteration 5\n",
            "Queue :[('F', ('A', 'B')), ('D', ('A', 'B', 'C')), ('F', ('A', 'B', 'C'))]\n",
            "Queue Size: 3\n",
            "Head: ('F', ('A', 'B'))\n",
            "Current Node: F\n",
            "Path: ('A', 'B')\n",
            ",Remainder:[('D', ('A', 'B', 'C')), ('F', ('A', 'B', 'C'))]\n",
            "Head:F, Goal:H, Reached Goal: False\n",
            "is Current Node a Terminal Node: True\n",
            "Updated Queue: [('D', ('A', 'B', 'C')), ('F', ('A', 'B', 'C'))]\n",
            "- - - - \n",
            "Iteration 6\n",
            "Queue :[('D', ('A', 'B', 'C')), ('F', ('A', 'B', 'C'))]\n",
            "Queue Size: 2\n",
            "Head: ('D', ('A', 'B', 'C'))\n",
            "Current Node: D\n",
            "Path: ('A', 'B', 'C')\n",
            ",Remainder:[('F', ('A', 'B', 'C'))]\n",
            "Head:D, Goal:H, Reached Goal: False\n",
            "is Current Node a Terminal Node: False\n",
            "Updated Path ('A', 'B', 'C', 'D')\n",
            "Possible path from Current Node D: ['F', 'G']\n",
            "Nodes not yet visited from Current Node D: ['F', 'G']\n",
            "Valid path from Current Node D: [('F', ('A', 'B', 'C', 'D')), ('G', ('A', 'B', 'C', 'D'))]\n",
            "Updated Queue: [('F', ('A', 'B', 'C')), ('F', ('A', 'B', 'C', 'D')), ('G', ('A', 'B', 'C', 'D'))]\n",
            "- - - - \n",
            "Iteration 7\n",
            "Queue :[('F', ('A', 'B', 'C')), ('F', ('A', 'B', 'C', 'D')), ('G', ('A', 'B', 'C', 'D'))]\n",
            "Queue Size: 3\n",
            "Head: ('F', ('A', 'B', 'C'))\n",
            "Current Node: F\n",
            "Path: ('A', 'B', 'C')\n",
            ",Remainder:[('F', ('A', 'B', 'C', 'D')), ('G', ('A', 'B', 'C', 'D'))]\n",
            "Head:F, Goal:H, Reached Goal: False\n",
            "is Current Node a Terminal Node: True\n",
            "Updated Queue: [('F', ('A', 'B', 'C', 'D')), ('G', ('A', 'B', 'C', 'D'))]\n",
            "- - - - \n",
            "Iteration 8\n",
            "Queue :[('F', ('A', 'B', 'C', 'D')), ('G', ('A', 'B', 'C', 'D'))]\n",
            "Queue Size: 2\n",
            "Head: ('F', ('A', 'B', 'C', 'D'))\n",
            "Current Node: F\n",
            "Path: ('A', 'B', 'C', 'D')\n",
            ",Remainder:[('G', ('A', 'B', 'C', 'D'))]\n",
            "Head:F, Goal:H, Reached Goal: False\n",
            "is Current Node a Terminal Node: True\n",
            "Updated Queue: [('G', ('A', 'B', 'C', 'D'))]\n",
            "- - - - \n",
            "Iteration 9\n",
            "Queue :[('G', ('A', 'B', 'C', 'D'))]\n",
            "Queue Size: 1\n",
            "Head: ('G', ('A', 'B', 'C', 'D'))\n",
            "Current Node: G\n",
            "Path: ('A', 'B', 'C', 'D')\n",
            ",Remainder:[]\n",
            "Head:G, Goal:H, Reached Goal: False\n",
            "is Current Node a Terminal Node: False\n",
            "Updated Path ('A', 'B', 'C', 'D', 'G')\n",
            "Possible path from Current Node G: ['H']\n",
            "Nodes not yet visited from Current Node G: ['H']\n",
            "Valid path from Current Node G: [('H', ('A', 'B', 'C', 'D', 'G'))]\n",
            "Updated Queue: [('H', ('A', 'B', 'C', 'D', 'G'))]\n",
            "- - - - \n",
            "Iteration 10\n",
            "Queue :[('H', ('A', 'B', 'C', 'D', 'G'))]\n",
            "Queue Size: 1\n",
            "Head: ('H', ('A', 'B', 'C', 'D', 'G'))\n",
            "Current Node: H\n",
            "Path: ('A', 'B', 'C', 'D', 'G')\n",
            ",Remainder:[]\n",
            "Head:H, Goal:H, Reached Goal: False\n",
            "Found H\n"
          ],
          "name": "stdout"
        }
      ]
    },
    {
      "cell_type": "markdown",
      "metadata": {
        "deletable": false,
        "editable": false,
        "run_control": {
          "frozen": true
        },
        "id": "7BiXegPl7HEy"
      },
      "source": [
        "### The British Museum Procedure"
      ]
    },
    {
      "cell_type": "markdown",
      "metadata": {
        "deletable": false,
        "editable": false,
        "run_control": {
          "frozen": true
        },
        "id": "pUkFUmG07HEy"
      },
      "source": [
        "One procedure for finding the shortest path through a net is to find all possible paths and to select the best\n",
        "one from them. This plodding procedure is known as the British Museum Procedure.\n",
        "\n",
        "So far we've been selecting the first path that reaches its destiny. Let us now iterate over all possibilities. To do this let's look at a small change on our graph, let's add an edge from B to G."
      ]
    },
    {
      "cell_type": "code",
      "metadata": {
        "ExecuteTime": {
          "end_time": "2021-06-03T00:33:52.126709Z",
          "start_time": "2021-06-03T00:33:51.779350Z"
        },
        "deletable": false,
        "editable": false,
        "run_control": {
          "frozen": true
        },
        "id": "ccUKPDr67HEz",
        "outputId": "3cb119d3-61e9-405c-cc54-4b039fa677cb"
      },
      "source": [
        "edges = [('A', 'B'),\n",
        "     ('B', 'C'),\n",
        "     ('B', 'E'),\n",
        "     ('B', 'F'),\n",
        "     ('B', 'G'),\n",
        "     ('C', 'A'),\n",
        "     ('C', 'D'),\n",
        "     ('C', 'F'),\n",
        "     ('D', 'F'),\n",
        "     ('D', 'G'),\n",
        "     ('G', 'H')\n",
        "    ]\n",
        "\n",
        "G = pd.DataFrame(edges, columns=['In', 'Out'])\n",
        "G['Weight'] = 1\n",
        "\n",
        "nG = nx.from_pandas_edgelist(G, source='In', target='Out', edge_attr='Weight', create_using=nx.DiGraph)\n",
        "options = {\n",
        "    'width': 2,\n",
        "    'arrowstyle': '->',\n",
        "    'arrowsize': 30,\n",
        "}\n",
        "pos = nx.circular_layout(nG)   \n",
        "nx.draw_networkx(nG, pos, with_labels = True, \n",
        "                 edge_color = 'black', arrows=True, **options)\n",
        "\n",
        "new_graph = G.groupby('In').apply(lambda x: list(x['Out'])).to_dict()\n",
        "new_graph"
      ],
      "execution_count": null,
      "outputs": [
        {
          "output_type": "execute_result",
          "data": {
            "text/plain": [
              "{'A': ['B'],\n",
              " 'B': ['C', 'E', 'F', 'G'],\n",
              " 'C': ['A', 'D', 'F'],\n",
              " 'D': ['F', 'G'],\n",
              " 'G': ['H']}"
            ]
          },
          "metadata": {
            "tags": []
          },
          "execution_count": 21
        },
        {
          "output_type": "display_data",
          "data": {
            "image/png": "[encoded data removed]",
            "text/plain": [
              "<Figure size 432x288 with 1 Axes>"
            ]
          },
          "metadata": {
            "tags": []
          }
        }
      ]
    },
    {
      "cell_type": "markdown",
      "metadata": {
        "deletable": false,
        "editable": false,
        "run_control": {
          "frozen": true
        },
        "id": "iGGWErzH7HEz"
      },
      "source": [
        "#### Python Programming - Iterables and Generators"
      ]
    },
    {
      "cell_type": "markdown",
      "metadata": {
        "deletable": false,
        "editable": false,
        "run_control": {
          "frozen": true
        },
        "id": "nhwWpg3h7HEz"
      },
      "source": [
        "Recall iterables"
      ]
    },
    {
      "cell_type": "code",
      "metadata": {
        "ExecuteTime": {
          "end_time": "2021-06-03T00:33:56.545561Z",
          "start_time": "2021-06-03T00:33:56.538843Z"
        },
        "deletable": false,
        "editable": false,
        "run_control": {
          "frozen": true
        },
        "id": "o3DvQ6bK7HEz",
        "outputId": "a1629270-efe9-4a15-ea6f-fccfc7bdaabd"
      },
      "source": [
        "example = [0,1,2,3]\n",
        "\n",
        "for e in example:\n",
        "    print(e)"
      ],
      "execution_count": null,
      "outputs": [
        {
          "output_type": "stream",
          "text": [
            "0\n",
            "1\n",
            "2\n",
            "3\n"
          ],
          "name": "stdout"
        }
      ]
    },
    {
      "cell_type": "code",
      "metadata": {
        "ExecuteTime": {
          "end_time": "2021-06-03T00:33:56.803004Z",
          "start_time": "2021-06-03T00:33:56.791236Z"
        },
        "deletable": false,
        "editable": false,
        "run_control": {
          "frozen": true
        },
        "id": "lrK2DZC57HEz",
        "outputId": "893d5256-de87-41f9-94d7-f0aa83b8e429"
      },
      "source": [
        "while example:\n",
        "    print(example.pop())"
      ],
      "execution_count": null,
      "outputs": [
        {
          "output_type": "stream",
          "text": [
            "3\n",
            "2\n",
            "1\n",
            "0\n"
          ],
          "name": "stdout"
        }
      ]
    },
    {
      "cell_type": "markdown",
      "metadata": {
        "deletable": false,
        "editable": false,
        "run_control": {
          "frozen": true
        },
        "id": "T5lPKg9o7HE0"
      },
      "source": [
        "We can create an iterable and define the corresponding methods."
      ]
    },
    {
      "cell_type": "code",
      "metadata": {
        "ExecuteTime": {
          "end_time": "2021-04-11T20:29:06.114262Z",
          "start_time": "2021-04-11T20:29:06.102545Z"
        },
        "deletable": false,
        "editable": false,
        "run_control": {
          "frozen": true
        },
        "id": "g6oXohlk7HE0"
      },
      "source": [
        "class anIterable():\n",
        "    \n",
        "    def __init__(self, limit):\n",
        "        self.collection = list(range(limit))\n",
        "        self.pointer = 0\n",
        "        \n",
        "    def __iter__(self):\n",
        "        return self\n",
        "        \n",
        "    def __next__(self):\n",
        "        if self.pointer < len(self.collection):\n",
        "            self.pointer += 1\n",
        "            return self.collection[self.pointer-1]\n",
        "        else:\n",
        "            raise StopIteration\n",
        "    \n",
        "    def __len__(self):\n",
        "        return len(self.collection)\n",
        "    \n",
        "    def pop(self):\n",
        "        return self.collection.pop()\n",
        "            \n",
        "    def __str__(self):\n",
        "        return str(self.collection)"
      ],
      "execution_count": null,
      "outputs": []
    },
    {
      "cell_type": "code",
      "metadata": {
        "ExecuteTime": {
          "end_time": "2021-04-11T20:23:41.446234Z",
          "start_time": "2021-04-11T20:23:41.436375Z"
        },
        "deletable": false,
        "editable": false,
        "run_control": {
          "frozen": true
        },
        "id": "2peH2BFJ7HE0",
        "outputId": "a529022e-61e9-4a85-c114-400359e765b4"
      },
      "source": [
        "example = anIterable(4)\n",
        "print(example)"
      ],
      "execution_count": null,
      "outputs": [
        {
          "output_type": "stream",
          "text": [
            "[0, 1, 2, 3]\n"
          ],
          "name": "stdout"
        }
      ]
    },
    {
      "cell_type": "code",
      "metadata": {
        "ExecuteTime": {
          "end_time": "2021-04-11T20:23:42.117498Z",
          "start_time": "2021-04-11T20:23:42.111568Z"
        },
        "deletable": false,
        "editable": false,
        "run_control": {
          "frozen": true
        },
        "id": "64uc3PEC7HE0",
        "outputId": "6b443803-d711-4558-d0b0-1d75c49f94f3"
      },
      "source": [
        "for e in example:\n",
        "    print(e)"
      ],
      "execution_count": null,
      "outputs": [
        {
          "output_type": "stream",
          "text": [
            "0\n",
            "1\n",
            "2\n",
            "3\n"
          ],
          "name": "stdout"
        }
      ]
    },
    {
      "cell_type": "code",
      "metadata": {
        "ExecuteTime": {
          "end_time": "2021-04-11T20:23:48.307604Z",
          "start_time": "2021-04-11T20:23:48.299130Z"
        },
        "deletable": false,
        "editable": false,
        "run_control": {
          "frozen": true
        },
        "id": "oJlCabgj7HE0",
        "outputId": "e12a72d2-eb4c-4bcb-9a0d-93ea7d31e1b5"
      },
      "source": [
        "while example:\n",
        "    print(example.pop())"
      ],
      "execution_count": null,
      "outputs": [
        {
          "output_type": "stream",
          "text": [
            "3\n",
            "2\n",
            "1\n",
            "0\n"
          ],
          "name": "stdout"
        }
      ]
    },
    {
      "cell_type": "markdown",
      "metadata": {
        "deletable": false,
        "editable": false,
        "run_control": {
          "frozen": true
        },
        "id": "TBkK4QKN7HE1"
      },
      "source": [
        "In Python we can make use of the instruction ```yield``` to easily create an Iterable. The instruction itself returns a Generator."
      ]
    },
    {
      "cell_type": "code",
      "metadata": {
        "ExecuteTime": {
          "end_time": "2021-04-11T20:30:38.032824Z",
          "start_time": "2021-04-11T20:30:38.025490Z"
        },
        "deletable": false,
        "editable": false,
        "run_control": {
          "frozen": true
        },
        "id": "WojktHMo7HE1"
      },
      "source": [
        "class anotherIterable():\n",
        "    \n",
        "    def __init__(self, limit):\n",
        "        self.collection = list(range(limit))\n",
        "\n",
        "        \n",
        "    def __iter__(self):\n",
        "        yield self.collection\n"
      ],
      "execution_count": null,
      "outputs": []
    },
    {
      "cell_type": "code",
      "metadata": {
        "ExecuteTime": {
          "end_time": "2021-04-11T20:30:38.478320Z",
          "start_time": "2021-04-11T20:30:38.470175Z"
        },
        "deletable": false,
        "editable": false,
        "run_control": {
          "frozen": true
        },
        "id": "SAviYh8E7HE1",
        "outputId": "92686f20-608d-4145-e2de-7f28740a5c18"
      },
      "source": [
        "example = anotherIterable(4)\n",
        "for value in example:\n",
        "    print(value)"
      ],
      "execution_count": null,
      "outputs": [
        {
          "output_type": "stream",
          "text": [
            "[0, 1, 2, 3]\n"
          ],
          "name": "stdout"
        }
      ]
    },
    {
      "cell_type": "code",
      "metadata": {
        "ExecuteTime": {
          "end_time": "2021-04-11T20:30:38.881377Z",
          "start_time": "2021-04-11T20:30:38.876180Z"
        },
        "deletable": false,
        "editable": false,
        "run_control": {
          "frozen": true
        },
        "id": "wMJo2Js17HE1"
      },
      "source": [
        "def iterable(limit):\n",
        "    \n",
        "    collection = list(range(limit))\n",
        "    for value in collection:\n",
        "        yield value"
      ],
      "execution_count": null,
      "outputs": []
    },
    {
      "cell_type": "code",
      "metadata": {
        "ExecuteTime": {
          "end_time": "2021-04-11T20:30:40.017866Z",
          "start_time": "2021-04-11T20:30:40.012318Z"
        },
        "deletable": false,
        "editable": false,
        "run_control": {
          "frozen": true
        },
        "id": "KM34QrQp7HE1"
      },
      "source": [
        "example = iterable(4)"
      ],
      "execution_count": null,
      "outputs": []
    },
    {
      "cell_type": "code",
      "metadata": {
        "ExecuteTime": {
          "end_time": "2021-04-11T20:30:40.291993Z",
          "start_time": "2021-04-11T20:30:40.282813Z"
        },
        "deletable": false,
        "editable": false,
        "run_control": {
          "frozen": true
        },
        "id": "Rbla-6437HE1",
        "outputId": "f66b360a-1807-4da9-aa83-f80a15cff72a"
      },
      "source": [
        "for value in example:\n",
        "    print(value)"
      ],
      "execution_count": null,
      "outputs": [
        {
          "output_type": "stream",
          "text": [
            "0\n",
            "1\n",
            "2\n",
            "3\n"
          ],
          "name": "stdout"
        }
      ]
    },
    {
      "cell_type": "code",
      "metadata": {
        "ExecuteTime": {
          "end_time": "2021-04-11T20:30:40.675326Z",
          "start_time": "2021-04-11T20:30:40.637534Z"
        },
        "deletable": false,
        "editable": false,
        "run_control": {
          "frozen": true
        },
        "id": "_zpB9kOn7HE1",
        "outputId": "09bbe6e1-85bc-463f-849c-dd5338350e09"
      },
      "source": [
        "example = iterable(4)\n",
        "print(next(example))\n",
        "print(next(example))\n",
        "print(next(example))\n",
        "print(next(example))\n",
        "print(next(example))"
      ],
      "execution_count": null,
      "outputs": [
        {
          "output_type": "stream",
          "text": [
            "0\n",
            "1\n",
            "2\n",
            "3\n"
          ],
          "name": "stdout"
        },
        {
          "output_type": "error",
          "ename": "StopIteration",
          "evalue": "",
          "traceback": [
            "\u001b[0;31m---------------------------------------------------------------------------\u001b[0m",
            "\u001b[0;31mStopIteration\u001b[0m                             Traceback (most recent call last)",
            "\u001b[0;32m<ipython-input-300-6d92bf082132>\u001b[0m in \u001b[0;36m<module>\u001b[0;34m\u001b[0m\n\u001b[1;32m      4\u001b[0m \u001b[0mprint\u001b[0m\u001b[0;34m(\u001b[0m\u001b[0mnext\u001b[0m\u001b[0;34m(\u001b[0m\u001b[0mexample\u001b[0m\u001b[0;34m)\u001b[0m\u001b[0;34m)\u001b[0m\u001b[0;34m\u001b[0m\u001b[0;34m\u001b[0m\u001b[0m\n\u001b[1;32m      5\u001b[0m \u001b[0mprint\u001b[0m\u001b[0;34m(\u001b[0m\u001b[0mnext\u001b[0m\u001b[0;34m(\u001b[0m\u001b[0mexample\u001b[0m\u001b[0;34m)\u001b[0m\u001b[0;34m)\u001b[0m\u001b[0;34m\u001b[0m\u001b[0;34m\u001b[0m\u001b[0m\n\u001b[0;32m----> 6\u001b[0;31m \u001b[0mprint\u001b[0m\u001b[0;34m(\u001b[0m\u001b[0mnext\u001b[0m\u001b[0;34m(\u001b[0m\u001b[0mexample\u001b[0m\u001b[0;34m)\u001b[0m\u001b[0;34m)\u001b[0m\u001b[0;34m\u001b[0m\u001b[0;34m\u001b[0m\u001b[0m\n\u001b[0m",
            "\u001b[0;31mStopIteration\u001b[0m: "
          ]
        }
      ]
    },
    {
      "cell_type": "markdown",
      "metadata": {
        "deletable": false,
        "editable": false,
        "run_control": {
          "frozen": true
        },
        "id": "ZcALz2wW7HE2"
      },
      "source": [
        "#### Back to our search algorithms"
      ]
    },
    {
      "cell_type": "code",
      "metadata": {
        "ExecuteTime": {
          "end_time": "2021-06-03T00:51:51.194587Z",
          "start_time": "2021-06-03T00:51:51.173080Z"
        },
        "code_folding": [],
        "deletable": false,
        "editable": false,
        "run_control": {
          "frozen": true
        },
        "id": "T5YAqRUw7HE2"
      },
      "source": [
        "import logging\n",
        "\n",
        "logging.basicConfig(\n",
        "    format='%(asctime)s %(levelname)-8s %(message)s',\n",
        "    level=logging.INFO,\n",
        "    datefmt='%Y-%m-%d %H:%M:%S')\n",
        "\n",
        "# keep this one to only show results\n",
        "logging.getLogger().setLevel(logging.WARNING)\n",
        "# keep this one to see the whole process\n",
        "logging.getLogger().setLevel(logging.INFO)\n",
        "\n",
        "def uninformed_search_path_visitors(graph: dict, init: str, goal: str):\n",
        "    # keep path from the start\n",
        "    path = ()\n",
        "    queue = [(init, path)]\n",
        "    # Iteration counter\n",
        "    i=0\n",
        "    while queue:\n",
        "        # add iteration\n",
        "        i+=1\n",
        "        \n",
        "        head = queue[0]\n",
        "        current_node = head[0]\n",
        "        path = head[1]\n",
        "        \n",
        "        remainder = queue[1:]\n",
        "\n",
        "        # Show the queue\n",
        "        logging.info('Iteration {}'.format(i))\n",
        "        logging.info('Status:\\n\\nQueue :{}\\nQueue Size: {}\\nHead: {}\\nCurrent Node: {}\\nPath: {}\\nRemainder:{}\\n'.format(queue,len(queue),head,current_node, path, remainder))\n",
        "        logging.info('Head:{}, Goal:{}, Reached Goal: {}'.format(current_node, goal, head == goal))\n",
        "        if current_node == goal: \n",
        "            \n",
        "            complete_path = path + (current_node,)\n",
        "            print('\\n########################### -> Found {}\\nPath: {}'.format(goal, complete_path))\n",
        "            \n",
        "            # rememeber to update the queue\n",
        "            queue = remainder\n",
        "            # generate a solution    \n",
        "            yield complete_path\n",
        "        else:\n",
        "            is_terminal_node = current_node not in graph\n",
        "            logging.info('is Current Node a Terminal Node: {}'.format(is_terminal_node))\n",
        "            if is_terminal_node:\n",
        "                queue = remainder\n",
        "                logging.info('Updated Queue: {}'.format(queue))\n",
        "            else:\n",
        "                updated_path = path + (current_node,)\n",
        "                logging.info('Updated Path {}'.format(updated_path))\n",
        "                \n",
        "                possible_paths = [out for out in graph[current_node]] \n",
        "                logging.info('Possible path from Current Node {}: {}'.format(current_node, possible_paths))\n",
        "                \n",
        "                valid_paths = [out for out in possible_paths if out not in updated_path]\n",
        "                logging.info('Nodes not yet visited from Current Node {}: {}'.format(current_node, valid_paths))\n",
        "                \n",
        "                valid_path_with_history = [(out, updated_path) for out in valid_paths]\n",
        "                logging.info('Valid path from Current Node {}: \\n\\n{}\\n'.format(current_node, valid_path_with_history))\n",
        "                \n",
        "                queue = remainder +  valid_path_with_history\n",
        "                logging.info('Updated Queue: {}'.format(queue)) \n",
        "      \n",
        "        logging.info('- - - - - - - - - - - - - - - - - - - -')"
      ],
      "execution_count": null,
      "outputs": []
    },
    {
      "cell_type": "code",
      "metadata": {
        "ExecuteTime": {
          "end_time": "2021-06-03T00:51:17.841140Z",
          "start_time": "2021-06-03T00:51:17.583407Z"
        },
        "deletable": false,
        "editable": false,
        "run_control": {
          "frozen": true
        },
        "scrolled": false,
        "id": "SrNgTUkC7HE2",
        "outputId": "ec1b3a7d-5095-43ba-900e-49a369b90f70"
      },
      "source": [
        "for path in uninformed_search_path_visitors(new_graph, 'A', 'F'):\n",
        "    print(path)"
      ],
      "execution_count": null,
      "outputs": [
        {
          "output_type": "stream",
          "text": [
            "2021-06-03 00:51:17 INFO     Iteration 1\n",
            "2021-06-03 00:51:17 INFO     Status:\n",
            "\n",
            "Queue :[('A', ())]\n",
            "Queue Size: 1\n",
            "Head: ('A', ())\n",
            "Current Node: A\n",
            "Path: ()\n",
            "Remainder:[]\n",
            "\n",
            "2021-06-03 00:51:17 INFO     Head:A, Goal:F, Reached Goal: False\n",
            "2021-06-03 00:51:17 INFO     is Current Node a Terminal Node: False\n",
            "2021-06-03 00:51:17 INFO     Updated Path ('A',)\n",
            "2021-06-03 00:51:17 INFO     Possible path from Current Node A: ['B']\n",
            "2021-06-03 00:51:17 INFO     Nodes not yet visited from Current Node A: ['B']\n",
            "2021-06-03 00:51:17 INFO     Valid path from Current Node A: \n",
            "\n",
            "[('B', ('A',))]\n",
            "\n",
            "2021-06-03 00:51:17 INFO     Updated Queue: [('B', ('A',))]\n",
            "2021-06-03 00:51:17 INFO     - - - - - - - - - - - - - - - - - - - -\n",
            "2021-06-03 00:51:17 INFO     Iteration 2\n",
            "2021-06-03 00:51:17 INFO     Status:\n",
            "\n",
            "Queue :[('B', ('A',))]\n",
            "Queue Size: 1\n",
            "Head: ('B', ('A',))\n",
            "Current Node: B\n",
            "Path: ('A',)\n",
            "Remainder:[]\n",
            "\n",
            "2021-06-03 00:51:17 INFO     Head:B, Goal:F, Reached Goal: False\n",
            "2021-06-03 00:51:17 INFO     is Current Node a Terminal Node: False\n",
            "2021-06-03 00:51:17 INFO     Updated Path ('A', 'B')\n",
            "2021-06-03 00:51:17 INFO     Possible path from Current Node B: ['C', 'E', 'F', 'G']\n",
            "2021-06-03 00:51:17 INFO     Nodes not yet visited from Current Node B: ['C', 'E', 'F', 'G']\n",
            "2021-06-03 00:51:17 INFO     Valid path from Current Node B: \n",
            "\n",
            "[('C', ('A', 'B')), ('E', ('A', 'B')), ('F', ('A', 'B')), ('G', ('A', 'B'))]\n",
            "\n",
            "2021-06-03 00:51:17 INFO     Updated Queue: [('C', ('A', 'B')), ('E', ('A', 'B')), ('F', ('A', 'B')), ('G', ('A', 'B'))]\n",
            "2021-06-03 00:51:17 INFO     - - - - - - - - - - - - - - - - - - - -\n",
            "2021-06-03 00:51:17 INFO     Iteration 3\n",
            "2021-06-03 00:51:17 INFO     Status:\n",
            "\n",
            "Queue :[('C', ('A', 'B')), ('E', ('A', 'B')), ('F', ('A', 'B')), ('G', ('A', 'B'))]\n",
            "Queue Size: 4\n",
            "Head: ('C', ('A', 'B'))\n",
            "Current Node: C\n",
            "Path: ('A', 'B')\n",
            "Remainder:[('E', ('A', 'B')), ('F', ('A', 'B')), ('G', ('A', 'B'))]\n",
            "\n",
            "2021-06-03 00:51:17 INFO     Head:C, Goal:F, Reached Goal: False\n",
            "2021-06-03 00:51:17 INFO     is Current Node a Terminal Node: False\n",
            "2021-06-03 00:51:17 INFO     Updated Path ('A', 'B', 'C')\n",
            "2021-06-03 00:51:17 INFO     Possible path from Current Node C: ['A', 'D', 'F']\n",
            "2021-06-03 00:51:17 INFO     Nodes not yet visited from Current Node C: ['D', 'F']\n",
            "2021-06-03 00:51:17 INFO     Valid path from Current Node C: \n",
            "\n",
            "[('D', ('A', 'B', 'C')), ('F', ('A', 'B', 'C'))]\n",
            "\n",
            "2021-06-03 00:51:17 INFO     Updated Queue: [('E', ('A', 'B')), ('F', ('A', 'B')), ('G', ('A', 'B')), ('D', ('A', 'B', 'C')), ('F', ('A', 'B', 'C'))]\n",
            "2021-06-03 00:51:17 INFO     - - - - - - - - - - - - - - - - - - - -\n",
            "2021-06-03 00:51:17 INFO     Iteration 4\n",
            "2021-06-03 00:51:17 INFO     Status:\n",
            "\n",
            "Queue :[('E', ('A', 'B')), ('F', ('A', 'B')), ('G', ('A', 'B')), ('D', ('A', 'B', 'C')), ('F', ('A', 'B', 'C'))]\n",
            "Queue Size: 5\n",
            "Head: ('E', ('A', 'B'))\n",
            "Current Node: E\n",
            "Path: ('A', 'B')\n",
            "Remainder:[('F', ('A', 'B')), ('G', ('A', 'B')), ('D', ('A', 'B', 'C')), ('F', ('A', 'B', 'C'))]\n",
            "\n",
            "2021-06-03 00:51:17 INFO     Head:E, Goal:F, Reached Goal: False\n",
            "2021-06-03 00:51:17 INFO     is Current Node a Terminal Node: True\n",
            "2021-06-03 00:51:17 INFO     Updated Queue: [('F', ('A', 'B')), ('G', ('A', 'B')), ('D', ('A', 'B', 'C')), ('F', ('A', 'B', 'C'))]\n",
            "2021-06-03 00:51:17 INFO     - - - - - - - - - - - - - - - - - - - -\n",
            "2021-06-03 00:51:17 INFO     Iteration 5\n",
            "2021-06-03 00:51:17 INFO     Status:\n",
            "\n",
            "Queue :[('F', ('A', 'B')), ('G', ('A', 'B')), ('D', ('A', 'B', 'C')), ('F', ('A', 'B', 'C'))]\n",
            "Queue Size: 4\n",
            "Head: ('F', ('A', 'B'))\n",
            "Current Node: F\n",
            "Path: ('A', 'B')\n",
            "Remainder:[('G', ('A', 'B')), ('D', ('A', 'B', 'C')), ('F', ('A', 'B', 'C'))]\n",
            "\n",
            "2021-06-03 00:51:17 INFO     Head:F, Goal:F, Reached Goal: False\n",
            "2021-06-03 00:51:17 INFO     - - - - - - - - - - - - - - - - - - - -\n",
            "2021-06-03 00:51:17 INFO     Iteration 6\n",
            "2021-06-03 00:51:17 INFO     Status:\n",
            "\n",
            "Queue :[('G', ('A', 'B')), ('D', ('A', 'B', 'C')), ('F', ('A', 'B', 'C'))]\n",
            "Queue Size: 3\n",
            "Head: ('G', ('A', 'B'))\n",
            "Current Node: G\n",
            "Path: ('A', 'B')\n",
            "Remainder:[('D', ('A', 'B', 'C')), ('F', ('A', 'B', 'C'))]\n",
            "\n",
            "2021-06-03 00:51:17 INFO     Head:G, Goal:F, Reached Goal: False\n",
            "2021-06-03 00:51:17 INFO     is Current Node a Terminal Node: False\n",
            "2021-06-03 00:51:17 INFO     Updated Path ('A', 'B', 'G')\n",
            "2021-06-03 00:51:17 INFO     Possible path from Current Node G: ['H']\n",
            "2021-06-03 00:51:17 INFO     Nodes not yet visited from Current Node G: ['H']\n",
            "2021-06-03 00:51:17 INFO     Valid path from Current Node G: \n",
            "\n",
            "[('H', ('A', 'B', 'G'))]\n",
            "\n",
            "2021-06-03 00:51:17 INFO     Updated Queue: [('D', ('A', 'B', 'C')), ('F', ('A', 'B', 'C')), ('H', ('A', 'B', 'G'))]\n",
            "2021-06-03 00:51:17 INFO     - - - - - - - - - - - - - - - - - - - -\n",
            "2021-06-03 00:51:17 INFO     Iteration 7\n",
            "2021-06-03 00:51:17 INFO     Status:\n",
            "\n",
            "Queue :[('D', ('A', 'B', 'C')), ('F', ('A', 'B', 'C')), ('H', ('A', 'B', 'G'))]\n",
            "Queue Size: 3\n",
            "Head: ('D', ('A', 'B', 'C'))\n",
            "Current Node: D\n",
            "Path: ('A', 'B', 'C')\n",
            "Remainder:[('F', ('A', 'B', 'C')), ('H', ('A', 'B', 'G'))]\n",
            "\n",
            "2021-06-03 00:51:17 INFO     Head:D, Goal:F, Reached Goal: False\n",
            "2021-06-03 00:51:17 INFO     is Current Node a Terminal Node: False\n",
            "2021-06-03 00:51:17 INFO     Updated Path ('A', 'B', 'C', 'D')\n",
            "2021-06-03 00:51:17 INFO     Possible path from Current Node D: ['F', 'G']\n",
            "2021-06-03 00:51:17 INFO     Nodes not yet visited from Current Node D: ['F', 'G']\n",
            "2021-06-03 00:51:17 INFO     Valid path from Current Node D: \n",
            "\n",
            "[('F', ('A', 'B', 'C', 'D')), ('G', ('A', 'B', 'C', 'D'))]\n",
            "\n",
            "2021-06-03 00:51:17 INFO     Updated Queue: [('F', ('A', 'B', 'C')), ('H', ('A', 'B', 'G')), ('F', ('A', 'B', 'C', 'D')), ('G', ('A', 'B', 'C', 'D'))]\n",
            "2021-06-03 00:51:17 INFO     - - - - - - - - - - - - - - - - - - - -\n",
            "2021-06-03 00:51:17 INFO     Iteration 8\n",
            "2021-06-03 00:51:17 INFO     Status:\n",
            "\n",
            "Queue :[('F', ('A', 'B', 'C')), ('H', ('A', 'B', 'G')), ('F', ('A', 'B', 'C', 'D')), ('G', ('A', 'B', 'C', 'D'))]\n",
            "Queue Size: 4\n",
            "Head: ('F', ('A', 'B', 'C'))\n",
            "Current Node: F\n",
            "Path: ('A', 'B', 'C')\n",
            "Remainder:[('H', ('A', 'B', 'G')), ('F', ('A', 'B', 'C', 'D')), ('G', ('A', 'B', 'C', 'D'))]\n",
            "\n",
            "2021-06-03 00:51:17 INFO     Head:F, Goal:F, Reached Goal: False\n",
            "2021-06-03 00:51:17 INFO     - - - - - - - - - - - - - - - - - - - -\n",
            "2021-06-03 00:51:17 INFO     Iteration 9\n",
            "2021-06-03 00:51:17 INFO     Status:\n",
            "\n",
            "Queue :[('H', ('A', 'B', 'G')), ('F', ('A', 'B', 'C', 'D')), ('G', ('A', 'B', 'C', 'D'))]\n",
            "Queue Size: 3\n",
            "Head: ('H', ('A', 'B', 'G'))\n",
            "Current Node: H\n",
            "Path: ('A', 'B', 'G')\n",
            "Remainder:[('F', ('A', 'B', 'C', 'D')), ('G', ('A', 'B', 'C', 'D'))]\n",
            "\n",
            "2021-06-03 00:51:17 INFO     Head:H, Goal:F, Reached Goal: False\n",
            "2021-06-03 00:51:17 INFO     is Current Node a Terminal Node: True\n",
            "2021-06-03 00:51:17 INFO     Updated Queue: [('F', ('A', 'B', 'C', 'D')), ('G', ('A', 'B', 'C', 'D'))]\n",
            "2021-06-03 00:51:17 INFO     - - - - - - - - - - - - - - - - - - - -\n",
            "2021-06-03 00:51:17 INFO     Iteration 10\n",
            "2021-06-03 00:51:17 INFO     Status:\n",
            "\n",
            "Queue :[('F', ('A', 'B', 'C', 'D')), ('G', ('A', 'B', 'C', 'D'))]\n",
            "Queue Size: 2\n",
            "Head: ('F', ('A', 'B', 'C', 'D'))\n",
            "Current Node: F\n",
            "Path: ('A', 'B', 'C', 'D')\n",
            "Remainder:[('G', ('A', 'B', 'C', 'D'))]\n",
            "\n",
            "2021-06-03 00:51:17 INFO     Head:F, Goal:F, Reached Goal: False\n",
            "2021-06-03 00:51:17 INFO     - - - - - - - - - - - - - - - - - - - -\n",
            "2021-06-03 00:51:17 INFO     Iteration 11\n",
            "2021-06-03 00:51:17 INFO     Status:\n",
            "\n",
            "Queue :[('G', ('A', 'B', 'C', 'D'))]\n",
            "Queue Size: 1\n",
            "Head: ('G', ('A', 'B', 'C', 'D'))\n",
            "Current Node: G\n",
            "Path: ('A', 'B', 'C', 'D')\n",
            "Remainder:[]\n",
            "\n",
            "2021-06-03 00:51:17 INFO     Head:G, Goal:F, Reached Goal: False\n",
            "2021-06-03 00:51:17 INFO     is Current Node a Terminal Node: False\n",
            "2021-06-03 00:51:17 INFO     Updated Path ('A', 'B', 'C', 'D', 'G')\n",
            "2021-06-03 00:51:17 INFO     Possible path from Current Node G: ['H']\n",
            "2021-06-03 00:51:17 INFO     Nodes not yet visited from Current Node G: ['H']\n",
            "2021-06-03 00:51:17 INFO     Valid path from Current Node G: \n",
            "\n",
            "[('H', ('A', 'B', 'C', 'D', 'G'))]\n",
            "\n",
            "2021-06-03 00:51:17 INFO     Updated Queue: [('H', ('A', 'B', 'C', 'D', 'G'))]\n",
            "2021-06-03 00:51:17 INFO     - - - - - - - - - - - - - - - - - - - -\n",
            "2021-06-03 00:51:17 INFO     Iteration 12\n",
            "2021-06-03 00:51:17 INFO     Status:\n",
            "\n",
            "Queue :[('H', ('A', 'B', 'C', 'D', 'G'))]\n",
            "Queue Size: 1\n",
            "Head: ('H', ('A', 'B', 'C', 'D', 'G'))\n",
            "Current Node: H\n",
            "Path: ('A', 'B', 'C', 'D', 'G')\n",
            "Remainder:[]\n",
            "\n"
          ],
          "name": "stderr"
        },
        {
          "output_type": "stream",
          "text": [
            "2021-06-03 00:51:17 INFO     Head:H, Goal:F, Reached Goal: False\n",
            "2021-06-03 00:51:17 INFO     is Current Node a Terminal Node: True\n",
            "2021-06-03 00:51:17 INFO     Updated Queue: []\n",
            "2021-06-03 00:51:17 INFO     - - - - - - - - - - - - - - - - - - - -\n"
          ],
          "name": "stderr"
        },
        {
          "output_type": "stream",
          "text": [
            "\n",
            "########################### -> Found F\n",
            "Path: ('A', 'B', 'F')\n",
            "('A', 'B', 'F')\n",
            "\n",
            "########################### -> Found F\n",
            "Path: ('A', 'B', 'C', 'F')\n",
            "('A', 'B', 'C', 'F')\n",
            "\n",
            "########################### -> Found F\n",
            "Path: ('A', 'B', 'C', 'D', 'F')\n",
            "('A', 'B', 'C', 'D', 'F')\n"
          ],
          "name": "stdout"
        }
      ]
    },
    {
      "cell_type": "markdown",
      "metadata": {
        "deletable": false,
        "editable": false,
        "run_control": {
          "frozen": true
        },
        "id": "0C41F2LS7HE2"
      },
      "source": [
        "### Depth First Search"
      ]
    },
    {
      "cell_type": "code",
      "metadata": {
        "ExecuteTime": {
          "end_time": "2021-06-03T00:51:59.957958Z",
          "start_time": "2021-06-03T00:51:59.591784Z"
        },
        "deletable": false,
        "editable": false,
        "run_control": {
          "frozen": true
        },
        "id": "RCF2uI1-7HE2",
        "outputId": "e889a9d8-fb37-4e78-f288-5e974327c092"
      },
      "source": [
        "edges = [('A', 'B'),\n",
        "         ('A', 'E'),\n",
        "     ('B', 'C'),\n",
        "     ('B', 'D'),\n",
        "     ('E', 'F'),\n",
        "     ('E', 'G'),\n",
        "    ]\n",
        "\n",
        "G = pd.DataFrame(edges, columns=['In', 'Out'])\n",
        "G['Weight'] = 1\n",
        "\n",
        "nG = nx.from_pandas_edgelist(G, source='In', target='Out', edge_attr='Weight', create_using=nx.DiGraph)\n",
        "options = {\n",
        "    'width': 2,\n",
        "    'arrowstyle': '->',\n",
        "    'arrowsize': 30,\n",
        "}\n",
        "  \n",
        "nx.draw_networkx(nG, with_labels = True, \n",
        "                 edge_color = 'black', arrows=True, **options)\n",
        "\n",
        "a_graph = G.groupby('In').apply(lambda x: list(x['Out'])).to_dict()\n",
        "a_graph"
      ],
      "execution_count": null,
      "outputs": [
        {
          "output_type": "execute_result",
          "data": {
            "text/plain": [
              "{'A': ['B', 'E'], 'B': ['C', 'D'], 'E': ['F', 'G']}"
            ]
          },
          "metadata": {
            "tags": []
          },
          "execution_count": 47
        },
        {
          "output_type": "display_data",
          "data": {
            "image/png": "[encoded data removed]",
            "text/plain": [
              "<Figure size 432x288 with 1 Axes>"
            ]
          },
          "metadata": {
            "tags": []
          }
        }
      ]
    },
    {
      "cell_type": "code",
      "metadata": {
        "ExecuteTime": {
          "end_time": "2021-06-03T00:52:00.568470Z",
          "start_time": "2021-06-03T00:52:00.560103Z"
        },
        "deletable": false,
        "editable": false,
        "run_control": {
          "frozen": true
        },
        "id": "OMLPkuEo7HE2"
      },
      "source": [
        "class Stack:\n",
        "\n",
        "    def __init__(self):\n",
        "        self.stack = []\n",
        "                    \n",
        "    def append(self, item):\n",
        "        self.stack.append(item)\n",
        "\n",
        "    def pop(self):\n",
        "        return self.stack.pop()\n",
        "    \n",
        "    def size(self):\n",
        "        return len(self.stack)\n",
        "    \n",
        "    def __str__(self):\n",
        "        return str(self.stack)"
      ],
      "execution_count": null,
      "outputs": []
    },
    {
      "cell_type": "code",
      "metadata": {
        "ExecuteTime": {
          "end_time": "2021-06-03T00:52:01.051618Z",
          "start_time": "2021-06-03T00:52:01.034687Z"
        },
        "deletable": false,
        "editable": false,
        "run_control": {
          "frozen": true
        },
        "id": "gMbAfDXX7HE3"
      },
      "source": [
        "def uninformed_search_path_visitors(graph: dict, struct, init: str, goal: str, verbose:bool=False):\n",
        "    \"\"\"\n",
        "\n",
        "    \"\"\"\n",
        "\n",
        "    # keep path from the start\n",
        "    path = ()\n",
        "    out = init\n",
        "    struct.append((out, path))\n",
        "\n",
        "    # auxiliar - iteration counter\n",
        "    i = 0\n",
        "\n",
        "    while struct.size():\n",
        "\n",
        "        # add iteration\n",
        "        i += 1\n",
        "\n",
        "        head = struct.pop()\n",
        "        \n",
        "        current_node = head[0]\n",
        "        path = head[1]\n",
        "        \n",
        "        if verbose:\n",
        "            # Show the queue\n",
        "            print('Iteration {}'.format(i))\n",
        "            print('Current Node: {}\\nHead :{}\\nQueue :{}\\nSize: {}'.format(current_node,\n",
        "                                                                           head,\n",
        "                                                                           struct,\n",
        "                                                                           struct.size()))\n",
        "\n",
        "        if current_node == goal:\n",
        "            print('################### Found {}\\n# Path: {}'.format(goal, path))\n",
        "            yield path + (current_node,)\n",
        "\n",
        "        else:\n",
        "\n",
        "            if current_node not in graph:\n",
        "                continue\n",
        "            else:\n",
        "                new_path = path + (current_node,)\n",
        "\n",
        "                possible_paths = [(out, new_path)\n",
        "                                  for out in graph[current_node] if out not in new_path]\n",
        "                \n",
        "                for p in possible_paths:\n",
        "                        struct.append(p)"
      ],
      "execution_count": null,
      "outputs": []
    },
    {
      "cell_type": "code",
      "metadata": {
        "ExecuteTime": {
          "end_time": "2021-06-03T00:52:03.648133Z",
          "start_time": "2021-06-03T00:52:03.641825Z"
        },
        "deletable": false,
        "editable": false,
        "run_control": {
          "frozen": true
        },
        "id": "mf7r5cna7HE3"
      },
      "source": [
        "solutions = uninformed_search_path_visitors(graph, Stack(), 'A', 'F')"
      ],
      "execution_count": null,
      "outputs": []
    },
    {
      "cell_type": "code",
      "metadata": {
        "ExecuteTime": {
          "end_time": "2021-06-03T00:52:04.109884Z",
          "start_time": "2021-06-03T00:52:04.095844Z"
        },
        "deletable": false,
        "editable": false,
        "run_control": {
          "frozen": true
        },
        "id": "RGUcq5NS7HE3",
        "outputId": "1737de97-551f-4461-a8c6-c94b97a6cf98"
      },
      "source": [
        "sols = [s for s in solutions]"
      ],
      "execution_count": null,
      "outputs": [
        {
          "output_type": "stream",
          "text": [
            "################### Found F\n",
            "# Path: ('A', 'B')\n",
            "################### Found F\n",
            "# Path: ('A', 'B', 'C')\n",
            "################### Found F\n",
            "# Path: ('A', 'B', 'C', 'D')\n"
          ],
          "name": "stdout"
        }
      ]
    },
    {
      "cell_type": "code",
      "metadata": {
        "ExecuteTime": {
          "end_time": "2021-06-03T00:52:05.189367Z",
          "start_time": "2021-06-03T00:52:05.181539Z"
        },
        "deletable": false,
        "editable": false,
        "run_control": {
          "frozen": true
        },
        "id": "1J547_oR7HE3",
        "outputId": "1dc2f43c-bb5b-4ac8-cdc3-fa48cab20399"
      },
      "source": [
        "sols"
      ],
      "execution_count": null,
      "outputs": [
        {
          "output_type": "execute_result",
          "data": {
            "text/plain": [
              "[('A', 'B', 'F'), ('A', 'B', 'C', 'F'), ('A', 'B', 'C', 'D', 'F')]"
            ]
          },
          "metadata": {
            "tags": []
          },
          "execution_count": 52
        }
      ]
    },
    {
      "cell_type": "code",
      "metadata": {
        "ExecuteTime": {
          "end_time": "2021-06-03T00:52:05.730882Z",
          "start_time": "2021-06-03T00:52:05.724126Z"
        },
        "deletable": false,
        "editable": false,
        "run_control": {
          "frozen": true
        },
        "id": "TSUAZhfr7HE3"
      },
      "source": [
        "for s in solutions:\n",
        "    print(s)"
      ],
      "execution_count": null,
      "outputs": []
    },
    {
      "cell_type": "code",
      "metadata": {
        "ExecuteTime": {
          "end_time": "2021-06-03T00:52:06.235442Z",
          "start_time": "2021-06-03T00:52:06.222466Z"
        },
        "deletable": false,
        "editable": false,
        "run_control": {
          "frozen": true
        },
        "id": "wjCt8ZvW7HE3",
        "outputId": "4513d393-5bcb-4a7d-8612-ef0984d270b5"
      },
      "source": [
        "for path in uninformed_search_path_visitors(a_graph, Stack(), 'A', 'G', verbose=True):\n",
        "    print(path)"
      ],
      "execution_count": null,
      "outputs": [
        {
          "output_type": "stream",
          "text": [
            "Iteration 1\n",
            "Current Node: A\n",
            "Head :('A', ())\n",
            "Queue :[]\n",
            "Size: 0\n",
            "Iteration 2\n",
            "Current Node: E\n",
            "Head :('E', ('A',))\n",
            "Queue :[('B', ('A',))]\n",
            "Size: 1\n",
            "Iteration 3\n",
            "Current Node: G\n",
            "Head :('G', ('A', 'E'))\n",
            "Queue :[('B', ('A',)), ('F', ('A', 'E'))]\n",
            "Size: 2\n",
            "################### Found G\n",
            "# Path: ('A', 'E')\n",
            "('A', 'E', 'G')\n",
            "Iteration 4\n",
            "Current Node: F\n",
            "Head :('F', ('A', 'E'))\n",
            "Queue :[('B', ('A',))]\n",
            "Size: 1\n",
            "Iteration 5\n",
            "Current Node: B\n",
            "Head :('B', ('A',))\n",
            "Queue :[]\n",
            "Size: 0\n",
            "Iteration 6\n",
            "Current Node: D\n",
            "Head :('D', ('A', 'B'))\n",
            "Queue :[('C', ('A', 'B'))]\n",
            "Size: 1\n",
            "Iteration 7\n",
            "Current Node: C\n",
            "Head :('C', ('A', 'B'))\n",
            "Queue :[]\n",
            "Size: 0\n"
          ],
          "name": "stdout"
        }
      ]
    },
    {
      "cell_type": "markdown",
      "metadata": {
        "deletable": false,
        "editable": false,
        "run_control": {
          "frozen": true
        },
        "id": "iHV0ho6-7HE4"
      },
      "source": [
        "### Breath First Search"
      ]
    },
    {
      "cell_type": "code",
      "metadata": {
        "ExecuteTime": {
          "end_time": "2021-06-03T00:52:07.596910Z",
          "start_time": "2021-06-03T00:52:07.585774Z"
        },
        "deletable": false,
        "editable": false,
        "run_control": {
          "frozen": true
        },
        "id": "lHLUtIjg7HE4"
      },
      "source": [
        "from collections import deque\n",
        "\n",
        "class Queue:\n",
        "\n",
        "    def __init__(self):\n",
        "        self.queue = deque()\n",
        "\n",
        "    def append(self, item):\n",
        "        self.queue.append(item)\n",
        "\n",
        "    def pop(self):\n",
        "        return self.queue.popleft()\n",
        "    \n",
        "    def size(self):\n",
        "        return len(self.queue)\n",
        "    \n",
        "    def __str__(self):\n",
        "        return str(self.queue)"
      ],
      "execution_count": null,
      "outputs": []
    },
    {
      "cell_type": "code",
      "metadata": {
        "ExecuteTime": {
          "end_time": "2021-06-03T00:52:07.898203Z",
          "start_time": "2021-06-03T00:52:07.884007Z"
        },
        "deletable": false,
        "editable": false,
        "run_control": {
          "frozen": true
        },
        "scrolled": false,
        "id": "hw9RlMyR7HE4",
        "outputId": "009c65aa-6f41-430b-92be-04f7b5430ed9"
      },
      "source": [
        "for path in uninformed_search_path_visitors(a_graph, Queue(), 'A', 'G', verbose=True):\n",
        "    print(path)"
      ],
      "execution_count": null,
      "outputs": [
        {
          "output_type": "stream",
          "text": [
            "Iteration 1\n",
            "Current Node: A\n",
            "Head :('A', ())\n",
            "Queue :deque([])\n",
            "Size: 0\n",
            "Iteration 2\n",
            "Current Node: B\n",
            "Head :('B', ('A',))\n",
            "Queue :deque([('E', ('A',))])\n",
            "Size: 1\n",
            "Iteration 3\n",
            "Current Node: E\n",
            "Head :('E', ('A',))\n",
            "Queue :deque([('C', ('A', 'B')), ('D', ('A', 'B'))])\n",
            "Size: 2\n",
            "Iteration 4\n",
            "Current Node: C\n",
            "Head :('C', ('A', 'B'))\n",
            "Queue :deque([('D', ('A', 'B')), ('F', ('A', 'E')), ('G', ('A', 'E'))])\n",
            "Size: 3\n",
            "Iteration 5\n",
            "Current Node: D\n",
            "Head :('D', ('A', 'B'))\n",
            "Queue :deque([('F', ('A', 'E')), ('G', ('A', 'E'))])\n",
            "Size: 2\n",
            "Iteration 6\n",
            "Current Node: F\n",
            "Head :('F', ('A', 'E'))\n",
            "Queue :deque([('G', ('A', 'E'))])\n",
            "Size: 1\n",
            "Iteration 7\n",
            "Current Node: G\n",
            "Head :('G', ('A', 'E'))\n",
            "Queue :deque([])\n",
            "Size: 0\n",
            "################### Found G\n",
            "# Path: ('A', 'E')\n",
            "('A', 'E', 'G')\n"
          ],
          "name": "stdout"
        }
      ]
    },
    {
      "cell_type": "markdown",
      "metadata": {
        "deletable": false,
        "editable": false,
        "run_control": {
          "frozen": true
        },
        "id": "4XJ7_Aet7HE4"
      },
      "source": [
        "### Exercise"
      ]
    },
    {
      "cell_type": "markdown",
      "metadata": {
        "deletable": false,
        "editable": false,
        "run_control": {
          "frozen": true
        },
        "id": "_zelrpbz7HE4"
      },
      "source": [
        "Apply the both searches to the ```new_graph``` and interpret the resulting paths."
      ]
    }
  ]
}